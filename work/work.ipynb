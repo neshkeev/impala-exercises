{
 "cells": [
  {
   "cell_type": "markdown",
   "id": "3e3422c7-b1dd-471e-bccf-68f6e64cb9ca",
   "metadata": {
    "tags": []
   },
   "source": [
    "# Базовые операции с Apache Impala"
   ]
  },
  {
   "cell_type": "markdown",
   "id": "3b0e2865-450d-4eaa-ae3b-b0a7b44cd984",
   "metadata": {},
   "source": [
    "## Удаление базы данных"
   ]
  },
  {
   "cell_type": "code",
   "execution_count": null,
   "id": "67d4c04e-a63e-4c99-98cf-6582c3ac9c44",
   "metadata": {
    "tags": []
   },
   "outputs": [],
   "source": [
    "impala-shell -i \"${IMPALA_HOST}\" -q \"\n",
    "DROP DATABASE IF EXISTS my_db\n",
    "CASCADE\n",
    "\""
   ]
  },
  {
   "cell_type": "markdown",
   "id": "9bac7ee2-cc88-4ac3-a61b-a3947c08feee",
   "metadata": {},
   "source": [
    "## Создание базы данных"
   ]
  },
  {
   "cell_type": "code",
   "execution_count": null,
   "id": "c8278042-9e54-4165-9096-caf643aa17ac",
   "metadata": {
    "tags": []
   },
   "outputs": [],
   "source": [
    "impala-shell -i \"${IMPALA_HOST}\" -q \"\n",
    "CREATE DATABASE my_db\n",
    "\""
   ]
  },
  {
   "cell_type": "markdown",
   "id": "b2f52923-56b5-45aa-a298-69245d338001",
   "metadata": {},
   "source": [
    "## Создание таблицы"
   ]
  },
  {
   "cell_type": "code",
   "execution_count": null,
   "id": "1b00354d-b8c6-4599-b127-373db47f5ae7",
   "metadata": {
    "tags": []
   },
   "outputs": [],
   "source": [
    "impala-shell -i \"${IMPALA_HOST}\" -q \"\n",
    "CREATE TABLE my_db.my_table (id INT, name STRING)\n",
    "\""
   ]
  },
  {
   "cell_type": "markdown",
   "id": "bb62e82d-d231-451d-b491-0a24539bed05",
   "metadata": {},
   "source": [
    "## Получение информации о таблице"
   ]
  },
  {
   "cell_type": "markdown",
   "id": "f5813aef-480a-4323-b734-62c18023acc8",
   "metadata": {},
   "source": [
    "### Получение информации из `Impala Shell`"
   ]
  },
  {
   "cell_type": "code",
   "execution_count": null,
   "id": "05041986-1b9f-4d8f-a1d4-79623ce76242",
   "metadata": {
    "tags": []
   },
   "outputs": [],
   "source": [
    "impala-shell -i \"${IMPALA_HOST}\" -q \"\n",
    "DESCRIBE my_db.my_table\n",
    "\""
   ]
  },
  {
   "cell_type": "markdown",
   "id": "da880b4b-96ba-4ffa-939b-53fb24a096ef",
   "metadata": {
    "tags": []
   },
   "source": [
    "### Получение информации из `Hive Metastore`"
   ]
  },
  {
   "cell_type": "code",
   "execution_count": null,
   "id": "912abc39-a0af-405c-be08-20810ec7446d",
   "metadata": {
    "tags": []
   },
   "outputs": [],
   "source": [
    "HOST=hive \\\n",
    "new_file /tmp/query.sql <<EOF\n",
    "DESCRIBE my_db.my_table\n",
    "EOF\n",
    "\n",
    "beeline -u \"jdbc:hive2://${HIVE_HOST}:10000/\" -f /tmp/query.sql"
   ]
  },
  {
   "cell_type": "markdown",
   "id": "b5ecb4c0-bf61-4009-bd5f-5655d3fc72e1",
   "metadata": {},
   "source": [
    "## Добавление данных в таблицу"
   ]
  },
  {
   "cell_type": "code",
   "execution_count": null,
   "id": "fde2303a-1336-4e85-8751-486abb5a866c",
   "metadata": {},
   "outputs": [],
   "source": [
    "impala-shell -i \"${IMPALA_HOST}\" -q \"\n",
    "INSERT INTO my_db.my_table (id, name) VALUES(1, 'Hello, World')\n",
    "\""
   ]
  },
  {
   "cell_type": "markdown",
   "id": "27ac7b43-905d-4b21-8a20-90bd3dc71980",
   "metadata": {},
   "source": [
    "## Получение данных из таблицы"
   ]
  },
  {
   "cell_type": "markdown",
   "id": "d3766fc7-6f83-400c-bd27-64eebbd42a78",
   "metadata": {},
   "source": [
    "### Получение данных через `Impala Shell`"
   ]
  },
  {
   "cell_type": "code",
   "execution_count": null,
   "id": "94d653ec-ce12-4e1f-b280-9c8955e456e7",
   "metadata": {},
   "outputs": [],
   "source": [
    "impala-shell -i \"${IMPALA_HOST}\" -q \"\n",
    "SELECT * FROM my_db.my_table\n",
    "\""
   ]
  },
  {
   "cell_type": "markdown",
   "id": "7a19f5b8-28cf-4841-a785-643a99207716",
   "metadata": {
    "tags": []
   },
   "source": [
    "### Получение данных из `Hive Metastore`"
   ]
  },
  {
   "cell_type": "code",
   "execution_count": null,
   "id": "26081898-148c-42bf-a832-d96547c7d030",
   "metadata": {
    "tags": []
   },
   "outputs": [],
   "source": [
    "HOST=hive \\\n",
    "new_file /tmp/query.sql <<EOF\n",
    "SELECT *\n",
    "  FROM my_db.my_table\n",
    "EOF\n",
    "\n",
    "beeline -u \"jdbc:hive2://${HIVE_HOST:-hive}:10000/\" -f /tmp/query.sql"
   ]
  },
  {
   "cell_type": "markdown",
   "id": "29151de4-4432-497c-95f1-febe11829607",
   "metadata": {},
   "source": [
    "## Удаление таблицы"
   ]
  },
  {
   "cell_type": "code",
   "execution_count": null,
   "id": "60e96063-1b91-4b96-952a-e6eb2391ac1e",
   "metadata": {},
   "outputs": [],
   "source": [
    "impala-shell -i \"${IMPALA_HOST}\" -q \"\n",
    "DROP TABLE my_db.my_table\n",
    "\""
   ]
  },
  {
   "cell_type": "markdown",
   "id": "b8b884b0-6651-4dfd-9acf-40536baf8b62",
   "metadata": {},
   "source": [
    "## Удаление базы данных"
   ]
  },
  {
   "cell_type": "code",
   "execution_count": null,
   "id": "4d1de4a5-83e2-41b2-8462-387d7ac6a0e1",
   "metadata": {
    "tags": []
   },
   "outputs": [],
   "source": [
    "impala-shell -i \"${IMPALA_HOST}\" -q \"\n",
    "DROP DATABASE my_db\n",
    "\""
   ]
  },
  {
   "cell_type": "code",
   "execution_count": null,
   "id": "a9c23746-77f5-48c5-8e14-a923a8a375b6",
   "metadata": {},
   "outputs": [],
   "source": []
  }
 ],
 "metadata": {
  "kernelspec": {
   "display_name": "Bash",
   "language": "bash",
   "name": "bash"
  },
  "language_info": {
   "codemirror_mode": "shell",
   "file_extension": ".sh",
   "mimetype": "text/x-sh",
   "name": "bash"
  }
 },
 "nbformat": 4,
 "nbformat_minor": 5
}
