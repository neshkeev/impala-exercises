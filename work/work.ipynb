{
 "cells": [
  {
   "cell_type": "markdown",
   "id": "3e3422c7-b1dd-471e-bccf-68f6e64cb9ca",
   "metadata": {
    "tags": []
   },
   "source": [
    "# Типы данных"
   ]
  },
  {
   "cell_type": "markdown",
   "id": "6de9b965-e844-449d-988e-2b80e5cac272",
   "metadata": {
    "tags": []
   },
   "source": [
    "## Подготовка"
   ]
  },
  {
   "cell_type": "code",
   "execution_count": null,
   "id": "eccd1058-b375-420f-8f87-e2513aa8e998",
   "metadata": {
    "tags": []
   },
   "outputs": [],
   "source": [
    "impala-shell -i \"${IMPALA_HOST}\" -q \"\n",
    "DROP DATABASE IF EXISTS my_db\n",
    "CASCADE\n",
    "\""
   ]
  },
  {
   "cell_type": "code",
   "execution_count": null,
   "id": "71cb3109-4618-41e8-8c75-af993dae90f1",
   "metadata": {
    "tags": []
   },
   "outputs": [],
   "source": [
    "impala-shell -i \"${IMPALA_HOST}\" -q \"\n",
    "CREATE DATABASE my_db\n",
    "\""
   ]
  },
  {
   "cell_type": "markdown",
   "id": "3b0e2865-450d-4eaa-ae3b-b0a7b44cd984",
   "metadata": {
    "tags": []
   },
   "source": [
    "## Строковые типы данных"
   ]
  },
  {
   "cell_type": "markdown",
   "id": "f5576d68-4a51-44da-9d28-d22a5eba63ed",
   "metadata": {},
   "source": [
    "### Создание таблицы с колонками строкового типа"
   ]
  },
  {
   "cell_type": "code",
   "execution_count": null,
   "id": "12133962",
   "metadata": {
    "tags": []
   },
   "outputs": [],
   "source": [
    "impala-shell -i \"${IMPALA_HOST}\" -d my_db -q \"\n",
    "CREATE TABLE my_text_type_table(\n",
    "  string_value STRING,\n",
    "  varchar15_value VARCHAR(15),\n",
    "  char15_value CHAR(15)\n",
    ")\n",
    "\""
   ]
  },
  {
   "cell_type": "markdown",
   "id": "dbd4431f-7d04-44e9-91fd-06c5b4224199",
   "metadata": {},
   "source": [
    "### Добавление строковых данных"
   ]
  },
  {
   "cell_type": "code",
   "execution_count": null,
   "id": "559e1019",
   "metadata": {
    "tags": []
   },
   "outputs": [],
   "source": [
    "impala-shell -i \"${IMPALA_HOST}\" -d my_db -q \"\n",
    "INSERT INTO my_text_type_table\n",
    "WITH records AS (\n",
    "    SELECT 'Hello, World!' text UNION\n",
    "    SELECT 'Привет, мир!' text UNION\n",
    "    SELECT 'Пока' text\n",
    ")\n",
    "SELECT text\n",
    "     , cast(text as VARCHAR(15))\n",
    "     , cast(text as CHAR(15))\n",
    "  FROM records\n",
    "\""
   ]
  },
  {
   "cell_type": "markdown",
   "id": "b77d03e2-3a36-4cc0-9033-3716370c2142",
   "metadata": {},
   "source": [
    "### Проверка вставленных строковых данных"
   ]
  },
  {
   "cell_type": "code",
   "execution_count": null,
   "id": "9ebd22aa",
   "metadata": {
    "tags": []
   },
   "outputs": [],
   "source": [
    "impala-shell -i \"${IMPALA_HOST}\" -d my_db -q \"\n",
    "SELECT *\n",
    "  FROM my_text_type_table\n",
    "\""
   ]
  },
  {
   "cell_type": "markdown",
   "id": "4b4de4f3-23d4-4597-a53a-b0812c8b49b7",
   "metadata": {},
   "source": [
    "### Расследование проблем с отображением строковых данных"
   ]
  },
  {
   "cell_type": "code",
   "execution_count": null,
   "id": "447f6fd1-52ff-4e5f-80e9-605064a963ac",
   "metadata": {
    "tags": []
   },
   "outputs": [],
   "source": [
    "impala-shell -i \"${IMPALA_HOST}\" -d my_db -q \"\n",
    "SELECT string_value str\n",
    "     , length(string_value) str_length\n",
    "     , varchar15_value varchar15\n",
    "     , length(varchar15_value) varchar15_length\n",
    "     , char15_value char15\n",
    "     , length(char15_value) char15_length\n",
    "  FROM my_text_type_table\n",
    "\""
   ]
  },
  {
   "cell_type": "markdown",
   "id": "67a5415a-cab8-4ffb-909a-d5729ed0b614",
   "metadata": {},
   "source": [
    "> **Cимволы на кириллице занимают два байта на символ**"
   ]
  },
  {
   "cell_type": "code",
   "execution_count": null,
   "id": "b899ad99-dbd0-4ca7-b08e-6f9e267797eb",
   "metadata": {
    "tags": []
   },
   "outputs": [],
   "source": [
    "impala-shell -i \"${IMPALA_HOST}\" -q \"\n",
    "WITH chars AS (\n",
    "    SELECT 'П' c\n",
    ")\n",
    "SELECT c original\n",
    "     , cast(c as CHAR(1)) char1\n",
    "     , cast(c as CHAR(2)) char2\n",
    "     , cast(c as VARCHAR(1)) varchar1\n",
    "     , cast(c as VARCHAR(2)) varchar2\n",
    "  FROM chars\n",
    "\""
   ]
  },
  {
   "cell_type": "markdown",
   "id": "bd3a94f0-fb5d-4d5e-92d4-3294fc8eae1e",
   "metadata": {},
   "source": [
    "Проблема с отображением данных заключается в том, что 15 байт не хватает для хранения фразы \"Привет, мир!\", и Impala просто обрезает фразу по границе доступного буффера для `VARCHAR` и `CHAR` типов данных.\n",
    "\n",
    "> `VARCHAR` и `CHAR` сохранят только ту часть данных, которая помещается в буффер, оставшаяся часть будет игнорироваться"
   ]
  },
  {
   "cell_type": "markdown",
   "id": "8ba56abe-faa3-45fb-9cd2-c73f7649cdee",
   "metadata": {},
   "source": [
    "### Максимальный размер `CHAR`"
   ]
  },
  {
   "cell_type": "markdown",
   "id": "df034a97-e20b-4537-8efd-7c8690102567",
   "metadata": {},
   "source": [
    "Формат данных `CHAR` может хранить не больше 255 байт:"
   ]
  },
  {
   "cell_type": "code",
   "execution_count": null,
   "id": "84c4dcbf-6438-4406-ba8f-39e09e20705d",
   "metadata": {
    "tags": []
   },
   "outputs": [],
   "source": [
    "impala-shell -i \"${IMPALA_HOST}\" -q \"\n",
    "SELECT cast('П' as CHAR(256))\n",
    "\" || true"
   ]
  },
  {
   "cell_type": "markdown",
   "id": "5df5fdec-5a41-474e-9827-4677b2c69703",
   "metadata": {},
   "source": [
    "Подобного ограничения нет для `VARCHAR`:"
   ]
  },
  {
   "cell_type": "code",
   "execution_count": null,
   "id": "275111fb-66f8-47f5-82ad-0d9a9b4a1c0c",
   "metadata": {
    "tags": []
   },
   "outputs": [],
   "source": [
    "impala-shell -i \"${IMPALA_HOST}\" -q \"\n",
    "SELECT cast('П' as VARCHAR(256))\n",
    "\" || true"
   ]
  },
  {
   "cell_type": "markdown",
   "id": "1bfef8ec-626e-44fa-bfe8-488614a633e9",
   "metadata": {},
   "source": [
    "### Выводы"
   ]
  },
  {
   "cell_type": "markdown",
   "id": "fef38e21-b849-40be-9135-c0e17c3fc5ec",
   "metadata": {
    "tags": []
   },
   "source": [
    "1. Тип `STRING` является универсальным при работе со строковыми данными;\n",
    "1. Типы `VARCHAR` и `CHAR` желательно избегать в силу их молчаливого поведения при сохранении данных, превышающих выделенный буффер;\n",
    "1. Строковые типы данных работают с байтами, а не с символами."
   ]
  },
  {
   "cell_type": "markdown",
   "id": "d26a5ce7-e1b3-43bf-8eaf-6d945590c1e5",
   "metadata": {},
   "source": [
    "### Функции для работы со строковыми типами данных"
   ]
  },
  {
   "cell_type": "markdown",
   "id": "d557e4fe-fb64-4f0a-84b8-c35fa5e4ae9b",
   "metadata": {},
   "source": [
    "#### Длина строки"
   ]
  },
  {
   "cell_type": "markdown",
   "id": "a2af0bd6-0b6b-4d98-83fa-16c6831dd6de",
   "metadata": {},
   "source": [
    "Вычисление длины текстовых данных можно выполнить при помощи функции `LENGTH`:"
   ]
  },
  {
   "cell_type": "code",
   "execution_count": null,
   "id": "7023cbac-5d6d-45cb-97d0-858fdeeb02ae",
   "metadata": {
    "tags": []
   },
   "outputs": [],
   "source": [
    "impala-shell -i \"${IMPALA_HOST}\" -q \"\n",
    "WITH chars AS (\n",
    "    SELECT 'Hello' c\n",
    ")\n",
    "SELECT c\n",
    "     , LENGTH(c) content_length\n",
    "  FROM chars\n",
    "\""
   ]
  },
  {
   "cell_type": "markdown",
   "id": "9801b109-21e4-4c03-96ef-1cf31d235680",
   "metadata": {},
   "source": [
    "При использовании `CHAR` строка дополняется пробелами справа, чтобы заполнить выделенный буффер, поэтому для `CHAR` существует две функции вычисления длины:\n",
    "\n",
    "1. `LENGTH` - длина без пробелов,\n",
    "1. `CHAR_LENGTH` - длина с пробелами."
   ]
  },
  {
   "cell_type": "code",
   "execution_count": null,
   "id": "c8463528-c8cb-4e9a-9ad8-30810159b37b",
   "metadata": {
    "tags": []
   },
   "outputs": [],
   "source": [
    "impala-shell -i \"${IMPALA_HOST}\" -q \"\n",
    "WITH chars AS (\n",
    "    SELECT cast('hello' as CHAR(10)) c_no_ws UNION ALL\n",
    "    SELECT cast('hello ' as CHAR(10)) UNION ALL\n",
    "    SELECT cast(' hello' as CHAR(10))\n",
    ")\n",
    "SELECT c_no_ws\n",
    "     , LENGTH(c_no_ws) content_length\n",
    "     , CHAR_LENGTH(c_no_ws) full_length\n",
    "  FROM chars\n",
    "\""
   ]
  },
  {
   "cell_type": "markdown",
   "id": "3567a4d4-9d4f-463f-bdd5-c9d07d6b69e9",
   "metadata": {},
   "source": [
    "#### Соединение строк"
   ]
  },
  {
   "cell_type": "markdown",
   "id": "048f2902-69da-4d61-8ea4-9421dc64eb8e",
   "metadata": {},
   "source": [
    "Соединить строки можно при помощи:\n",
    "\n",
    "- функции `CONCAT`,\n",
    "- оператора `||`."
   ]
  },
  {
   "cell_type": "code",
   "execution_count": null,
   "id": "4b26d618-9c22-448a-8b07-713db8a582b4",
   "metadata": {
    "tags": []
   },
   "outputs": [],
   "source": [
    "impala-shell -i \"${IMPALA_HOST}\" -d my_db -q \"\n",
    "WITH words AS (\n",
    "    SELECT 'Hello' hello\n",
    ")\n",
    "SELECT CONCAT(hello, ', ', 'World', '!') concat_func\n",
    "     , hello || ', ' || 'World' || '!' concat_operator\n",
    "  FROM words;\n",
    "\""
   ]
  },
  {
   "cell_type": "markdown",
   "id": "c71495d0-293c-418e-8fa0-a863f9385706",
   "metadata": {},
   "source": [
    "#### Соединение строк с разделителем"
   ]
  },
  {
   "cell_type": "markdown",
   "id": "00f03c8a-05ec-4c75-a9cb-6599a21a6334",
   "metadata": {},
   "source": [
    "Функция `concat_ws` позволяет указать разделитель при соединении строк"
   ]
  },
  {
   "cell_type": "code",
   "execution_count": null,
   "id": "a3bab6fd-3d77-4a0c-a4b2-cabc707b47aa",
   "metadata": {
    "tags": []
   },
   "outputs": [],
   "source": [
    "impala-shell -i \"${IMPALA_HOST}\" -d my_db -q \"\n",
    "WITH words AS (\n",
    "    SELECT 'Hello' hello\n",
    ")\n",
    "SELECT CONCAT_WS('|', hello, ', ', 'World', '!') concat_ws_bar\n",
    "     , CONCAT_WS('<-РАЗДЕЛИТЕЛЬ->', hello, ', ', 'World', '!') concat_ws_text\n",
    "  FROM words;\n",
    "\""
   ]
  },
  {
   "cell_type": "markdown",
   "id": "a8e609a8-1059-4153-81ae-4cb3386effe6",
   "metadata": {},
   "source": [
    "#### Выбор подстроки"
   ]
  },
  {
   "cell_type": "markdown",
   "id": "2a18c35b-9a52-4c09-9521-82b757b22e30",
   "metadata": {},
   "source": [
    "Функция `SUBSTR` позволяет выбрать из строки подстроку указанной длины, начиная с указанной позиции:"
   ]
  },
  {
   "cell_type": "code",
   "execution_count": null,
   "id": "dd9cf040-7b7b-429a-80b6-9e9c809991ae",
   "metadata": {
    "tags": []
   },
   "outputs": [],
   "source": [
    "impala-shell -i \"${IMPALA_HOST}\" -d my_db -q \"\n",
    "WITH words AS (\n",
    "    SELECT 'Hello, World!' hello_world\n",
    ")\n",
    "SELECT hello_world\n",
    "     , SUBSTR(hello_world, LENGTH('Hello,'), 7) substr_func\n",
    "     , SUBSTR(hello_world, LENGTH('Hello,'), 500) substr_func_length_max\n",
    "     , SUBSTR(hello_world, LENGTH('Hello,')) substr_func_length_max\n",
    "  FROM words;\n",
    "\""
   ]
  },
  {
   "cell_type": "markdown",
   "id": "36bd458d-5547-4b13-af34-6c6a3f07da90",
   "metadata": {},
   "source": [
    "#### Поиск подстроки"
   ]
  },
  {
   "cell_type": "markdown",
   "id": "8f8e92cc-0414-4d3f-862a-93116fbfb19d",
   "metadata": {},
   "source": [
    "Функция `INSTR` позволяет найти индекс в строке, с которого начинается подстрока:"
   ]
  },
  {
   "cell_type": "code",
   "execution_count": null,
   "id": "90b0d6ed-cd13-46df-927a-87dfc7e741f4",
   "metadata": {
    "tags": []
   },
   "outputs": [],
   "source": [
    "impala-shell -i \"${IMPALA_HOST}\" -d my_db -q \"\n",
    "WITH words AS (\n",
    "    SELECT 'Hello, World' hello_world\n",
    ")\n",
    "SELECT hello_world\n",
    "     , INSTR(hello_world, 'o') instr_first_index\n",
    "     , INSTR(hello_world, 'o', 6) instr_second_index\n",
    "     , INSTR(hello_world, 'o', 1, 2) instr_second_occurrence_index\n",
    "     , INSTR(hello_world, 'xxx', 1, 2) instr_second_occurrence_index\n",
    "  FROM words;\n",
    "\""
   ]
  },
  {
   "cell_type": "markdown",
   "id": "7f63ecad-c60d-4976-ba46-08c1c6bfb8b0",
   "metadata": {},
   "source": [
    "#### Заполнение строки"
   ]
  },
  {
   "cell_type": "markdown",
   "id": "1415b0ac-7cb0-4a57-a41e-0d7fab50eaf0",
   "metadata": {},
   "source": [
    "Функции `RPAD` и `LPAD` позволяет добавить указанную строку в оригинальную строку несколько раз, чтобы общая длина итоговой строки стала равной указанной длине:"
   ]
  },
  {
   "cell_type": "code",
   "execution_count": null,
   "id": "c36ac0ae-24e6-45a5-8119-183be4ed9cac",
   "metadata": {
    "tags": []
   },
   "outputs": [],
   "source": [
    "impala-shell -i \"${IMPALA_HOST}\" -d my_db -q \"\n",
    "WITH words AS (\n",
    "    SELECT 'Hello' hello\n",
    ")\n",
    "SELECT hello\n",
    "     , RPAD(hello, 20, '>/-+') rpad_gt\n",
    "     , LPAD(hello, 20, '+-/<') lpad_lt\n",
    "  FROM words;\n",
    "\""
   ]
  },
  {
   "cell_type": "markdown",
   "id": "24c11105-11f8-4896-a385-71083ca431ed",
   "metadata": {},
   "source": [
    "#### Сокращение строки"
   ]
  },
  {
   "cell_type": "markdown",
   "id": "b345f6ed-9f26-446e-8ea1-02dbb685a0b8",
   "metadata": {},
   "source": [
    "Функции `TRIM`, `RRIM` и `LTRIM` удалить лидирующие, хвостовые и пробелы вокруг строки:"
   ]
  },
  {
   "cell_type": "code",
   "execution_count": null,
   "id": "369092a8-d6bd-4d61-80c0-3dd65b2a75d8",
   "metadata": {
    "tags": []
   },
   "outputs": [],
   "source": [
    "impala-shell -i \"${IMPALA_HOST}\" -d my_db -q \"\n",
    "WITH words AS (\n",
    "    SELECT 'Hello' hello\n",
    "         , '    Hello    ' hello_ws\n",
    "         , '\\n\\tHello\\n\\t    ' hello_lf_tab\n",
    ")\n",
    "SELECT hello_ws\n",
    "     , '<' || TRIM(hello_ws) || '>' hello_ws_trimmed\n",
    "     , '<' || LTRIM(hello_ws) || '>' hello_ws_ltrimmed\n",
    "     , '<' || RTRIM(hello_ws) || '>' hello_ws_rtrimmed\n",
    "  FROM words;\n",
    "\""
   ]
  },
  {
   "cell_type": "markdown",
   "id": "425d9f67-575b-4df3-a736-b0c735c565cf",
   "metadata": {},
   "source": [
    "Также можно указать, какие символы вместо пробелов необходимо удалить:"
   ]
  },
  {
   "cell_type": "code",
   "execution_count": null,
   "id": "b1dc088d-0862-43d7-80f5-50d9093a9337",
   "metadata": {
    "tags": []
   },
   "outputs": [],
   "source": [
    "impala-shell -i \"${IMPALA_HOST}\" -d my_db -q \"\n",
    "WITH words AS (\n",
    "    SELECT 'Hello' hello\n",
    ")\n",
    "SELECT '<' || hello || '>' hello\n",
    "     , '<' || LTRIM(hello, 'He') || '>' hello_ltrimmed_he\n",
    "     , '<' || RTRIM(hello, 'ol') || '>' hello_rtrimmed_ol\n",
    "  FROM words;\n",
    "\""
   ]
  },
  {
   "cell_type": "markdown",
   "id": "9a12daef-86b1-40ad-a546-879e0f2a09f9",
   "metadata": {},
   "source": [
    "Символы табуляции (`\\t`) и перевода строки (`\\n`) не являются пробельными с точки зрения Impala, поэтому необходимо явно их удалить при необходимости:"
   ]
  },
  {
   "cell_type": "code",
   "execution_count": null,
   "id": "2ec746bd-d8f4-4238-9d12-6809c4207a40",
   "metadata": {
    "tags": []
   },
   "outputs": [],
   "source": [
    "impala-shell -i \"${IMPALA_HOST}\" -d my_db -q \"\n",
    "WITH words AS (\n",
    "    SELECT '\\n  \\tHello\\n\\t    ' hello_lf_tab\n",
    ")\n",
    "SELECT '<' || hello_lf_tab || '>' c\n",
    "     , '<' || TRIM(hello_lf_tab) || '>' hello_lf_tab_trimmed\n",
    "     , '<' || LTRIM(hello_lf_tab, '\\n\\t ') || '>' hello_lf_tab_trimmed\n",
    "     , '<' || RTRIM(hello_lf_tab, '\\n\\t ') || '>' hello_lf_tab_trimmed\n",
    "  FROM words;\n",
    "\""
   ]
  },
  {
   "cell_type": "markdown",
   "id": "801592da-8258-4ab4-a05b-dfcf29df35cd",
   "metadata": {},
   "source": [
    "#### Изменение регистра"
   ]
  },
  {
   "cell_type": "markdown",
   "id": "2a106bd5-8f90-4c7a-a5be-8b9f7f7579ed",
   "metadata": {},
   "source": [
    "Функции `LOWER` и `UPPER` используются для перевода всех символов в нижний или верхний регистр соответственно:"
   ]
  },
  {
   "cell_type": "code",
   "execution_count": null,
   "id": "8db38f35-ba9f-4626-a135-c95c9d9ab998",
   "metadata": {
    "tags": []
   },
   "outputs": [],
   "source": [
    "impala-shell -i \"${IMPALA_HOST}\" -d my_db -q \"\n",
    "WITH words AS (\n",
    "    SELECT 'HeLlo, WorlD!' hello_world UNION\n",
    "    SELECT 'ПриВет, МиР!'\n",
    ")\n",
    "SELECT hello_world\n",
    "     , LOWER(hello_world) lower_hello\n",
    "     , UPPER(hello_world) upper_hello\n",
    "  FROM words;\n",
    "\""
   ]
  },
  {
   "cell_type": "markdown",
   "id": "cf584ce3-cc81-4903-9bdf-a1f4eb2a45fb",
   "metadata": {},
   "source": [
    "#### Обращение порядка символов строки"
   ]
  },
  {
   "cell_type": "markdown",
   "id": "42aaaeb7-1fc1-4d1f-88f3-ff3b62a3dff9",
   "metadata": {},
   "source": [
    "Функция `REVERSE` меняет порядок следования символов в строке: первый становится последним и последний первым:"
   ]
  },
  {
   "cell_type": "code",
   "execution_count": null,
   "id": "383eb9f2-7f4c-4d80-9755-77a49f630900",
   "metadata": {
    "tags": []
   },
   "outputs": [],
   "source": [
    "impala-shell -i \"${IMPALA_HOST}\" -d my_db -q \"\n",
    "WITH words AS (\n",
    "    SELECT '- Hello, World!' hello_world\n",
    ")\n",
    "SELECT hello_world\n",
    "     , REVERSE(hello_world) reversed\n",
    "  FROM words;\n",
    "\""
   ]
  },
  {
   "cell_type": "markdown",
   "id": "f2fd09eb-1bb1-4237-af38-237e109408b2",
   "metadata": {},
   "source": [
    "### Поддержка Unicode"
   ]
  },
  {
   "cell_type": "markdown",
   "id": "20854dbf-a163-49b7-bc2a-012ea88cd324",
   "metadata": {},
   "source": [
    "Impala работает с текстом как с массивом байт, где один символ занимает один байт. Если использовать текст с символами не из ASCII таблицы (многобайтовые кодировки, UTF-8), то могут возникнуть проблемы:"
   ]
  },
  {
   "cell_type": "markdown",
   "id": "ce57d64a-14c6-459c-a433-198052164c4c",
   "metadata": {
    "tags": []
   },
   "source": [
    "Следующий запрос показывает, что длина кириллического символа `п`, занимает 2 байта:"
   ]
  },
  {
   "cell_type": "code",
   "execution_count": null,
   "id": "022a9fea-f414-4d93-8da9-dc09e32eb3df",
   "metadata": {
    "tags": []
   },
   "outputs": [],
   "source": [
    "impala-shell -i \"${IMPALA_HOST}\" -d my_db -q \"\n",
    "WITH chars AS (\n",
    "    SELECT 'п' str\n",
    "         , CAST('п' AS VARCHAR(5)) vchr\n",
    "         , CAST('п' AS CHAR(5)) chr\n",
    ")\n",
    "SELECT LENGTH(str)\n",
    "     , CHAR_LENGTH(str)\n",
    "     , LENGTH(vchr)\n",
    "     , CHAR_LENGTH(vchr)\n",
    "     , LENGTH(chr)\n",
    "     , CHAR_LENGTH(chr)\n",
    "  FROM chars\n",
    "\""
   ]
  },
  {
   "cell_type": "markdown",
   "id": "c5c6ddad-8e00-4a6a-ac47-b39cd08960ba",
   "metadata": {},
   "source": [
    "Для корректной работы с символами, находящимися за пределами ASCII таблицы необходимо активировать режим UTF8, при этом тип данных `CHAR` все равно работает некорректно:"
   ]
  },
  {
   "cell_type": "code",
   "execution_count": null,
   "id": "b9bec975-7eee-4140-9484-e4285bbe751c",
   "metadata": {
    "tags": []
   },
   "outputs": [],
   "source": [
    "impala-shell -i \"${IMPALA_HOST}\" -d my_db -q \"\n",
    "SET UTF8_MODE=true;\n",
    "\n",
    "WITH chars AS (\n",
    "    SELECT 'п' str\n",
    "         , CAST('п' AS VARCHAR(5)) vchr\n",
    "         , CAST('п' AS CHAR(5)) chr\n",
    ")\n",
    "SELECT LENGTH(str)\n",
    "     , CHAR_LENGTH(str)\n",
    "     , LENGTH(vchr)\n",
    "     , CHAR_LENGTH(vchr)\n",
    "     , LENGTH(chr)\n",
    "     , CHAR_LENGTH(chr)\n",
    "  FROM chars\n",
    "\""
   ]
  },
  {
   "cell_type": "markdown",
   "id": "97be39e7-5b4b-4b37-978b-cd16428d2a9f",
   "metadata": {},
   "source": [
    "Функция `SUBSTR` также рабоатет с байтами по умолчанию:"
   ]
  },
  {
   "cell_type": "code",
   "execution_count": null,
   "id": "fadbf898-ad84-42bd-a928-dd2f2d72dbdc",
   "metadata": {
    "tags": []
   },
   "outputs": [],
   "source": [
    "impala-shell -i \"${IMPALA_HOST}\" -d my_db -q \"\n",
    "SET UTF8_MODE=false; -- по умолчанию\n",
    "\n",
    "WITH chars AS (\n",
    "    SELECT 'привет' str\n",
    "         , CAST('привет' AS VARCHAR(20)) vchr\n",
    "         , CAST('привет' AS CHAR(20)) chr\n",
    ")\n",
    "SELECT str\n",
    "     , SUBSTR(str, 2) sub_str_2\n",
    "     , SUBSTR(str, 3) sub_str_3\n",
    "     , SUBSTR(vchr, 2) sub_vchr_2\n",
    "     , SUBSTR(vchr, 3) sub_vchr_3\n",
    "     , SUBSTR(chr, 2) sub_chr_2\n",
    "     , SUBSTR(chr, 3) sub_chr_3\n",
    "  FROM chars\n",
    "\""
   ]
  },
  {
   "cell_type": "markdown",
   "id": "6d937937-70c8-4a2f-b11b-37c53089d726",
   "metadata": {},
   "source": [
    "Активация режима UTF8 позволяет заставляет функцию `SUBSTR` работать с символами:"
   ]
  },
  {
   "cell_type": "code",
   "execution_count": null,
   "id": "a2815404-080c-4a1f-a0d5-61ea62d7e27b",
   "metadata": {
    "tags": []
   },
   "outputs": [],
   "source": [
    "impala-shell -i \"${IMPALA_HOST}\" -d my_db -q \"\n",
    "SET UTF8_MODE=true;\n",
    "\n",
    "WITH chars AS (\n",
    "    SELECT 'привет' str\n",
    "         , CAST('привет' AS VARCHAR(20)) vchr\n",
    "         , CAST('привет' AS CHAR(20)) chr\n",
    ")\n",
    "SELECT str\n",
    "     , SUBSTR(str, 2) sub_str_2\n",
    "     , SUBSTR(str, 3) sub_str_3\n",
    "     , SUBSTR(vchr, 2) sub_vchr_2\n",
    "     , SUBSTR(vchr, 3) sub_vchr_3\n",
    "     , SUBSTR(chr, 2) sub_chr_2\n",
    "     , SUBSTR(chr, 3) sub_chr_3\n",
    "  FROM chars\n",
    "\""
   ]
  },
  {
   "cell_type": "markdown",
   "id": "b76d7324-6947-424f-a709-577f12c78031",
   "metadata": {},
   "source": [
    "Результат вызова функции `REVERSE` на строках с многобайтовыми кодировками ставновится совсем непонятным, т.к. функция меняет порядок байт даже в рамках одного символа:"
   ]
  },
  {
   "cell_type": "code",
   "execution_count": null,
   "id": "15c6be5e-9bc4-4189-b222-919653144eff",
   "metadata": {
    "tags": []
   },
   "outputs": [],
   "source": [
    "impala-shell -i \"${IMPALA_HOST}\" -d my_db -q \"\n",
    "SET UTF8_MODE=false;\n",
    "\n",
    "WITH chars AS (\n",
    "    SELECT '-привет--' str\n",
    "         , CAST('-привет--' AS VARCHAR(20)) vchr\n",
    "         , CAST('-привет--' AS CHAR(20)) chr\n",
    ")\n",
    "SELECT str\n",
    "     , REVERSE(str) sub_str\n",
    "     , REVERSE(vchr) sub_vchr\n",
    "     , REVERSE(chr) sub_chr\n",
    "  FROM chars\n",
    "\""
   ]
  },
  {
   "cell_type": "markdown",
   "id": "aa406a21-2adb-4e91-ac92-fca16652126a",
   "metadata": {},
   "source": [
    "Активация режима UTF8 позволяет заставляет функцию `REVERSE` исправляет ситуацию:"
   ]
  },
  {
   "cell_type": "code",
   "execution_count": null,
   "id": "30ff8509-3dd5-43a7-9e26-870b5e5d2262",
   "metadata": {
    "tags": []
   },
   "outputs": [],
   "source": [
    "impala-shell -i \"${IMPALA_HOST}\" -d my_db -q \"\n",
    "SET UTF8_MODE=true;\n",
    "\n",
    "WITH chars AS (\n",
    "    SELECT '-привет--' str\n",
    "         , CAST('-привет--' AS VARCHAR(20)) vchr\n",
    "         , CAST('-привет--' AS CHAR(20)) chr\n",
    ")\n",
    "SELECT str\n",
    "     , REVERSE(str) rev_str\n",
    "     , REVERSE(vchr) rev_vchr\n",
    "     , REVERSE(chr) rev_chr\n",
    "  FROM chars\n",
    "\""
   ]
  },
  {
   "cell_type": "markdown",
   "id": "7fb74139-a071-429b-8572-d756e9f62559",
   "metadata": {},
   "source": [
    "Функция `INSTR` не работает корректно с символами за пределами ASCII таблицы:"
   ]
  },
  {
   "cell_type": "code",
   "execution_count": null,
   "id": "af8c5f80-8348-4ba1-9387-2d059195cdcb",
   "metadata": {
    "tags": []
   },
   "outputs": [],
   "source": [
    "impala-shell -i \"${IMPALA_HOST}\" -d my_db -q \"\n",
    "SET UTF8_MODE=false;\n",
    "\n",
    "WITH chars AS (\n",
    "    SELECT 'привет' str\n",
    "         , CAST('привет' AS VARCHAR(20)) vchr\n",
    "         , CAST('привет' AS CHAR(20)) chr\n",
    ")\n",
    "SELECT str\n",
    "     , INSTR(str, 'вет') instr_str\n",
    "     , INSTR(vchr, 'вет') instr_vchr\n",
    "     , INSTR(chr, 'вет') instr_chr\n",
    "  FROM chars\n",
    "\""
   ]
  },
  {
   "cell_type": "markdown",
   "id": "71a7e9cb-9a94-4927-ad4d-98697b3478a4",
   "metadata": {},
   "source": [
    "даже с учетом активации режима UTF8:"
   ]
  },
  {
   "cell_type": "code",
   "execution_count": null,
   "id": "e4270f64-d131-43e8-a72d-c3d80c91d767",
   "metadata": {
    "tags": []
   },
   "outputs": [],
   "source": [
    "impala-shell -i \"${IMPALA_HOST}\" -d my_db -q \"\n",
    "SET UTF8_MODE=true;\n",
    "\n",
    "WITH chars AS (\n",
    "    SELECT 'привет' str\n",
    "         , CAST('привет' AS VARCHAR(20)) vchr\n",
    "         , CAST('привет' AS CHAR(20)) chr\n",
    ")\n",
    "SELECT str\n",
    "     , INSTR(str, 'вет') instr_str\n",
    "     , INSTR(vchr, 'вет') instr_vchr\n",
    "     , INSTR(chr, 'вет') instr_chr\n",
    "  FROM chars\n",
    "\""
   ]
  },
  {
   "cell_type": "markdown",
   "id": "9021311e-8f1c-4887-bce8-69a82198e57b",
   "metadata": {
    "tags": []
   },
   "source": [
    "Apache Impala предупреждает, что активация UTF8 может снизить производительность запросов, поэтому необходимо активировать режим UTF8 по необходимости."
   ]
  },
  {
   "cell_type": "markdown",
   "id": "dc0b1ccb-8e6a-42f4-88d5-9ec0bd72ec31",
   "metadata": {
    "tags": []
   },
   "source": [
    "## Числовые типы данных"
   ]
  },
  {
   "cell_type": "markdown",
   "id": "90c3fc62-26c7-4708-88d8-092018fa0fef",
   "metadata": {},
   "source": [
    "В Impala существуют следующие числовые типы данных:\n",
    "\n",
    "| Тип     | Название   | Размер  | Область определения             |\n",
    "|---------|------------|---------|---------------------------------|\n",
    "| Целый   | `TYNIINT`  | 1 байт  | [-128; 127]                     |\n",
    "| Целый   | `SMALLINT` | 2 байта | [$-2^{15}$; $2^{15} - 1$]       |\n",
    "| Целый   | `INT`      | 4 байта | [$-2^{31}$; $2^{31} - 1$]       |\n",
    "| Целый   | `BIGINT`   | 8 байт  | [$-2^{63}$; $2^{63} - 1$]       |\n",
    "| Дробный (плавающая точка) | `FLOAT`    | 4 байта | [$-1.4e^{45}$; $3.4e^{38}$]     |\n",
    "| Дробный (плавающая точка) | `DOUBLE`   | 8 байт  | [$-4.94e^{324}$; $1.79e^{308}$] |\n",
    "| Дробный (фиксированная точка)| `DOUBLE`   | 4-16 байт  | [$-10^{38} + 1$; $10^{38} –1$]  |"
   ]
  },
  {
   "cell_type": "markdown",
   "id": "14e52944-26b5-4906-a328-46ea574c1665",
   "metadata": {},
   "source": [
    "Impala автоматически выбирает тип в зависимости от размера значения (обратите внимание на ошибку `ERROR: AnalysisException: Invalid type cast of...`):"
   ]
  },
  {
   "cell_type": "code",
   "execution_count": null,
   "id": "5e2b280d-aa59-449e-8e84-2ea2aa5581b8",
   "metadata": {
    "tags": []
   },
   "outputs": [],
   "source": [
    "impala-shell -i \"${IMPALA_HOST}\" -q \"\n",
    "SELECT cast(1 as date)\n",
    "\" || true"
   ]
  },
  {
   "cell_type": "code",
   "execution_count": null,
   "id": "ec55b2fd-b893-4039-ab95-9ca9ff528337",
   "metadata": {
    "tags": []
   },
   "outputs": [],
   "source": [
    "impala-shell -i \"${IMPALA_HOST}\" -q \"\n",
    "SELECT cast(128 as date)\n",
    "\" || true"
   ]
  },
  {
   "cell_type": "code",
   "execution_count": null,
   "id": "36a0277f-5046-443e-8a31-6fc388a29362",
   "metadata": {
    "tags": []
   },
   "outputs": [],
   "source": [
    "impala-shell -i \"${IMPALA_HOST}\" -q \"\n",
    "SELECT cast(32768 as date)\n",
    "\" || true"
   ]
  },
  {
   "cell_type": "code",
   "execution_count": null,
   "id": "76afd748-bace-4cc6-a461-7981b9a96f09",
   "metadata": {
    "tags": []
   },
   "outputs": [],
   "source": [
    "impala-shell -i \"${IMPALA_HOST}\" -q \"\n",
    "SELECT cast(2147483648 as date)\n",
    "\" || true"
   ]
  },
  {
   "cell_type": "code",
   "execution_count": null,
   "id": "d07324de-23f5-43aa-9d76-a578a0c90213",
   "metadata": {
    "tags": []
   },
   "outputs": [],
   "source": [
    "impala-shell -i \"${IMPALA_HOST}\" -q \"\n",
    "SELECT cast(9223372036854775808 as date)\n",
    "\" || true"
   ]
  },
  {
   "cell_type": "markdown",
   "id": "0d230e5a-471c-4c83-b5f2-3a0eb947f4f9",
   "metadata": {
    "tags": []
   },
   "source": [
    "Значения за пределами `DOUBLE` автоматически становятся равными бесконечности (`INF`):"
   ]
  },
  {
   "cell_type": "code",
   "execution_count": null,
   "id": "d3c87f4d-e88c-4de3-a578-f3b5e6bde69b",
   "metadata": {
    "tags": []
   },
   "outputs": [],
   "source": [
    "impala-shell -i \"${IMPALA_HOST}\" -q \"\n",
    "SELECT POW(10, 309)\n",
    "\""
   ]
  },
  {
   "cell_type": "markdown",
   "id": "7259a77a-e2c3-4920-bdd2-f85f37b52ccb",
   "metadata": {},
   "source": [
    "### Функции для работы с чилами"
   ]
  },
  {
   "cell_type": "code",
   "execution_count": null,
   "id": "261ece45-b82a-449f-b0e6-d85183d25a67",
   "metadata": {
    "tags": []
   },
   "outputs": [],
   "source": [
    "impala-shell -i \"${IMPALA_HOST}\" -q \"\n",
    "SELECT abs(-10) absolute\n",
    "\""
   ]
  },
  {
   "cell_type": "code",
   "execution_count": null,
   "id": "98f02672-d08b-4364-9d4e-f51dfcce1185",
   "metadata": {
    "tags": []
   },
   "outputs": [],
   "source": [
    "impala-shell -i \"${IMPALA_HOST}\" -q \"\n",
    "SELECT ROUND(3.1415926, 2) pi\n",
    "\""
   ]
  },
  {
   "cell_type": "code",
   "execution_count": null,
   "id": "f115b896-4520-4ee1-898f-3d927e183002",
   "metadata": {
    "tags": []
   },
   "outputs": [],
   "source": [
    "impala-shell -i \"${IMPALA_HOST}\" -q \"\n",
    "SELECT CEIL(3.1415926) pi\n",
    "\""
   ]
  },
  {
   "cell_type": "code",
   "execution_count": null,
   "id": "7e6352dc-32bb-4e3b-894a-7d6ca2b7fc8c",
   "metadata": {
    "tags": []
   },
   "outputs": [],
   "source": [
    "impala-shell -i \"${IMPALA_HOST}\" -q \"\n",
    "SELECT FLOOR(3.1415926) pi\n",
    "\""
   ]
  },
  {
   "cell_type": "code",
   "execution_count": null,
   "id": "241c48fc-4b8a-4cb3-ab86-bae331662c4a",
   "metadata": {
    "tags": []
   },
   "outputs": [],
   "source": [
    "impala-shell -i \"${IMPALA_HOST}\" -q \"\n",
    "SELECT SQRT(3.1415926) pi\n",
    "\""
   ]
  },
  {
   "cell_type": "code",
   "execution_count": null,
   "id": "6ebda790-3f96-4e35-a451-55d3b6470ca0",
   "metadata": {
    "tags": []
   },
   "outputs": [],
   "source": [
    "impala-shell -i \"${IMPALA_HOST}\" -q \"\n",
    "SELECT RAND()\n",
    "\""
   ]
  },
  {
   "cell_type": "code",
   "execution_count": null,
   "id": "eed3c0e7-538b-440e-95f1-0bc9f345ab7b",
   "metadata": {
    "tags": []
   },
   "outputs": [],
   "source": [
    "impala-shell -i \"${IMPALA_HOST}\" -q \"\n",
    "SELECT RAND(42)\n",
    "\""
   ]
  },
  {
   "cell_type": "markdown",
   "id": "fe510931-3a2a-480f-9414-e89d09a4cf5e",
   "metadata": {
    "tags": []
   },
   "source": [
    "## Темпоральные типы данных"
   ]
  },
  {
   "cell_type": "markdown",
   "id": "85ab4a1b-d224-43c8-b232-50eb298be255",
   "metadata": {},
   "source": [
    "Для работы с датами существуют два типа данных:\n",
    "\n",
    "| Название    | Размер  | Область определения                                                   |\n",
    "|-------------|---------|-----------------------------------------------------------------------|\n",
    "| `DATE`      | 4 байта | [`0001-01-01`; `9999-12-31`]                                          |\n",
    "| `TIMESTAMP` | 2 байта | [`1400-01-01 00:00:00.000000000`; `9999-12-31 23:59:59.999999999`]    |"
   ]
  },
  {
   "cell_type": "code",
   "execution_count": null,
   "id": "162d16b6-f8a5-413e-8225-bfae2bd4f770",
   "metadata": {
    "tags": []
   },
   "outputs": [],
   "source": [
    "impala-shell -i \"${IMPALA_HOST}\" -q \"\n",
    "SELECT DATE '2013-01-01' dt\n",
    "\""
   ]
  },
  {
   "cell_type": "code",
   "execution_count": null,
   "id": "3ff6b669-3992-46f5-a720-facfab1494ab",
   "metadata": {
    "tags": []
   },
   "outputs": [],
   "source": [
    "impala-shell -i \"${IMPALA_HOST}\" -q \"\n",
    "SELECT CAST('2013-01-01' as DATE) dt\n",
    "     , CAST('2013-01-01     00:05:15.01' as TIMESTAMP) ts\n",
    "     , CAST('2001-01-09T01:05:01.13' AS TIMESTAMP) ts_T_separator\n",
    "     , CAST(60 AS TIMESTAMP) one_minute_after_start_of_epoch\n",
    "\""
   ]
  },
  {
   "cell_type": "code",
   "execution_count": null,
   "id": "a387b9d6-5346-476b-bcc7-e517288080da",
   "metadata": {
    "tags": []
   },
   "outputs": [],
   "source": [
    "impala-shell -i \"${IMPALA_HOST}\" -q \"\n",
    "SELECT CURRENT_DATE() dt\n",
    "     , CURRENT_TIMESTAMP() ts\n",
    "\""
   ]
  },
  {
   "cell_type": "code",
   "execution_count": null,
   "id": "f0d07c7b-d80d-4f16-ae23-095d77be9008",
   "metadata": {
    "tags": []
   },
   "outputs": [],
   "source": [
    "impala-shell -i \"${IMPALA_HOST}\" -q \"\n",
    "SELECT CAST(CURRENT_DATE() as TIMESTAMP) ts\n",
    "     , CAST(CURRENT_TIMESTAMP() as DATE) dt\n",
    "\""
   ]
  },
  {
   "cell_type": "markdown",
   "id": "bd4c4e3a-92c1-4a59-8bc7-ab7bb348423e",
   "metadata": {
    "tags": []
   },
   "source": [
    "### Функции для работы с датами"
   ]
  },
  {
   "cell_type": "markdown",
   "id": "a574284b-f90d-4e85-a433-4ea58e5fa749",
   "metadata": {
    "tags": []
   },
   "source": [
    "#### Арифметика на датах"
   ]
  },
  {
   "cell_type": "code",
   "execution_count": null,
   "id": "8fcf2acc-87d2-437c-9a1e-990fe4bdd5e2",
   "metadata": {
    "tags": []
   },
   "outputs": [],
   "source": [
    "impala-shell -i \"${IMPALA_HOST}\" -q \"\n",
    "SELECT DATE_ADD(CURRENT_DATE(), INTERVAL 1 MONTH) add_one_month\n",
    "     , DATE_SUB(CURRENT_DATE(), INTERVAL 1 MONTH) sub_one_month\n",
    "     , DATEDIFF('2021-01-01', '2022-01-01')\n",
    "\""
   ]
  },
  {
   "cell_type": "markdown",
   "id": "ba690126-6c3e-426f-8864-3dc1e2b7ea4e",
   "metadata": {
    "tags": []
   },
   "source": [
    "#### Unix даты"
   ]
  },
  {
   "cell_type": "code",
   "execution_count": null,
   "id": "8ef27e9b-951a-421c-b84d-55b8c5deba9a",
   "metadata": {
    "tags": []
   },
   "outputs": [],
   "source": [
    "impala-shell -i \"${IMPALA_HOST}\" -q \"\n",
    "SELECT UNIX_TIMESTAMP(CURRENT_DATE()) dt\n",
    "     , UNIX_TIMESTAMP(CURRENT_TIMESTAMP()) ts\n",
    "\""
   ]
  },
  {
   "cell_type": "markdown",
   "id": "5c711986-c21a-4c9a-8f2b-04f9ecc986c0",
   "metadata": {
    "tags": []
   },
   "source": [
    "#### Форматирование даты"
   ]
  },
  {
   "cell_type": "code",
   "execution_count": null,
   "id": "3f906306-b791-404d-9722-f1cc8261ff19",
   "metadata": {
    "tags": []
   },
   "outputs": [],
   "source": [
    "impala-shell -i \"${IMPALA_HOST}\" -q \"\n",
    "SELECT FROM_UNIXTIME(UNIX_TIMESTAMP(CURRENT_DATE()), 'yyyy/MM/dd')\n",
    "\""
   ]
  },
  {
   "cell_type": "markdown",
   "id": "60d7eab9-41b1-497b-9a2b-552f94b2e2f9",
   "metadata": {},
   "source": [
    "#### Текущий таймстемп"
   ]
  },
  {
   "cell_type": "code",
   "execution_count": null,
   "id": "5ebe2b36-86c7-40a5-a3d8-5e119d04755c",
   "metadata": {
    "tags": []
   },
   "outputs": [],
   "source": [
    "impala-shell -i \"${IMPALA_HOST}\" -q \"\n",
    "SELECT now()\n",
    "\""
   ]
  },
  {
   "cell_type": "markdown",
   "id": "3703f5b4-ba16-4b58-924c-9045cff895d6",
   "metadata": {},
   "source": [
    "#### Части даты"
   ]
  },
  {
   "cell_type": "code",
   "execution_count": null,
   "id": "53770346-88d1-4d14-bfc4-709f35419cb1",
   "metadata": {
    "tags": []
   },
   "outputs": [],
   "source": [
    "impala-shell -i \"${IMPALA_HOST}\" -q \"\n",
    "SELECT YEAR(now()) y\n",
    "     , MONTH(now()) m\n",
    "     , DAY(now()) d\n",
    "     , DAYOFWEEK(now()) dow\n",
    "     , DAYOFYEAR(now()) doy\n",
    "     , HOUR(now()) h\n",
    "     , MINUTE(now()) m\n",
    "     , SECOND(now()) s\n",
    "     , MILLISECOND(now()) ms\n",
    "\""
   ]
  },
  {
   "cell_type": "markdown",
   "id": "5cd54b2b-ebef-4772-8d1f-876a2710e603",
   "metadata": {},
   "source": [
    "#### Интервалы"
   ]
  },
  {
   "cell_type": "markdown",
   "id": "2edb1a51-335e-48f7-9dd3-b7888ca09aad",
   "metadata": {},
   "source": [
    "Для более точной арифметики с датами можно использовать `INTERVAL`:"
   ]
  },
  {
   "cell_type": "code",
   "execution_count": null,
   "id": "9c29646c-70eb-4bec-ad11-122b46cb463b",
   "metadata": {
    "tags": []
   },
   "outputs": [],
   "source": [
    "impala-shell -i \"${IMPALA_HOST}\" --vertical -q \"\n",
    "WITH ts AS (\n",
    "    SELECT now() n\n",
    ")\n",
    "SELECT n\n",
    "     , n - INTERVAL 1 YEAR minus_year\n",
    "     , n + INTERVAL 1 MONTH plus_month\n",
    "     , n + INTERVAL 1 day plus_day\n",
    "     , n - INTERVAL 1 hour minus_hour\n",
    "     , n + INTERVAL 1 minute plus_minute\n",
    "     , n - INTERVAL 1 second minus_second\n",
    "     , n + INTERVAL 1 millisecond plus_millisecond\n",
    "     , n - INTERVAL 1 microsecond minus_microsecond\n",
    "  FROM ts\n",
    "\""
   ]
  },
  {
   "cell_type": "markdown",
   "id": "fba11103-7aaf-4125-a9ef-2248a40c07be",
   "metadata": {
    "tags": []
   },
   "source": [
    "> Ключ `--vertical` утилиты `impala-shell` позволяет транспонировать строки и столбцы в результате"
   ]
  },
  {
   "cell_type": "markdown",
   "id": "26b71101-d762-429b-9075-bb4936d889a8",
   "metadata": {
    "tags": []
   },
   "source": [
    "## Логический тип данных"
   ]
  },
  {
   "cell_type": "markdown",
   "id": "e33581ab-5ead-4c9f-abe4-999ab7fe5d90",
   "metadata": {},
   "source": [
    "Impala позволяет работать с логическими данными при помощи типа `BOOLEAN`:"
   ]
  },
  {
   "cell_type": "code",
   "execution_count": null,
   "id": "f25b10bb-d819-4cc9-88c1-85d032b1e351",
   "metadata": {
    "tags": []
   },
   "outputs": [],
   "source": [
    "impala-shell -i \"${IMPALA_HOST}\" -q \"\n",
    "SELECT TRUE, FALSE\n",
    "\""
   ]
  },
  {
   "cell_type": "markdown",
   "id": "ff7f0293-2866-4c86-acca-4549ab769e94",
   "metadata": {},
   "source": [
    "#### Приведение типов к `BOOLEAN`"
   ]
  },
  {
   "cell_type": "markdown",
   "id": "e968f313-900b-4b94-8c38-dddacadd8ee7",
   "metadata": {},
   "source": [
    "Ненулевые значения приводятся к `TRUE`:"
   ]
  },
  {
   "cell_type": "code",
   "execution_count": null,
   "id": "77c75cde-dcd2-4579-82a7-0e33379bc02e",
   "metadata": {
    "tags": []
   },
   "outputs": [],
   "source": [
    "impala-shell -i \"${IMPALA_HOST}\" -q \"\n",
    "SELECT CAST(0 AS BOOLEAN) 0_false\n",
    "     , CAST(-1 AS BOOLEAN) neg_1_true\n",
    "     , CAST(4321 AS BOOLEAN) pos_4321_true \n",
    "     , CAST(3.14 AS BOOLEAN) pi_true\n",
    "\""
   ]
  },
  {
   "cell_type": "markdown",
   "id": "8b79af52-1abe-4945-8018-57ad430866a6",
   "metadata": {},
   "source": [
    "Специальные маркеры `NaN` и `Inf` приводятся к `TRUE`:"
   ]
  },
  {
   "cell_type": "code",
   "execution_count": null,
   "id": "358cd799-3ba9-4bff-890d-b421c9efd8c9",
   "metadata": {
    "tags": []
   },
   "outputs": [],
   "source": [
    "impala-shell -i \"${IMPALA_HOST}\" -q \"\n",
    "SELECT CAST(CAST('nan' AS FLOAT) as BOOLEAN) nan_true\n",
    "     , CAST(CAST('inf' AS FLOAT) as BOOLEAN) inf_true\n",
    "\""
   ]
  },
  {
   "cell_type": "markdown",
   "id": "88c5873e-2088-46c5-92c2-bea0ead590e6",
   "metadata": {},
   "source": [
    "Невозможно привести к `BOOLEAN` строки:"
   ]
  },
  {
   "cell_type": "code",
   "execution_count": null,
   "id": "06229002-fcf9-43a2-87c3-6c5cecc26a9b",
   "metadata": {
    "tags": []
   },
   "outputs": [],
   "source": [
    "impala-shell -i \"${IMPALA_HOST}\" -q \"\n",
    "SELECT CAST('Hello' AS BOOLEAN)\n",
    "\" || true"
   ]
  },
  {
   "cell_type": "markdown",
   "id": "77b93f6f-c8a3-45fd-966c-dd697573a2c1",
   "metadata": {},
   "source": [
    "Невозможно привести к `BOOLEAN` даты:"
   ]
  },
  {
   "cell_type": "code",
   "execution_count": null,
   "id": "2ab4b0f8-cc85-477f-9965-4e817c1b050a",
   "metadata": {
    "tags": []
   },
   "outputs": [],
   "source": [
    "impala-shell -i \"${IMPALA_HOST}\" -q \"\n",
    "SELECT CAST(current_date() AS BOOLEAN)\n",
    "\" || true"
   ]
  },
  {
   "cell_type": "markdown",
   "id": "52b52d82-329b-4cdb-8d3a-005c12114e3d",
   "metadata": {
    "tags": []
   },
   "source": [
    "Значения типа `TIMESTAMP` приводятся к `TRUE`"
   ]
  },
  {
   "cell_type": "code",
   "execution_count": null,
   "id": "dd25ae45-d3f9-483a-a81d-751c25603253",
   "metadata": {
    "tags": []
   },
   "outputs": [],
   "source": [
    "impala-shell -i \"${IMPALA_HOST}\" -q \"\n",
    "SELECT CAST(now() AS BOOLEAN)\n",
    "\""
   ]
  },
  {
   "cell_type": "markdown",
   "id": "6cc538f1-4dd3-4036-b7a4-8426de6cfc2e",
   "metadata": {},
   "source": [
    "#### Приведение значений `BOOLEAN` к другим типам данных"
   ]
  },
  {
   "cell_type": "markdown",
   "id": "09c3134a-5fa1-4d9f-96d6-ea04aeb4571a",
   "metadata": {},
   "source": [
    "Логические значения можно приводить к другим типам:"
   ]
  },
  {
   "cell_type": "code",
   "execution_count": null,
   "id": "d4e1e4cb-479e-4fd1-a986-4ba4728e639c",
   "metadata": {
    "tags": []
   },
   "outputs": [],
   "source": [
    "impala-shell -i \"${IMPALA_HOST}\" --vertical -q \"\n",
    "SELECT CAST(TRUE AS INT) true_int\n",
    "     , CAST(FALSE AS TINYINT) false_tyniint\n",
    "     , CAST(TRUE AS DOUBLE) true_double\n",
    "     , CAST(FALSE AS STRING) false_string\n",
    "     , CAST(TRUE AS TIMESTAMP) true_ts\n",
    "     , CAST(FALSE AS TIMESTAMP) false_ts\n",
    "\""
   ]
  },
  {
   "cell_type": "markdown",
   "id": "13dc0e0c-3bfd-4d13-8e17-85a340ac2a5b",
   "metadata": {
    "tags": []
   },
   "source": [
    "#### Булевые операции"
   ]
  },
  {
   "cell_type": "code",
   "execution_count": null,
   "id": "868b3d10-11cb-41fe-b5ef-aaee965c60be",
   "metadata": {
    "tags": []
   },
   "outputs": [],
   "source": [
    "impala-shell -i \"${IMPALA_HOST}\" -q \"\n",
    "SELECT TRUE AND FALSE t_a_f\n",
    "     , TRUE OR FALSE t_o_f\n",
    "\""
   ]
  },
  {
   "cell_type": "markdown",
   "id": "9d2efd7d-9f4e-4d4b-9d12-94e57100e493",
   "metadata": {
    "tags": []
   },
   "source": [
    "## Тип данных `ARRAY`"
   ]
  },
  {
   "cell_type": "code",
   "execution_count": null,
   "id": "25d86e0e-bc70-43ac-a33f-5b836afbdc7e",
   "metadata": {
    "tags": []
   },
   "outputs": [],
   "source": [
    "impala-shell -i \"${IMPALA_HOST}\" -d my_db -q \"\n",
    "CREATE TABLE movies (\n",
    "    name STRING,\n",
    "    tags ARRAY <STRING>\n",
    ")\n",
    "\""
   ]
  },
  {
   "cell_type": "code",
   "execution_count": null,
   "id": "9f720d5b-dc74-4ce3-bd5b-6ff78533d956",
   "metadata": {
    "tags": []
   },
   "outputs": [],
   "source": [
    "impala-shell -i \"${IMPALA_HOST}\" -d my_db -q \"\n",
    "DESC EXTENDED movies\n",
    "\""
   ]
  },
  {
   "cell_type": "code",
   "execution_count": null,
   "id": "6f1fdc6b-579d-4971-be50-663f6ed7da3a",
   "metadata": {
    "tags": []
   },
   "outputs": [],
   "source": [
    "impala-shell -i \"${IMPALA_HOST}\" -d my_db -q \"\n",
    "DESC movies.tags\n",
    "\""
   ]
  },
  {
   "cell_type": "markdown",
   "id": "62165a64-151d-4a48-981f-ae422594f7d5",
   "metadata": {},
   "source": [
    "Невозможно создать значение типа `ARRAY` в Impala:"
   ]
  },
  {
   "cell_type": "code",
   "execution_count": null,
   "id": "936c0961-96c4-4318-99ac-f4a7bf3810d0",
   "metadata": {
    "tags": []
   },
   "outputs": [],
   "source": [
    "impala-shell -i \"${IMPALA_HOST}\" -d my_db -q \"\n",
    "INSERT INTO movies (name, tags)\n",
    "VALUES ('Interstellar', ARRAY('sci-fi', 'outer-space', 'drama'))\n",
    "\" || true"
   ]
  },
  {
   "cell_type": "markdown",
   "id": "768dd4f8-6116-4714-9565-4c7eb5920c73",
   "metadata": {},
   "source": [
    "К счастью можно использовать Apache Hive для наполнения таблицы:"
   ]
  },
  {
   "cell_type": "code",
   "execution_count": null,
   "id": "b0017161-ded7-4c00-b83b-b4e5bb8cafa6",
   "metadata": {
    "tags": []
   },
   "outputs": [],
   "source": [
    "HOST=hive \\\n",
    "new_file /tmp/query.sql <<EOF\n",
    "INSERT INTO my_db.movies (name, tags)\n",
    "VALUES ('Interstellar', ARRAY('sci-fi', 'outer-space', 'drama'));\n",
    "\n",
    "SELECT * FROM my_db.movies;\n",
    "EOF\n",
    "\n",
    "beeline -u \"jdbc:hive2://${HIVE_HOST}:10000/\" -f /tmp/query.sql"
   ]
  },
  {
   "cell_type": "markdown",
   "id": "17deac53-120c-46c4-9e3b-403b41508c90",
   "metadata": {},
   "source": [
    "Данные недоступны:"
   ]
  },
  {
   "cell_type": "code",
   "execution_count": null,
   "id": "ab5ead88-7ceb-4a79-9041-856fd8a7e119",
   "metadata": {
    "tags": []
   },
   "outputs": [],
   "source": [
    "impala-shell -i \"${IMPALA_HOST}\" -d my_db -q \"\n",
    "SELECT *\n",
    "  FROM movies\n",
    "\""
   ]
  },
  {
   "cell_type": "markdown",
   "id": "e00a5acc-3b94-4401-81ee-52ef90a660a3",
   "metadata": {},
   "source": [
    "При обновлении данных в таблице через внешнюю систему, такую как Apache Hive, например, необходимо явно обновить таблицу:"
   ]
  },
  {
   "cell_type": "code",
   "execution_count": null,
   "id": "c22f9f58-a36a-4eb8-8a4b-b461bc24627f",
   "metadata": {
    "tags": []
   },
   "outputs": [],
   "source": [
    "impala-shell -i \"${IMPALA_HOST}\" -d my_db -q \"\n",
    "REFRESH movies;\n",
    "\n",
    "SELECT *\n",
    "  FROM movies\n",
    "\""
   ]
  },
  {
   "cell_type": "markdown",
   "id": "7ac3b49c-a0aa-4112-bfa6-bc285d327e51",
   "metadata": {},
   "source": [
    "Поле типа `ARRAY` недоступно. Для получения данные из поля типа `ARRAY` необходимо явно ссылаться на поле типа `ARRAY` в разделе `FROM`:"
   ]
  },
  {
   "cell_type": "code",
   "execution_count": null,
   "id": "46663268-0d2e-4e33-8bdf-6c2d8c270d69",
   "metadata": {
    "tags": []
   },
   "outputs": [],
   "source": [
    "impala-shell -i \"${IMPALA_HOST}\" -d my_db -q \"\n",
    "SELECT name\n",
    "     , tags.pos\n",
    "     , tags.item\n",
    "  FROM movies\n",
    "     , movies.tags\n",
    "\""
   ]
  },
  {
   "cell_type": "markdown",
   "id": "642c0750-5367-4992-b4ea-5e07aae69316",
   "metadata": {
    "tags": []
   },
   "source": [
    "## Тип данных `STRUCT`"
   ]
  },
  {
   "cell_type": "code",
   "execution_count": null,
   "id": "e2b3c81b-9fa9-4ac8-8974-5378c8078d66",
   "metadata": {
    "tags": []
   },
   "outputs": [],
   "source": [
    "impala-shell -i \"${IMPALA_HOST}\" -d my_db -q \"\n",
    "CREATE TABLE songs (\n",
    "    name STRING,\n",
    "    creaters STRUCT<\n",
    "        composer: STRING,\n",
    "        singer: STRING,\n",
    "        writer: STRING,\n",
    "        label: STRING\n",
    "    >\n",
    ")\n",
    "\""
   ]
  },
  {
   "cell_type": "code",
   "execution_count": null,
   "id": "25d56750-6a64-4b9f-a027-ad8e2e2d8cf8",
   "metadata": {
    "tags": []
   },
   "outputs": [],
   "source": [
    "impala-shell -i \"${IMPALA_HOST}\" -d my_db -q \"\n",
    "DESC EXTENDED songs\n",
    "\""
   ]
  },
  {
   "cell_type": "code",
   "execution_count": null,
   "id": "ade17c64-dd83-4321-b789-a612ad8ed300",
   "metadata": {
    "tags": []
   },
   "outputs": [],
   "source": [
    "impala-shell -i \"${IMPALA_HOST}\" -d my_db -q \"\n",
    "DESC songs.creaters\n",
    "\""
   ]
  },
  {
   "cell_type": "markdown",
   "id": "d280318e-6ce3-429d-8b3b-17f0c68805c6",
   "metadata": {},
   "source": [
    "Невозможно создать значение типа `STRUCT` в Impala:"
   ]
  },
  {
   "cell_type": "code",
   "execution_count": null,
   "id": "08c698fb-8fd4-4d7f-9872-ec5da6b30a04",
   "metadata": {
    "tags": []
   },
   "outputs": [],
   "source": [
    "impala-shell -i \"${IMPALA_HOST}\" -d my_db -q \"\n",
    "INSERT INTO songs (name, creaters)\n",
    "VALUES ('Africa', NAMED_STRUCT('composer', 'David Paich', 'singer', 'Toto', 'writer', 'Toto','label', 'Columbia'))\n",
    "\" || true"
   ]
  },
  {
   "cell_type": "code",
   "execution_count": null,
   "id": "6aa306af-e17f-4b75-af89-7d7d95e8ed60",
   "metadata": {
    "tags": []
   },
   "outputs": [],
   "source": [
    "HOST=hive \\\n",
    "new_file /tmp/query.sql <<EOF\n",
    "INSERT INTO my_db.songs (name, creaters)\n",
    "VALUES ('Africa', NAMED_STRUCT('composer', 'David Paich', 'singer', 'Toto', 'writer', 'Toto','label', 'Columbia'));\n",
    "\n",
    "SELECT * FROM my_db.songs;\n",
    "EOF\n",
    "\n",
    "beeline -u \"jdbc:hive2://${HIVE_HOST}:10000/\" -f /tmp/query.sql"
   ]
  },
  {
   "cell_type": "markdown",
   "id": "6d471609-0ced-473a-9ca1-7c0af487df3c",
   "metadata": {},
   "source": [
    "Данные недоступны:"
   ]
  },
  {
   "cell_type": "code",
   "execution_count": null,
   "id": "aa24fb3b-b75a-4d99-8453-91330f8db3f6",
   "metadata": {
    "tags": []
   },
   "outputs": [],
   "source": [
    "impala-shell -i \"${IMPALA_HOST}\" -d my_db -q \"\n",
    "SELECT *\n",
    "  FROM songs\n",
    "\""
   ]
  },
  {
   "cell_type": "markdown",
   "id": "d6460c7a-1cdd-4f73-85c5-7444c7c73a9a",
   "metadata": {},
   "source": [
    "При обновлении данных в таблице через внешнюю систему, такую как Apache Hive, например, необходимо явно обновить таблицу:"
   ]
  },
  {
   "cell_type": "code",
   "execution_count": null,
   "id": "72f18c6c-b495-4eb1-b011-b0afe1f06dba",
   "metadata": {
    "tags": []
   },
   "outputs": [],
   "source": [
    "impala-shell -i \"${IMPALA_HOST}\" -d my_db -q \"\n",
    "REFRESH songs;\n",
    "\n",
    "SELECT *\n",
    "  FROM songs\n",
    "\""
   ]
  },
  {
   "cell_type": "markdown",
   "id": "fcea3c96-cb17-447e-8ee2-fcefe552f603",
   "metadata": {},
   "source": [
    "Поле типа `STRUCT` недоступно. Для получения данных из поля типа `STRUCT` необходимо явно ссылаться на поле из колонки типа `STRUCT`:"
   ]
  },
  {
   "cell_type": "code",
   "execution_count": null,
   "id": "35ac2330-6786-4bd1-a4b6-50e0fb992cd5",
   "metadata": {
    "tags": []
   },
   "outputs": [],
   "source": [
    "impala-shell -i \"${IMPALA_HOST}\" -d my_db -q \"\n",
    "SELECT name\n",
    "     , creaters.composer\n",
    "     , creaters.singer\n",
    "     , creaters.writer\n",
    "     , creaters.label\n",
    "  FROM songs\n",
    "\""
   ]
  },
  {
   "cell_type": "markdown",
   "id": "14cea3f8-7fc0-45ad-b6b7-39041b42f109",
   "metadata": {
    "tags": []
   },
   "source": [
    "## Тип данных `MAP`"
   ]
  },
  {
   "cell_type": "code",
   "execution_count": null,
   "id": "d2e2e500-13e3-4b2d-94f5-7d64ea7f0e70",
   "metadata": {
    "tags": []
   },
   "outputs": [],
   "source": [
    "impala-shell -i \"${IMPALA_HOST}\" -d my_db -q \"\n",
    "DROP TABLE IF EXISTS box_office\n",
    "\""
   ]
  },
  {
   "cell_type": "code",
   "execution_count": null,
   "id": "7a3d77e2-e797-48d0-8e99-f60ba5ed2dd9",
   "metadata": {
    "tags": []
   },
   "outputs": [],
   "source": [
    "impala-shell -i \"${IMPALA_HOST}\" -d my_db -q \"\n",
    "CREATE TABLE box_office (\n",
    "    name STRING,\n",
    "    earnings MAP<STRING, DECIMAL(20, 3)>\n",
    ")\n",
    "\""
   ]
  },
  {
   "cell_type": "code",
   "execution_count": null,
   "id": "92e36b29-60dc-4045-aba1-7f105df1c68b",
   "metadata": {
    "tags": []
   },
   "outputs": [],
   "source": [
    "impala-shell -i \"${IMPALA_HOST}\" -d my_db -q \"\n",
    "DESC EXTENDED box_office\n",
    "\""
   ]
  },
  {
   "cell_type": "code",
   "execution_count": null,
   "id": "59350099-b933-4913-b219-0f28849ac510",
   "metadata": {
    "tags": []
   },
   "outputs": [],
   "source": [
    "impala-shell -i \"${IMPALA_HOST}\" -d my_db -q \"\n",
    "DESC box_office.earnings\n",
    "\""
   ]
  },
  {
   "cell_type": "markdown",
   "id": "1f13f0e1-75f7-4be7-ae78-bf3504ee486c",
   "metadata": {},
   "source": [
    "Невозможно создать значение типа `MAP` в Impala:"
   ]
  },
  {
   "cell_type": "code",
   "execution_count": null,
   "id": "19dd8b09-2bf7-4cd0-84cd-e1a8797c9d7e",
   "metadata": {
    "tags": []
   },
   "outputs": [],
   "source": [
    "impala-shell -i \"${IMPALA_HOST}\" -d my_db -q \"\n",
    "INSERT INTO box_office (name, earnings)\n",
    "VALUES ('Titanic', MAP('US Gross', 600683057, 'World Wide Gross', 1843373318))\n",
    "\" || true"
   ]
  },
  {
   "cell_type": "markdown",
   "id": "e6ccf656-8a19-4c67-bb2b-846bf4d8409d",
   "metadata": {},
   "source": [
    "На выручку приходит Apache Hive:"
   ]
  },
  {
   "cell_type": "code",
   "execution_count": null,
   "id": "12054e84-4107-40fa-b790-c46600bf095b",
   "metadata": {
    "tags": []
   },
   "outputs": [],
   "source": [
    "HOST=hive \\\n",
    "new_file /tmp/query.sql <<EOF\n",
    "INSERT INTO my_db.box_office (name, earnings)\n",
    "SELECT 'Titanic'\n",
    "     , MAP(\n",
    "         'US Gross', CAST(600683057 AS DECIMAL(20, 3)),\n",
    "         'World Wide Gross', CAST(1843373318 AS DECIMAL(20, 3))\n",
    "       );\n",
    "\n",
    "SELECT name\n",
    "     , earnings['US Gross'] us\n",
    "     , earnings['World Wide Gross'] ww\n",
    "  FROM my_db.box_office;\n",
    "EOF\n",
    "\n",
    "beeline -u \"jdbc:hive2://${HIVE_HOST}:10000/\" -f /tmp/query.sql"
   ]
  },
  {
   "cell_type": "markdown",
   "id": "7c4465b3-f3a0-44e2-8976-3f7880801791",
   "metadata": {},
   "source": [
    "Данные, добавленные через внешние системы по прежнему недоступны сразу:"
   ]
  },
  {
   "cell_type": "code",
   "execution_count": null,
   "id": "49132ddb-9bcd-4e04-ae93-2777138a6e21",
   "metadata": {
    "tags": []
   },
   "outputs": [],
   "source": [
    "impala-shell -i \"${IMPALA_HOST}\" -d my_db -q \"\n",
    "SELECT *\n",
    "  FROM box_office\n",
    "\""
   ]
  },
  {
   "cell_type": "markdown",
   "id": "d083c227-9c0b-44a7-878c-918886e5f940",
   "metadata": {},
   "source": [
    "Необходимо выполнить `REFRESH`:"
   ]
  },
  {
   "cell_type": "code",
   "execution_count": null,
   "id": "d09e2544-f7f6-478c-8709-81dedcd00c7a",
   "metadata": {
    "tags": []
   },
   "outputs": [],
   "source": [
    "impala-shell -i \"${IMPALA_HOST}\" -d my_db -q \"\n",
    "REFRESH box_office;\n",
    "\n",
    "SELECT *\n",
    "  FROM box_office\n",
    "\""
   ]
  },
  {
   "cell_type": "markdown",
   "id": "d2262f2e-83d4-4ef2-a7de-aa20afc3c23c",
   "metadata": {},
   "source": [
    "Поле типа `MAP` недоступно по умолчанию. Для доступа к значениям внутри поля типа `MAP` необходимо обращаться к полю типа `MAP` в `FROM` секции при запросе:"
   ]
  },
  {
   "cell_type": "code",
   "execution_count": null,
   "id": "122ac820-a301-482a-8b58-c24f18fde560",
   "metadata": {
    "tags": []
   },
   "outputs": [],
   "source": [
    "impala-shell -i \"${IMPALA_HOST}\" -d my_db -q \"\n",
    "SELECT name\n",
    "     , earnings.key\n",
    "     , earnings.value\n",
    "  FROM box_office\n",
    "     , box_office.earnings\n",
    "\""
   ]
  },
  {
   "cell_type": "markdown",
   "id": "c5e86ff2-ba9f-4dbb-a4ab-adf824eaf786",
   "metadata": {},
   "source": [
    "## Вывод"
   ]
  },
  {
   "cell_type": "markdown",
   "id": "646d5f7c-d55d-4af3-80ae-4a65333645df",
   "metadata": {
    "tags": []
   },
   "source": [
    "1. Impala предлагает стандартные примитивные типы данных, аналогичные другим базам данных;\n",
    "1. Impala имеет составные типы данных: `ARRAY`, `MAP`, `STRUCT`, доступные только на чтение;\n",
    "1. Impala предлагает достаточно гибкую систему приведения типов."
   ]
  },
  {
   "cell_type": "markdown",
   "id": "3a0460fc-152c-4c73-98b4-e5d01fca6833",
   "metadata": {},
   "source": [
    "## Задания"
   ]
  },
  {
   "cell_type": "markdown",
   "id": "56079726-c726-4b40-8087-ed4e5cbff263",
   "metadata": {
    "tags": []
   },
   "source": [
    "1. Написать запрос `SELECT`, который выводит ваши фамилию, имя и отчество (ФИО) в одную строку на кириллице и латинице. Какой тип данных будет иметь такая строка?\n",
    "1. Разбить ФИО на 3 слова при помощи функций для работы со строками. Выполнить для латиницы и кириллицы.\n",
    "1. Привести ФИО к типу `CHAR(7)`. Какой эффект наблюдается?\n",
    "1. Привести ФИО к типу `VARCHAR(50)`;\n",
    "1. Извлечь квадратный корень из длины вашего ФИО. Длину считать по символам;\n",
    "1. Возвести число пи в 4 степень;\n",
    "1. Написать запрос `SELECT`, который выводит день вашего рождения;\n",
    "1. Привести день вашего рождения к типу `TIMESTAMP`;\n",
    "1. Какая дата получится, если к ближайшей дате 29 февраля (високосный год) добавить 1 год?"
   ]
  },
  {
   "cell_type": "markdown",
   "id": "ae62bf84-e5f1-41dd-a644-35a74f568790",
   "metadata": {
    "tags": []
   },
   "source": [
    "### Ответы"
   ]
  },
  {
   "cell_type": "markdown",
   "id": "b12436f5-b9db-4e02-9de5-ce036ad5b9da",
   "metadata": {
    "tags": []
   },
   "source": [
    "1. Написать запрос `SELECT`, который выводит ваши фамилию, имя и отчество (ФИО) в одную строку на кириллице и латинице. Какой тип данных будет иметь такая строка?\n",
    "\n",
    "<details>\n",
    "    <summary>Ответ</summary>\n",
    "\n",
    "Вывод ФИО:\n",
    "```sql\n",
    "SELECT 'Никонов Ермолай Лаврентьевич' cyrillic\n",
    "     , 'Nikonov Ermolay Lavrentyevich' latin\n",
    "```\n",
    "Автоматически назначается тип `STRING` (обратите внимание на ошибку, которая указывает из какого типа выполняется конвертация):\n",
    " \n",
    "```sql\n",
    "SELECT CAST('Никонов Ермолай Лаврентьевич' AS DATE)\n",
    "```\n",
    "</details>\n",
    "\n",
    "2. Разбить ФИО на 3 слова при помощи функций для работы со строками. Выполнить для латиницы и кириллицы.\n",
    "\n",
    "<details>\n",
    "    <summary>Ответ</summary>\n",
    "\n",
    "```sql\n",
    "WITH names (name) AS (\n",
    "    SELECT 'Никонов Ермолай Лаврентьевич' UNION\n",
    "    SELECT 'Nikonov Ermolay Lavrentyevich'\n",
    ")\n",
    "SELECT SUBSTR(name, 1, INSTR(name, ' ')) lastname\n",
    "     , SUBSTR(name, INSTR(name, ' ') + 1, INSTR(name, ' ', 1, 2) - INSTR(name, ' ')) firstname\n",
    "     , SUBSTR(name, INSTR(name, ' ', 1, 2) + 1) paternalname\n",
    "  FROM names\n",
    "```\n",
    "</details>\n",
    "\n",
    "3. Привести ФИО к типу `CHAR(7)`. Какой эффект наблюдается?\n",
    "\n",
    "<details>\n",
    "    <summary>Ответ</summary>\n",
    "\n",
    "Только часть ФИО остается доступным, причем имя на кириллице обрежается по середине четвертого символа, т.к. кириллический символ занимает 2 байта:\n",
    "\n",
    "```sql\n",
    "WITH names (name) AS (\n",
    "    SELECT 'Никонов Ермолай Лаврентьевич' UNION\n",
    "    SELECT 'Nikonov Ermolay Lavrentyevich'\n",
    ")\n",
    "SELECT CAST(name AS CHAR(7))\n",
    "  FROM names\n",
    "```\n",
    "</details>\n",
    "\n",
    "4. Привести ФИО к типу `VARCHAR(50)`;\n",
    "\n",
    "<details>\n",
    "    <summary>Ответ</summary>\n",
    "\n",
    "Если значение меньше, чем размер выделенного буфера, то будет занято ровно столько места, сколько необходимо для размещения значения целиком. Если значение длинее 50 байт, то значение обрежется:\n",
    "\n",
    "```sql\n",
    "WITH names (name) AS (\n",
    "    SELECT 'Никонов Ермолай Лаврентьевич' UNION\n",
    "    SELECT 'Nikonov Ermolay Lavrentyevich'\n",
    "), names_vchar50 (name) AS (\n",
    "SELECT CAST(name AS VARCHAR(50))\n",
    "  FROM names\n",
    ")\n",
    "SELECT name, LENGTH(name), CHAR_LENGTH(name)\n",
    "  FROM names_vchar50\n",
    "```\n",
    "</details>\n",
    "\n",
    "5. Извлечь квадратный корень из длины вашего ФИО. Длину считать по символам;\n",
    "\n",
    "<details>\n",
    "    <summary>Ответ</summary>\n",
    "\n",
    "Необходимо активировать режим UTF8, для подсчета длины ФИО по символам:\n",
    "\n",
    "```bash\n",
    "impala-shell -i \"${IMPALA_HOST}\" -d my_db -q \"\n",
    "SET UTF8_MODE=true;\n",
    "\n",
    "WITH names (name) AS (\n",
    "    SELECT 'Никонов Ермолай Лаврентьевич' UNION\n",
    "    SELECT 'Nikonov Ermolay Lavrentyevich'\n",
    ")\n",
    "SELECT name, LENGTH(name) len, SQRT(LENGTH(name)) sqrt\n",
    "  FROM names\n",
    "\"\n",
    "```\n",
    "</details>\n",
    "\n",
    "6. Возвести число пи в 4 степень;\n",
    "\n",
    "<details>\n",
    "    <summary>Ответ</summary>\n",
    "\n",
    "```sql\n",
    "WITH pi (value) AS (\n",
    "    SELECT atan(1) * 4\n",
    ")\n",
    "SELECT value\n",
    "     , POW(value, 4)\n",
    "  FROM pi\n",
    "```\n",
    "</details>\n",
    "\n",
    "7. Написать запрос `SELECT`, который выводит день вашего рождения;\n",
    "\n",
    "<details>\n",
    "    <summary>Ответ</summary>\n",
    "\n",
    "```sql\n",
    "SELECT DATE '1989-01-06' dob\n",
    "```\n",
    "</details>\n",
    "\n",
    "8. Привести день вашего рождения к типу `TIMESTAMP`;\n",
    "\n",
    "<details>\n",
    "    <summary>Ответ</summary>\n",
    "\n",
    "```sql\n",
    "WITH dob(value) AS (\n",
    "    SELECT DATE '1989-01-06'\n",
    ")\n",
    "SELECT CAST(value AS TIMESTAMP) dob_ts from dob\n",
    "```\n",
    "</details>\n",
    "\n",
    "9. Какая дата получится, если к ближайшей дате 29 февраля (високосный год) добавить 1 год?\n",
    "\n",
    "<details>\n",
    "    <summary>Ответ</summary>\n",
    "\n",
    "```sql\n",
    "WITH leap_year(leap_day) AS (\n",
    "    SELECT DATE '2024-02-29'\n",
    ")\n",
    "SELECT leap_day\n",
    "     , ADD_MONTHS(leap_day, 12) leap_day_next_year\n",
    "  FROM leap_year\n",
    "```\n",
    "</details>"
   ]
  },
  {
   "cell_type": "code",
   "execution_count": null,
   "id": "1f78d31f-edb0-4eec-af45-f4d2996386c2",
   "metadata": {},
   "outputs": [],
   "source": []
  }
 ],
 "metadata": {
  "kernelspec": {
   "display_name": "Bash",
   "language": "bash",
   "name": "bash"
  },
  "language_info": {
   "codemirror_mode": "shell",
   "file_extension": ".sh",
   "mimetype": "text/x-sh",
   "name": "bash"
  }
 },
 "nbformat": 4,
 "nbformat_minor": 5
}
