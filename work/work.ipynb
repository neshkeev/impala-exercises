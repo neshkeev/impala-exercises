{
 "cells": [
  {
   "cell_type": "markdown",
   "id": "3e3422c7-b1dd-471e-bccf-68f6e64cb9ca",
   "metadata": {
    "tags": []
   },
   "source": [
    "# Базовые операции с Apache Impala"
   ]
  },
  {
   "cell_type": "markdown",
   "id": "1646084e-ed13-4a48-81f5-eb29c22b944a",
   "metadata": {
    "tags": []
   },
   "source": [
    "## Подготовка"
   ]
  },
  {
   "cell_type": "markdown",
   "id": "07a865ea-fccb-4c53-8fdd-ac7f4482bcf9",
   "metadata": {},
   "source": [
    "### Создание базы данных"
   ]
  },
  {
   "cell_type": "code",
   "execution_count": null,
   "id": "49140c9d-9a42-4211-bf5e-d03dc395d381",
   "metadata": {
    "tags": []
   },
   "outputs": [],
   "source": [
    "impala-shell -i \"${IMPALA_HOST}\" -q \"\n",
    "DROP DATABASE IF EXISTS udf_demo\n",
    "CASCADE;\n",
    "\""
   ]
  },
  {
   "cell_type": "code",
   "execution_count": null,
   "id": "6107677b-e649-4b26-b842-6b3ce87969f8",
   "metadata": {
    "tags": []
   },
   "outputs": [],
   "source": [
    "impala-shell -i \"${IMPALA_HOST}\" -q \"\n",
    "CREATE DATABASE udf_demo;\n",
    "\""
   ]
  },
  {
   "cell_type": "markdown",
   "id": "6907c9fb-8545-4173-a98a-bf214f54ae30",
   "metadata": {},
   "source": [
    "### Создание таблицы"
   ]
  },
  {
   "cell_type": "code",
   "execution_count": null,
   "id": "67d4c04e-a63e-4c99-98cf-6582c3ac9c44",
   "metadata": {
    "tags": []
   },
   "outputs": [],
   "source": [
    "impala-shell -i \"${IMPALA_HOST}\" -d udf_demo -q \"\n",
    "CREATE TABLE udaf_table (\n",
    "    id INT,\n",
    "    VALUE INT\n",
    ")\n",
    "\""
   ]
  },
  {
   "cell_type": "code",
   "execution_count": null,
   "id": "4866996c-3cf3-48bd-884d-7831a58f59f3",
   "metadata": {
    "tags": []
   },
   "outputs": [],
   "source": [
    "impala-shell -i \"${IMPALA_HOST}\" -d udf_demo -q \"\n",
    "INSERT INTO udaf_table\n",
    "WITH records AS (\n",
    "    select 1 id, 0 value union\n",
    "    select 1, -1 union\n",
    "    select 3, 6 union\n",
    "    select 4, 100 union\n",
    "    select 4, 10 union\n",
    "    select 4, 1000\n",
    ")\n",
    "SELECT *\n",
    "  FROM records\n",
    "\""
   ]
  },
  {
   "cell_type": "code",
   "execution_count": null,
   "id": "564db634-cb32-4f42-8aaf-d9f0f211046b",
   "metadata": {
    "tags": []
   },
   "outputs": [],
   "source": [
    "impala-shell -i \"${IMPALA_HOST}\" -d udf_demo -q \"\n",
    "SELECT *\n",
    "  FROM udaf_table\n",
    "\""
   ]
  },
  {
   "cell_type": "markdown",
   "id": "3b0e2865-450d-4eaa-ae3b-b0a7b44cd984",
   "metadata": {
    "tags": []
   },
   "source": [
    "## Создание UDF функции"
   ]
  },
  {
   "cell_type": "markdown",
   "id": "3a55bf3a-11db-480c-b92c-436bbaedb81a",
   "metadata": {
    "tags": []
   },
   "source": [
    "### Подготовка"
   ]
  },
  {
   "cell_type": "markdown",
   "id": "60da13a4-fdb9-4dcb-8324-6a4daf44ead0",
   "metadata": {},
   "source": [
    "Исходный код:"
   ]
  },
  {
   "cell_type": "code",
   "execution_count": null,
   "id": "d8a0bc67-91ce-4653-b319-24d5833851b6",
   "metadata": {
    "tags": []
   },
   "outputs": [],
   "source": [
    "HOST=dind execute \\\n",
    "cat /root/impala-exercises/src/src/main/java/com/github/neshkeev/impala/udf/HelloUDF.java"
   ]
  },
  {
   "cell_type": "markdown",
   "id": "1c9428f8-1d07-487f-85fb-f7aaeea21a9e",
   "metadata": {
    "tags": []
   },
   "source": [
    "### Сборка проекта"
   ]
  },
  {
   "cell_type": "code",
   "execution_count": null,
   "id": "ff61400f",
   "metadata": {
    "tags": []
   },
   "outputs": [],
   "source": [
    "HOST=maven execute \\\n",
    "mvn clean package \\\n",
    "    -f /root/impala-exercises/src/pom.xml \\\n",
    "    -l /tmp/build.log\n",
    "\n",
    "HOST=maven execute \\\n",
    "tail /tmp/build.log"
   ]
  },
  {
   "cell_type": "markdown",
   "id": "9125710c-64f6-4acb-93bc-9b4e757b8505",
   "metadata": {
    "tags": []
   },
   "source": [
    "### Деплой бинарного файла"
   ]
  },
  {
   "cell_type": "markdown",
   "id": "cb348d66-944b-4065-adfc-e932d70a0807",
   "metadata": {},
   "source": [
    "Расположение jar файла:"
   ]
  },
  {
   "cell_type": "code",
   "execution_count": null,
   "id": "1094f526-cf98-43ac-9a58-b4b9cfd8da6a",
   "metadata": {
    "tags": []
   },
   "outputs": [],
   "source": [
    "HOST=dind execute \\\n",
    "ls /root/impala-exercises/src/target/*.jar"
   ]
  },
  {
   "cell_type": "markdown",
   "id": "69ee052b-c5d4-43af-90da-3fa4faaa5e0c",
   "metadata": {},
   "source": [
    "Необходимо скопировать jar файл с кодом UDF функции в Impala:"
   ]
  },
  {
   "cell_type": "code",
   "execution_count": null,
   "id": "6f77ef5c-e8fb-4034-b28c-df13720edc77",
   "metadata": {
    "tags": []
   },
   "outputs": [],
   "source": [
    "UDF_JAR_PATH=$(HOST=dind execute ls /root/impala-exercises/src/target/*.jar)\n",
    "\n",
    "docker compose cp maven:${UDF_JAR_PATH} /tmp/impala-udf.jar &&\n",
    "docker compose cp /tmp/impala-udf.jar impala:/tmp/impala-udf.jar"
   ]
  },
  {
   "cell_type": "markdown",
   "id": "7a19f5b8-28cf-4841-a785-643a99207716",
   "metadata": {
    "tags": []
   },
   "source": [
    "### Применение UDF функции"
   ]
  },
  {
   "cell_type": "markdown",
   "id": "41d9eae4-96d6-41f3-9905-b2b8fd8bfb07",
   "metadata": {},
   "source": [
    "Сначала необходимо создать новую функцию в Impala:"
   ]
  },
  {
   "cell_type": "code",
   "execution_count": null,
   "id": "57eb7a62-b948-43c9-937d-0e40771662c0",
   "metadata": {
    "tags": []
   },
   "outputs": [],
   "source": [
    "impala-shell -i \"${IMPALA_HOST}\" -d udf_demo -q \"\n",
    "CREATE FUNCTION hello(string)\n",
    "    RETURNS STRING\n",
    "    LOCATION '/tmp/impala-udf.jar'\n",
    "    SYMBOL='com.github.neshkeev.impala.udf.HelloUDF';\n",
    "\""
   ]
  },
  {
   "cell_type": "markdown",
   "id": "d86f0425-b8fa-4182-9ed4-711f8b927a9a",
   "metadata": {},
   "source": [
    "Теперь можно использовать функцию:"
   ]
  },
  {
   "cell_type": "code",
   "execution_count": null,
   "id": "84e41947-427f-41ee-9bb7-9f0b2c75b99f",
   "metadata": {
    "tags": []
   },
   "outputs": [],
   "source": [
    "impala-shell -i \"${IMPALA_HOST}\" -d udf_demo -q \"\n",
    "SELECT hello('world') msg;\n",
    "\""
   ]
  },
  {
   "cell_type": "markdown",
   "id": "0662d919-3a33-4554-8557-e2697fe383aa",
   "metadata": {},
   "source": [
    "### Вывод"
   ]
  },
  {
   "cell_type": "markdown",
   "id": "e92cc0de-ec13-4cf8-9509-519a196ca775",
   "metadata": {},
   "source": [
    "1. Apache Impala позволяет создать функции на основе UDF функций для Apache Hive;\n",
    "1. Для создания функции сначала необходимо:\n",
    "    1. написать Java класс, который расшияет `org.apache.hadoop.hive.ql.exec.UDF`;\n",
    "    1. упаковать Java класс в jar файл;\n",
    "    1. скопировать jar файл на компьютер, где запущена база данных Impala;\n",
    "    1. создать новую функцию через `CREATE FUNCTION`."
   ]
  },
  {
   "cell_type": "markdown",
   "id": "9bc1dada-3e99-4d8c-bec4-58f62d8e4cf9",
   "metadata": {},
   "source": [
    "### Задание"
   ]
  },
  {
   "cell_type": "markdown",
   "id": "59dc238f-55dd-41c4-b069-c41fcbc4b2b4",
   "metadata": {
    "tags": []
   },
   "source": [
    "1. Создать функцию `redacted`, которая заменяет текст на 5 символов звездочки (`*`). Пример:\n",
    "```sql\n",
    "SELECT redacted('Hello, World!') -- печает: *****\n",
    "```\n",
    "2. Создать функцию `redacted_with`, которая в дополние к логике `redacted`, позволяет указать символ для сокрытия информации (в `redacted` использовался символ `*`). Пример:\n",
    "```sql\n",
    "SELECT redacted_with('Hello, World!', '-') -- печатает -----\n",
    "```\n",
    "3. Добавить два дополнительных параметра `start`, `size`, которые заменяют `size` символов текста указанным символом, начиная с индекса `start`. Пример:\n",
    "```sql\n",
    "SELECT redacted_with('Hello, World!', '_', 3, 4) -- печатает He____ World!\n",
    "```"
   ]
  },
  {
   "cell_type": "markdown",
   "id": "28ad7804-5382-4625-8f74-a0811cb64d12",
   "metadata": {},
   "source": [
    "## UDAF - Пользовательские функции агрегации"
   ]
  },
  {
   "cell_type": "markdown",
   "id": "1b3f793d-baa9-4f28-a510-9bb653468dca",
   "metadata": {},
   "source": [
    "Impala не поддерживает пользовательские UDAF, но можно использовать Hive."
   ]
  },
  {
   "cell_type": "markdown",
   "id": "8df08f2c-8b47-45b3-b241-4c9a0aa338d1",
   "metadata": {},
   "source": [
    "Реализация полностью новой UDAF функции является нетривиально задачей, поэтому для примера можно воспользоваться уже готовой реализацией функции `max` из стандартной поставки Apache Hive: [GenericUDAFMax](https://github.com/apache/hive/blob/9b4ea7affa4902fc2849f1a88b68103940fc9866/ql/src/java/org/apache/hadoop/hive/ql/udf/generic/GenericUDAFMax.java)."
   ]
  },
  {
   "cell_type": "markdown",
   "id": "40fed467-f691-4220-b52f-6941ee025cee",
   "metadata": {},
   "source": [
    "### Создание UDAF функции"
   ]
  },
  {
   "cell_type": "markdown",
   "id": "53df9586-f976-453b-952c-cf807b624f1c",
   "metadata": {
    "tags": []
   },
   "source": [
    "Инструкция `CREATE TEMPORARY FUNCTION` означает, что функция будет доступна на время текущей сессии:"
   ]
  },
  {
   "cell_type": "code",
   "execution_count": null,
   "id": "37fcb939",
   "metadata": {
    "tags": []
   },
   "outputs": [],
   "source": [
    "HOST=hive \\\n",
    "new_file /tmp/query.sql <<EOF\n",
    "-- регистрация временной фукнции my_max\n",
    "CREATE TEMPORARY FUNCTION my_max\n",
    "    AS\n",
    "    'org.apache.hadoop.hive.ql.udf.generic.GenericUDAFMax';\n",
    "\n",
    "SELECT my_max(value) my_max, max(value) max, id\n",
    "  FROM udf_demo.udaf_table\n",
    " GROUP BY id;\n",
    "EOF\n",
    "\n",
    "beeline -u 'jdbc:hive2://${HIVE_HOST:-hive}:10000/' -f /tmp/query.sql"
   ]
  },
  {
   "cell_type": "markdown",
   "id": "d5651853-38d2-4ae8-9372-6e6a5abcca18",
   "metadata": {},
   "source": [
    "После завершения Hive сессии функция `my_max` больше недоступна:"
   ]
  },
  {
   "cell_type": "code",
   "execution_count": null,
   "id": "a8c63295-83e3-411e-b8fb-20a8d4d9b01e",
   "metadata": {
    "tags": []
   },
   "outputs": [],
   "source": [
    "HOST=hive \\\n",
    "new_file /tmp/query.sql <<EOF\n",
    "SELECT my_max(value) my_max, max(value) max, id\n",
    "  FROM udf_demo.udaf_table\n",
    " GROUP BY id;\n",
    "EOF\n",
    "\n",
    "beeline -u 'jdbc:hive2://${HIVE_HOST:-hive}:10000/' -f /tmp/query.sql || true"
   ]
  },
  {
   "cell_type": "markdown",
   "id": "2b655db4-6d84-410c-a01c-f03c2d7f5030",
   "metadata": {},
   "source": [
    "### Постоянные UDAF функции"
   ]
  },
  {
   "cell_type": "markdown",
   "id": "248e9769-8a84-4f93-850b-6f0db52d2e61",
   "metadata": {},
   "source": [
    "Для сохранения функции между сеансами необходимо зарегистрировать функцию через `CREATE FUNCTION` (без `TEMPORARY`):"
   ]
  },
  {
   "cell_type": "code",
   "execution_count": null,
   "id": "a1d5c39e-6f95-4b91-963d-421da6fa008f",
   "metadata": {
    "tags": []
   },
   "outputs": [],
   "source": [
    "HOST=hive \\\n",
    "new_file /tmp/query.sql <<EOF\n",
    "-- регистрация постоянной фукнции my_max\n",
    "CREATE FUNCTION my_max\n",
    "    AS\n",
    "    'org.apache.hadoop.hive.ql.udf.generic.GenericUDAFMax'\n",
    "EOF\n",
    "\n",
    "beeline -u 'jdbc:hive2://${HIVE_HOST:-hive}:10000/' -f /tmp/query.sql"
   ]
  },
  {
   "cell_type": "markdown",
   "id": "4efc1f82-f590-43aa-ade6-5cfe462ddbc0",
   "metadata": {},
   "source": [
    "Проверка доступности функции `my_max` в новых сеансах:"
   ]
  },
  {
   "cell_type": "code",
   "execution_count": null,
   "id": "a55c50ad-df8f-4be6-8755-36aea1317708",
   "metadata": {
    "tags": []
   },
   "outputs": [],
   "source": [
    "HOST=hive \\\n",
    "new_file /tmp/query.sql <<EOF\n",
    "SELECT my_max(value) my_max, max(value) max, id\n",
    "  FROM udf_demo.udaf_table\n",
    " GROUP BY id;\n",
    "EOF\n",
    "\n",
    "beeline -u 'jdbc:hive2://${HIVE_HOST:-hive}:10000/' -f /tmp/query.sql"
   ]
  },
  {
   "cell_type": "code",
   "execution_count": null,
   "id": "b5174945-105b-4a82-86b3-11cf8c69bb21",
   "metadata": {
    "tags": []
   },
   "outputs": [],
   "source": [
    "HOST=hive \\\n",
    "new_file /tmp/query.sql <<EOF\n",
    "SELECT my_max(value) OVER(PARTITION BY id) my_max, max(value) OVER(PARTITION BY id) max, id\n",
    "  FROM udf_demo.udaf_table\n",
    "EOF\n",
    "\n",
    "beeline -u 'jdbc:hive2://${HIVE_HOST:-hive}:10000/' -f /tmp/query.sql"
   ]
  },
  {
   "cell_type": "markdown",
   "id": "4ebc28dc-c096-4745-8e09-48cab54d63c9",
   "metadata": {},
   "source": [
    "### Вывод"
   ]
  },
  {
   "cell_type": "markdown",
   "id": "f53837f3-6967-4a37-9669-6780274e2acb",
   "metadata": {},
   "source": [
    "1. Impala не позволяет регистрировать пользовательские UDAF функции;\n",
    "1. Собственные UDAF функции можно регистрировать в Apache Hive и использовать их из Apache Hive для выполнения запросов к таблицам Apache Impala."
   ]
  },
  {
   "cell_type": "markdown",
   "id": "e7bbef48-9f6d-4789-b3c6-35a685ea661e",
   "metadata": {},
   "source": [
    "### Задание"
   ]
  },
  {
   "cell_type": "markdown",
   "id": "8e6949d6-e2c4-4a75-ad14-49db656697a9",
   "metadata": {},
   "source": [
    "1. Зарегистрировать временную функцию `my_avg`, которая должна действовать как стандартная `avg`. За основу можно взять класс [`org.apache.hadoop.hive.ql.udf.generic.GenericUDAFAverage`](https://github.com/apache/hive/blob/9b4ea7affa4902fc2849f1a88b68103940fc9866/ql/src/java/org/apache/hadoop/hive/ql/udf/generic/GenericUDAFAverage.java)\n",
    "1. Убедиться, что функция `my_avg` возвращает результаты аналогичные `avg`;\n",
    "1. Зарегистрировать постоянную функцию `my_permanent_min`. За основу взять класс [`org.apache.hadoop.hive.ql.udf.generic.GenericUDAFMin`](https://github.com/apache/hive/blob/9b4ea7affa4902fc2849f1a88b68103940fc9866/ql/src/java/org/apache/hadoop/hive/ql/udf/generic/GenericUDAFMin.java);\n",
    "1. Убедиться, что:\n",
    "    1. функция `my_permanent_min` возвращает результаты аналогичные `min`;\n",
    "    1. сохраняется между сеансами."
   ]
  },
  {
   "cell_type": "code",
   "execution_count": null,
   "id": "e5d1a88c-e606-4faf-b8b9-9c94987ab24b",
   "metadata": {},
   "outputs": [],
   "source": []
  }
 ],
 "metadata": {
  "kernelspec": {
   "display_name": "Bash",
   "language": "bash",
   "name": "bash"
  },
  "language_info": {
   "codemirror_mode": "shell",
   "file_extension": ".sh",
   "mimetype": "text/x-sh",
   "name": "bash"
  }
 },
 "nbformat": 4,
 "nbformat_minor": 5
}
