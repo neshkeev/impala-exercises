{
 "cells": [
  {
   "cell_type": "markdown",
   "id": "3e3422c7-b1dd-471e-bccf-68f6e64cb9ca",
   "metadata": {
    "tags": []
   },
   "source": [
    "# Таблицы"
   ]
  },
  {
   "cell_type": "markdown",
   "id": "3b0e2865-450d-4eaa-ae3b-b0a7b44cd984",
   "metadata": {},
   "source": [
    "## Подгтовка"
   ]
  },
  {
   "cell_type": "markdown",
   "id": "43e9a9aa-3d71-48ca-94a5-1b717ce2b01b",
   "metadata": {},
   "source": [
    "Директория для хранения файлов внеших таблиц:"
   ]
  },
  {
   "cell_type": "code",
   "execution_count": null,
   "id": "6fa98013-64a5-4cb1-9669-f70ff4f855d9",
   "metadata": {
    "tags": []
   },
   "outputs": [],
   "source": [
    "HOST=${IMPALA:-impala} execute \\\n",
    "mkdir -p /user/hive/warehouse/extenal_data"
   ]
  },
  {
   "cell_type": "markdown",
   "id": "c50b2013-33f1-4d86-997f-bd3e094a94f1",
   "metadata": {},
   "source": [
    "База данных для работы:"
   ]
  },
  {
   "cell_type": "code",
   "execution_count": null,
   "id": "67d4c04e-a63e-4c99-98cf-6582c3ac9c44",
   "metadata": {
    "tags": []
   },
   "outputs": [],
   "source": [
    "impala-shell -i \"${IMPALA_HOST}\" -q \"\n",
    "DROP DATABASE IF EXISTS tables_demo\n",
    "CASCADE\n",
    "\""
   ]
  },
  {
   "cell_type": "code",
   "execution_count": null,
   "id": "eadc3ca9-a32f-4e67-879d-d9992bc52569",
   "metadata": {
    "tags": []
   },
   "outputs": [],
   "source": [
    "impala-shell -i \"${IMPALA_HOST}\" -q \"\n",
    "CREATE DATABASE tables_demo\n",
    "\""
   ]
  },
  {
   "cell_type": "markdown",
   "id": "b2f52923-56b5-45aa-a298-69245d338001",
   "metadata": {},
   "source": [
    "## Создание таблиц"
   ]
  },
  {
   "cell_type": "markdown",
   "id": "2baa96eb-5c1a-4993-8a17-64379a676c99",
   "metadata": {
    "tags": []
   },
   "source": [
    "### Создание простой таблицы"
   ]
  },
  {
   "cell_type": "code",
   "execution_count": null,
   "id": "1b00354d-b8c6-4599-b127-373db47f5ae7",
   "metadata": {
    "tags": []
   },
   "outputs": [],
   "source": [
    "impala-shell -i \"${IMPALA_HOST}\" -d tables_demo -q \"\n",
    "CREATE TABLE my_first_table (\n",
    "    id INT,\n",
    "    name STRING\n",
    ")\n",
    "\""
   ]
  },
  {
   "cell_type": "markdown",
   "id": "bb62e82d-d231-451d-b491-0a24539bed05",
   "metadata": {},
   "source": [
    "#### Описание таблицы"
   ]
  },
  {
   "cell_type": "code",
   "execution_count": null,
   "id": "05041986-1b9f-4d8f-a1d4-79623ce76242",
   "metadata": {
    "tags": []
   },
   "outputs": [],
   "source": [
    "impala-shell -i \"${IMPALA_HOST}\" -d tables_demo -q \"\n",
    "DESCRIBE FORMATTED my_first_table\n",
    "\""
   ]
  },
  {
   "cell_type": "markdown",
   "id": "4115d71d-a8db-44d9-a521-0f8643ac4316",
   "metadata": {},
   "source": [
    "Файлы таблицы находятся на диске, но сейчас таблица пустая, поэтому директория таблицы пуста:"
   ]
  },
  {
   "cell_type": "code",
   "execution_count": null,
   "id": "b632d5df-fc3a-4f64-980a-71e1010ce046",
   "metadata": {
    "tags": []
   },
   "outputs": [],
   "source": [
    "HOST=${IMPALA_HOST} execute \\\n",
    "find /user/hive/warehouse/managed/tables_demo.db"
   ]
  },
  {
   "cell_type": "markdown",
   "id": "ae64cd1a-a419-4931-995d-0f111bd14045",
   "metadata": {},
   "source": [
    "Если записать информацию в таблицу:"
   ]
  },
  {
   "cell_type": "code",
   "execution_count": null,
   "id": "3e0487d6-6de3-494c-8845-fe91005a61c3",
   "metadata": {
    "tags": []
   },
   "outputs": [],
   "source": [
    "impala-shell -i \"${IMPALA_HOST}\" -d tables_demo -q \"\n",
    "INSERT INTO my_first_table\n",
    "VALUES(1, 'Hello')\n",
    "\""
   ]
  },
  {
   "cell_type": "markdown",
   "id": "3ecee461-6708-4de4-a9e6-b7d794a8eaf8",
   "metadata": {},
   "source": [
    "то можно увидеть, что появились файлы с данными:"
   ]
  },
  {
   "cell_type": "code",
   "execution_count": null,
   "id": "e9a66fbc-b61f-494d-a9d9-363b922a9c8f",
   "metadata": {
    "tags": []
   },
   "outputs": [],
   "source": [
    "HOST=${IMPALA_HOST} execute \\\n",
    "find /user/hive/warehouse/managed/tables_demo.db"
   ]
  },
  {
   "cell_type": "markdown",
   "id": "b8d2dfad-324a-4a23-bf1a-1862d9c9b9a1",
   "metadata": {},
   "source": [
    "Добавление новых данных:"
   ]
  },
  {
   "cell_type": "code",
   "execution_count": null,
   "id": "20954d1a-b11c-4b2a-af77-03ea67c804ad",
   "metadata": {
    "tags": []
   },
   "outputs": [],
   "source": [
    "impala-shell -i \"${IMPALA_HOST}\" -d tables_demo -q \"\n",
    "INSERT INTO my_first_table\n",
    "VALUES(2, 'Привет')\n",
    "\""
   ]
  },
  {
   "cell_type": "code",
   "execution_count": null,
   "id": "1aed81bb-9003-4b9c-8cfa-5244f149cd82",
   "metadata": {
    "tags": []
   },
   "outputs": [],
   "source": [
    "HOST=${IMPALA_HOST} execute \\\n",
    "find /user/hive/warehouse/managed/tables_demo.db"
   ]
  },
  {
   "cell_type": "markdown",
   "id": "f7559957-a661-4922-84f2-0e49c77136b5",
   "metadata": {},
   "source": [
    "> Добавление новых данных создает новые файлы"
   ]
  },
  {
   "cell_type": "markdown",
   "id": "f8eb9f3e-d817-449c-a547-7ddc7de45c58",
   "metadata": {},
   "source": [
    "#### Вывод"
   ]
  },
  {
   "cell_type": "markdown",
   "id": "e173d773-e09f-4db3-ad6f-b86ad31ff6cc",
   "metadata": {
    "tags": []
   },
   "source": [
    "1. Каждая `INSERT` операция создает новые файлы;\n",
    "1. Много небольших файлов плохо сказывается на работе `HDFS`;\n",
    "1. Желательно записывать сразу много строк за раз, чтобы число файлов было небольшим."
   ]
  },
  {
   "cell_type": "markdown",
   "id": "a9336193-66ce-4642-a778-757b61b0ff5c",
   "metadata": {
    "tags": []
   },
   "source": [
    "### Сегментированные (partition) таблицы"
   ]
  },
  {
   "cell_type": "code",
   "execution_count": null,
   "id": "6eec3797-92c4-49fb-bfaf-0f34533f137d",
   "metadata": {
    "tags": []
   },
   "outputs": [],
   "source": [
    "impala-shell -i \"${IMPALA_HOST}\" -d tables_demo -q \"\n",
    "CREATE TABLE movies (\n",
    "    id INT,\n",
    "    name STRING,\n",
    "    release_date DATE\n",
    ")\n",
    "PARTITIONED BY (year INT, month INT)\n",
    "\""
   ]
  },
  {
   "cell_type": "code",
   "execution_count": null,
   "id": "a67ce3d1-87ea-42b0-a0e2-8ad9cbf7ec9f",
   "metadata": {
    "tags": []
   },
   "outputs": [],
   "source": [
    "impala-shell -i \"${IMPALA_HOST}\" -d tables_demo -q \"\n",
    "DESCRIBE EXTENDED movies\n",
    "\""
   ]
  },
  {
   "cell_type": "code",
   "execution_count": null,
   "id": "21c737c5-94c2-4e33-bb40-27f2e825d299",
   "metadata": {
    "tags": []
   },
   "outputs": [],
   "source": [
    "impala-shell -i \"${IMPALA_HOST}\" -d tables_demo -q \"\n",
    "INSERT INTO movies (id, name, release_date, year, month)\n",
    "WITH records AS(\n",
    "    SELECT 1 id, 'Titanic' name, DATE '1997-12-19' release_date UNION\n",
    "    SELECT 2 id, 'Good Will Hunting' name, DATE '1997-12-5' release_date UNION\n",
    "    SELECT 3 id, 'Starship Troopers' name, DATE '1997-11-7' release_date UNION\n",
    "    SELECT 4 id, 'L.A. Confidential' name, DATE '1997-9-19' release_date UNION\n",
    "    SELECT 5 id, 'Gattaca' name, DATE '1997-10-24' release_date UNION\n",
    "    SELECT 6 id, 'Interstellar' name, DATE '2014-10-26' release_date\n",
    ")\n",
    "SELECT id\n",
    "     , name\n",
    "     , release_date\n",
    "     , YEAR(release_date) year\n",
    "     , MONTH(release_date) month\n",
    "  FROM records\n",
    "\""
   ]
  },
  {
   "cell_type": "code",
   "execution_count": null,
   "id": "a8ae2d32-5eef-4b05-9310-dd7c77d33188",
   "metadata": {
    "tags": []
   },
   "outputs": [],
   "source": [
    "impala-shell -i \"${IMPALA_HOST}\" -d tables_demo -q \"\n",
    "SHOW PARTITIONS movies\n",
    "\""
   ]
  },
  {
   "cell_type": "code",
   "execution_count": null,
   "id": "40e41a88-2c19-4cb4-b5e8-78a2622d8614",
   "metadata": {
    "tags": []
   },
   "outputs": [],
   "source": [
    "HOST=${IMPALA_HOST} execute \\\n",
    "find /user/hive/warehouse/managed/tables_demo.db/movies"
   ]
  },
  {
   "cell_type": "markdown",
   "id": "e6d9b854-1383-4f3e-9543-212f6f197e91",
   "metadata": {},
   "source": [
    "#### Партиционирование ускоряет запросы"
   ]
  },
  {
   "cell_type": "markdown",
   "id": "56ae59b0-52af-4c90-9287-000a5f373c3f",
   "metadata": {},
   "source": [
    "Если к таблице выполняются запросы по определенным полям, то имеет смысл использовать эти поля в качестве ключей сегментирования."
   ]
  },
  {
   "cell_type": "markdown",
   "id": "ca61779e-a8f8-49c4-91a0-58b6d1a8cac8",
   "metadata": {
    "tags": []
   },
   "source": [
    "Например, запрос к сегментированой таблице по полю, которое не входит в ключ сегментирования (партиционирования) запускает полное сканирование всех файлов:"
   ]
  },
  {
   "cell_type": "code",
   "execution_count": null,
   "id": "2efd8525-1f3b-45e2-9b69-fbb558e468e4",
   "metadata": {
    "tags": []
   },
   "outputs": [],
   "source": [
    "impala-shell -i \"${IMPALA_HOST}\" -d tables_demo -q \"\n",
    "EXPLAIN\n",
    "SELECT *\n",
    "  FROM movies\n",
    " WHERE name = 'Interstellar'\n",
    "\""
   ]
  },
  {
   "cell_type": "markdown",
   "id": "9fff1da8-4ba8-4803-8025-55a4417524d4",
   "metadata": {
    "tags": []
   },
   "source": [
    "Запрос к сегментированой таблице по полю, которое входит в ключ сегментирования (партиционирования), запускает сканирование только части файлов:"
   ]
  },
  {
   "cell_type": "code",
   "execution_count": null,
   "id": "31aaa75b-4c36-44a9-bac4-531827b524c9",
   "metadata": {
    "tags": []
   },
   "outputs": [],
   "source": [
    "impala-shell -i \"${IMPALA_HOST}\" -d tables_demo -q \"\n",
    "EXPLAIN\n",
    "SELECT *\n",
    "  FROM movies\n",
    " WHERE year = 1997\n",
    "\""
   ]
  },
  {
   "cell_type": "markdown",
   "id": "3153ae94-8d64-43cb-9f2f-71878c70692f",
   "metadata": {},
   "source": [
    "Можно еще сильнее сузить область сканирования, если воспользоваться второй частью ключа партиционирования: "
   ]
  },
  {
   "cell_type": "code",
   "execution_count": null,
   "id": "3bb88163-bf87-49f4-8457-6a2a558fccd6",
   "metadata": {
    "tags": []
   },
   "outputs": [],
   "source": [
    "impala-shell -i \"${IMPALA_HOST}\" -d tables_demo -q \"\n",
    "EXPLAIN\n",
    "SELECT *\n",
    "  FROM movies\n",
    " WHERE year = 1997\n",
    "   AND month = 12\n",
    "\""
   ]
  },
  {
   "cell_type": "markdown",
   "id": "c6bb9c7f-00e5-413f-80bf-60c7ee4a771f",
   "metadata": {},
   "source": [
    "Если сегментов по ключу партиционирования нет, то сканирование файловой системы полностью пропускается:"
   ]
  },
  {
   "cell_type": "code",
   "execution_count": null,
   "id": "7c1e2f0a-63a7-4197-80d5-e6358956080c",
   "metadata": {
    "tags": []
   },
   "outputs": [],
   "source": [
    "impala-shell -i \"${IMPALA_HOST}\" -d tables_demo -q \"\n",
    "EXPLAIN\n",
    "SELECT *\n",
    "  FROM movies\n",
    " WHERE year = -1\n",
    "\""
   ]
  },
  {
   "cell_type": "markdown",
   "id": "19381e9f-2871-498f-a95b-a20617cc0451",
   "metadata": {},
   "source": [
    "При этом поиск данных, которых нет, по полям, которые не входят в ключ партиционирования, вынуждает сканировать все файлы:"
   ]
  },
  {
   "cell_type": "code",
   "execution_count": null,
   "id": "0792259b-5c1a-44c8-a3c3-5b99ee8467a9",
   "metadata": {
    "tags": []
   },
   "outputs": [],
   "source": [
    "impala-shell -i \"${IMPALA_HOST}\" -d tables_demo -q \"\n",
    "EXPLAIN\n",
    "SELECT *\n",
    "  FROM movies\n",
    " WHERE name = 'Interstellar'\n",
    "\""
   ]
  },
  {
   "cell_type": "markdown",
   "id": "388357f6-a68c-4737-ae53-70633ecd46a8",
   "metadata": {},
   "source": [
    "Ислючение файлов из сканирования также возможно, если выполнять запрос по любому полю из ключа сегментирования:"
   ]
  },
  {
   "cell_type": "code",
   "execution_count": null,
   "id": "a4f05093-61fe-47d4-bcba-0c238efd4f27",
   "metadata": {
    "tags": []
   },
   "outputs": [],
   "source": [
    "impala-shell -i \"${IMPALA_HOST}\" -d tables_demo -q \"\n",
    "EXPLAIN\n",
    "SELECT *\n",
    "  FROM movies\n",
    " WHERE month = 10\n",
    "\""
   ]
  },
  {
   "cell_type": "markdown",
   "id": "6459fc66-deb0-4e67-bbe9-793a5d88f18c",
   "metadata": {},
   "source": [
    "#### Вывод"
   ]
  },
  {
   "cell_type": "markdown",
   "id": "c962c19c-2ca7-452c-b922-66556c840d19",
   "metadata": {},
   "source": [
    "1. Сегментирование является одним из самых эффективных способов повышения производительности запроса за счёт снижения числа сканируемых файлов;\n",
    "1. Ключ сегментирования должен быть частью наиболее частых запросов, выполняющихся к таблице по ключу;\n",
    "1. Сегментирование может привести к проблеме небольших файлов;\n",
    "1. При сомнениях необходимо отказаться от сегментирования."
   ]
  },
  {
   "cell_type": "markdown",
   "id": "e588bac6-b616-4d46-966d-dc149f586094",
   "metadata": {
    "tags": []
   },
   "source": [
    "### Формат данных таблицы"
   ]
  },
  {
   "cell_type": "markdown",
   "id": "8394d55d-2d05-4004-992f-6560b82a21bf",
   "metadata": {},
   "source": [
    "Файлы таблицы по умолчанию сохраняются в формате parquet, но можно выбрать свой формат."
   ]
  },
  {
   "cell_type": "markdown",
   "id": "82b1f81d-5846-4b0a-a455-1fd8de979321",
   "metadata": {},
   "source": [
    "Например, следующая таблица сохраняет данные в формате `*.txt`:"
   ]
  },
  {
   "cell_type": "code",
   "execution_count": null,
   "id": "c89f8a93-e8d1-4267-bfe8-c752b95d0723",
   "metadata": {
    "tags": []
   },
   "outputs": [],
   "source": [
    "impala-shell -i \"${IMPALA_HOST}\" -d tables_demo -q \"\n",
    "CREATE TABLE best_songs (\n",
    "    id INT,\n",
    "    name STRING\n",
    ")\n",
    "PARTITIONED BY (country STRING, year INT, month INT)\n",
    "STORED AS TEXTFILE\n",
    "\""
   ]
  },
  {
   "cell_type": "code",
   "execution_count": null,
   "id": "ae6ab600-514f-4bc1-868a-d257378c80b2",
   "metadata": {
    "tags": []
   },
   "outputs": [],
   "source": [
    "impala-shell -i \"${IMPALA_HOST}\" -d tables_demo -q \"\n",
    "INSERT INTO best_songs (id, name, country, year, month)\n",
    "WITH records (id, name, country, year, month) AS (\n",
    "    SELECT 1, 'Easy on Me', 'US', 2022, 1 UNION\n",
    "    SELECT 2, 'We Dont Talk About Bruno', 'US', 2022, 2 UNION\n",
    "    SELECT 3, 'Heat Waves', 'US', 2022, 3 UNION\n",
    "    SELECT 4, 'As It Was', 'US', 2022, 4 UNION\n",
    "    SELECT 5, 'First Class', 'US', 2022, 5\n",
    ")\n",
    "SELECT * FROM records\n",
    "\""
   ]
  },
  {
   "cell_type": "code",
   "execution_count": null,
   "id": "6971337b-309a-48b6-9bd9-705134d7b0e6",
   "metadata": {
    "tags": []
   },
   "outputs": [],
   "source": [
    "impala-shell -i \"${IMPALA_HOST}\" -d tables_demo -q \"\n",
    "SELECT *\n",
    "  FROM best_songs\n",
    "\""
   ]
  },
  {
   "cell_type": "code",
   "execution_count": null,
   "id": "cce83da0-9277-4b3b-8bb7-dd892fe0233c",
   "metadata": {
    "tags": []
   },
   "outputs": [],
   "source": [
    "HOST=${IMPALA_HOST} execute \\\n",
    "find /user/hive/warehouse/managed/tables_demo.db/best_songs"
   ]
  },
  {
   "cell_type": "code",
   "execution_count": null,
   "id": "3e5e22d6-5e1a-49e5-b363-a0deb7837edf",
   "metadata": {
    "tags": []
   },
   "outputs": [],
   "source": [
    "file_name=$(HOST=${IMPALA_HOST:-impala} execute find /user/hive/warehouse/managed/tables_demo.db/best_songs/country=US/year=2022/month=2 -name '*.txt')\n",
    "HOST=${IMPALA_HOST:-impala} execute \\\n",
    "cat \"${file_name}\""
   ]
  },
  {
   "cell_type": "markdown",
   "id": "c7e00ae0-b364-4a2c-9e03-752b55a354fe",
   "metadata": {},
   "source": [
    "#### Вывод"
   ]
  },
  {
   "cell_type": "markdown",
   "id": "278ce239-717d-4e3c-8006-cb5fd91bc1cd",
   "metadata": {},
   "source": [
    "1. Impala позволяет выбрать наиболее приемлемый формат файлов для хранения данных;\n",
    "1. Колоночные форматы файлов (Parquet, ORC) больше подходят для аналитических запросов;\n",
    "1. Строчные форматы файлов (AVRO, TXT) подходят для запросов связанных с разбиением результирующего множества на страницы."
   ]
  },
  {
   "cell_type": "markdown",
   "id": "42fbf6e3-fd5e-426f-9632-587acb66cf3f",
   "metadata": {
    "tags": []
   },
   "source": [
    "### Клонирование таблицы"
   ]
  },
  {
   "cell_type": "markdown",
   "id": "11e079ce-5ce2-413d-9786-858107e98995",
   "metadata": {},
   "source": [
    "Impala позволяет создать таблицу на основе другой таблицы при помощи `CREATE TABLE ... AS SELECT` (`CTAS`):"
   ]
  },
  {
   "cell_type": "code",
   "execution_count": null,
   "id": "8eb4c778-92bd-4789-b919-64ef28597137",
   "metadata": {
    "tags": []
   },
   "outputs": [],
   "source": [
    "impala-shell -i \"${IMPALA_HOST}\" -d tables_demo -q \"\n",
    "CREATE TABLE my_top_songs\n",
    "AS\n",
    "    SELECT id\n",
    "         , name\n",
    "         , year\n",
    "         , month\n",
    "      FROM best_songs\n",
    "\""
   ]
  },
  {
   "cell_type": "code",
   "execution_count": null,
   "id": "55a96a2e-da5c-4692-8f6c-accd83f2463b",
   "metadata": {
    "tags": []
   },
   "outputs": [],
   "source": [
    "impala-shell -i \"${IMPALA_HOST}\" -d tables_demo -q \"\n",
    "DESCRIBE EXTENDED my_top_songs\n",
    "\""
   ]
  },
  {
   "cell_type": "code",
   "execution_count": null,
   "id": "729ef019-fb5d-4055-a1fe-26011fd9b666",
   "metadata": {
    "tags": []
   },
   "outputs": [],
   "source": [
    "impala-shell -i \"${IMPALA_HOST}\" -d tables_demo -q \"\n",
    "SELECT *\n",
    "  FROM my_top_songs\n",
    "\""
   ]
  },
  {
   "cell_type": "code",
   "execution_count": null,
   "id": "4ab7b324-f4d1-4b94-87e1-73063031e8bb",
   "metadata": {
    "tags": []
   },
   "outputs": [],
   "source": [
    "impala-shell -i \"${IMPALA_HOST}\" -d tables_demo -q \"\n",
    "CREATE TABLE my_top_songs_part\n",
    "    PARTITIONED BY (year, month)\n",
    "    COMMENT 'clone of best_songs'\n",
    "    STORED AS PARQUET\n",
    "AS\n",
    "    SELECT id\n",
    "         , name\n",
    "         , year\n",
    "         , month\n",
    "      FROM best_songs\n",
    "\""
   ]
  },
  {
   "cell_type": "code",
   "execution_count": null,
   "id": "89d736d7-23cb-47d7-a06d-bf9d1d02f1d4",
   "metadata": {
    "tags": []
   },
   "outputs": [],
   "source": [
    "impala-shell -i \"${IMPALA_HOST}\" -d tables_demo -q \"\n",
    "SHOW PARTITIONS my_top_songs_part\n",
    "\""
   ]
  },
  {
   "cell_type": "code",
   "execution_count": null,
   "id": "15f0710f-11dd-45f1-95d6-cfb68992cbd8",
   "metadata": {
    "tags": []
   },
   "outputs": [],
   "source": [
    "impala-shell -i \"${IMPALA_HOST}\" -d tables_demo -q \"\n",
    "SELECT *\n",
    "  FROM my_top_songs_part\n",
    "\""
   ]
  },
  {
   "cell_type": "markdown",
   "id": "8ca784a1-c954-4fbd-9265-7354dbb59137",
   "metadata": {},
   "source": [
    "#### Вывод"
   ]
  },
  {
   "cell_type": "markdown",
   "id": "48861262-76ec-4acb-80ef-880100df1593",
   "metadata": {},
   "source": [
    "1. `CTAS` копирует только поля, их типы и данные из таблицы;\n",
    "1. Дополнительную конфигурацию необходимо указывать явно."
   ]
  },
  {
   "cell_type": "markdown",
   "id": "b6bf6f22-3863-40b5-bcc9-6434206e8726",
   "metadata": {},
   "source": [
    "### Статистика"
   ]
  },
  {
   "cell_type": "markdown",
   "id": "ba82697b-a36c-4e83-ae8a-2b3d3fd4274a",
   "metadata": {},
   "source": [
    "Если посмотреть план запроса, то можно заметить, что Impala предупреждает, что для таблицы отсутствует статистика:"
   ]
  },
  {
   "cell_type": "code",
   "execution_count": null,
   "id": "65c04ea1-e12d-4700-935e-42abfbed8aea",
   "metadata": {
    "tags": []
   },
   "outputs": [],
   "source": [
    "impala-shell -i \"${IMPALA_HOST}\" -d tables_demo -q \"\n",
    "EXPLAIN\n",
    "SELECT *\n",
    "  FROM my_top_songs_part\n",
    "\""
   ]
  },
  {
   "cell_type": "markdown",
   "id": "8c61078f-b78f-4f1c-941d-9320ed889ea7",
   "metadata": {},
   "source": [
    "Для корректной работы оптимизатора необходимо регулярно собирать статистику:"
   ]
  },
  {
   "cell_type": "code",
   "execution_count": null,
   "id": "1b9a439e-da00-45bb-9811-f099bb9602c9",
   "metadata": {
    "tags": []
   },
   "outputs": [],
   "source": [
    "impala-shell -i \"${IMPALA_HOST}\" -d tables_demo -q \"\n",
    "COMPUTE STATS my_top_songs_part\n",
    "\""
   ]
  },
  {
   "cell_type": "markdown",
   "id": "448c5250-0b0c-4661-a2d9-113d3005b38e",
   "metadata": {},
   "source": [
    "После сбора статистики Impala не предупреждает о проблемах со статистикой:"
   ]
  },
  {
   "cell_type": "code",
   "execution_count": null,
   "id": "2de80fc1-6c44-4d13-813a-b1226f316257",
   "metadata": {
    "tags": []
   },
   "outputs": [],
   "source": [
    "impala-shell -i \"${IMPALA_HOST}\" -d tables_demo -q \"\n",
    "EXPLAIN\n",
    "SELECT *\n",
    "  FROM my_top_songs_part\n",
    "\""
   ]
  },
  {
   "cell_type": "markdown",
   "id": "f82ee607-c81d-4dc2-b256-11eae1c6dd08",
   "metadata": {},
   "source": [
    "#### Вывод"
   ]
  },
  {
   "cell_type": "markdown",
   "id": "1e4b8835-b419-4fb5-bf0b-0d8ac9011fc6",
   "metadata": {},
   "source": [
    "1. Оптимизатор запросов активно использует статистику для выбора наилучшего плана запроса;\n",
    "1. Чем более свежая статистика доступна, тем точнее оптимизатор может заранее оценить стоимость запроса;\n",
    "1. Устаревшая статистика или ее отсутствие не влияет на полноту результирующего множества;\n",
    "1. Можно использовать cron-задачу для сбора статистики на регулярной основе."
   ]
  },
  {
   "cell_type": "markdown",
   "id": "7ad68707-0de7-4360-b05f-a25589abce40",
   "metadata": {},
   "source": [
    "### Внешние таблицы"
   ]
  },
  {
   "cell_type": "code",
   "execution_count": null,
   "id": "c71b4ec8-a63a-4733-8ed6-18f4ec3fa78f",
   "metadata": {
    "tags": []
   },
   "outputs": [],
   "source": [
    "HOST=${IMPALA_HOST} \\\n",
    "new_file /tmp/external.csv <<EOF\n",
    "1,Hello\n",
    "2,Привет\n",
    "3,Bonjour\n",
    "EOF\n",
    "\n",
    "HOST=${IMPALA_HOST} execute \\\n",
    "cp /tmp/external.csv /user/hive/warehouse/extenal_data/greetings.csv\n",
    "\n",
    "HOST=${IMPALA_HOST} execute \\\n",
    "cat /user/hive/warehouse/extenal_data/greetings.csv"
   ]
  },
  {
   "cell_type": "code",
   "execution_count": null,
   "id": "3e2ede52-67e9-4de2-8d78-534341ba1682",
   "metadata": {
    "tags": []
   },
   "outputs": [],
   "source": [
    "impala-shell -i \"${IMPALA_HOST}\" -d tables_demo -q \"\n",
    "CREATE EXTERNAL TABLE greeting_external_table\n",
    "(\n",
    "    id INT,\n",
    "    name STRING\n",
    ")\n",
    "COMMENT 'External table for greeting on different languages'\n",
    "ROW FORMAT DELIMITED\n",
    "FIELDS TERMINATED BY ','\n",
    "STORED AS TEXTFILE\n",
    "LOCATION '/user/hive/warehouse/extenal_data/';\n",
    "\""
   ]
  },
  {
   "cell_type": "code",
   "execution_count": null,
   "id": "b3e825a3-e5e2-45f2-8d1c-d9cbce30c02d",
   "metadata": {
    "tags": []
   },
   "outputs": [],
   "source": [
    "impala-shell -i \"${IMPALA_HOST}\" -d tables_demo -q \"\n",
    "SELECT *\n",
    "  FROM greeting_external_table\n",
    "\""
   ]
  },
  {
   "cell_type": "code",
   "execution_count": null,
   "id": "877edefd-7d09-4e4b-b022-afb1dfa3ffd6",
   "metadata": {
    "tags": []
   },
   "outputs": [],
   "source": [
    "impala-shell -i \"${IMPALA_HOST}\" -d tables_demo -q \"\n",
    "DESCRIBE FORMATTED greeting_external_table\n",
    "\""
   ]
  },
  {
   "cell_type": "code",
   "execution_count": null,
   "id": "f236f066-ebd7-454a-928c-9b587459b8d7",
   "metadata": {
    "tags": []
   },
   "outputs": [],
   "source": [
    "impala-shell -i \"${IMPALA_HOST}\" -d tables_demo -q \"\n",
    "INSERT INTO greeting_external_table\n",
    "VALUES(4, 'Hallo')\n",
    "\""
   ]
  },
  {
   "cell_type": "code",
   "execution_count": null,
   "id": "e6cb5354-8b71-465a-b211-8ac72683f396",
   "metadata": {
    "tags": []
   },
   "outputs": [],
   "source": [
    "impala-shell -i \"${IMPALA_HOST}\" -d tables_demo -q \"\n",
    "SELECT *\n",
    "  FROM greeting_external_table\n",
    "\""
   ]
  },
  {
   "cell_type": "code",
   "execution_count": null,
   "id": "de85d974-f089-4643-bbc9-3e2b72c7248d",
   "metadata": {
    "tags": []
   },
   "outputs": [],
   "source": [
    "HOST=${IMPALA_HOST} execute \\\n",
    "ls /user/hive/warehouse/extenal_data"
   ]
  },
  {
   "cell_type": "code",
   "execution_count": null,
   "id": "ee8e477c-eaf2-42f3-8fff-a4d912c10c94",
   "metadata": {
    "tags": []
   },
   "outputs": [],
   "source": [
    "file_path=$(HOST=${IMPALA_HOST} execute find /user/hive/warehouse/extenal_data -name '*.txt')\n",
    "\n",
    "HOST=${IMPALA_HOST} execute \\\n",
    "cat ${file_path}"
   ]
  },
  {
   "cell_type": "code",
   "execution_count": null,
   "id": "91320c86-35d1-44c9-bc97-5b0525cc1f8e",
   "metadata": {
    "tags": []
   },
   "outputs": [],
   "source": [
    "impala-shell -i \"${IMPALA_HOST}\" -d tables_demo -q \"\n",
    "DROP TABLE greeting_external_table\n",
    "\""
   ]
  },
  {
   "cell_type": "code",
   "execution_count": null,
   "id": "09ee3e7e-6ded-4319-b170-3caffdf5291e",
   "metadata": {
    "tags": []
   },
   "outputs": [],
   "source": [
    "HOST=${IMPALA_HOST} execute \\\n",
    "ls /user/hive/warehouse/extenal_data/"
   ]
  },
  {
   "cell_type": "markdown",
   "id": "6f8b9714-e5d4-40c1-be58-679e304a46be",
   "metadata": {},
   "source": [
    "#### Вывод"
   ]
  },
  {
   "cell_type": "markdown",
   "id": "b185d3fd-c3df-4abb-bc99-0e44363413a9",
   "metadata": {},
   "source": [
    "1. При помощи внешних таблиц можно загружать данные в Impala;\n",
    "1. Внешние таблицы поддерживают вставку данных, но при этом создается новый файл;\n",
    "1. Удаление внешней таблицы не удаляет файлы, из которых внешняя таблица загружает данные."
   ]
  },
  {
   "cell_type": "markdown",
   "id": "3927a05e-fd02-497c-a71e-b490ad5a9c64",
   "metadata": {},
   "source": [
    "## Вывод"
   ]
  },
  {
   "cell_type": "markdown",
   "id": "a11abf93-74ad-40c8-afd0-d28fb917f489",
   "metadata": {},
   "source": [
    "1. Таблицы в Impala являются обёртками над файлами;\n",
    "1. Таблицы могут хранить данные в разных форматах: Parquet, AVRO, TEXT, и т.д.;\n",
    "1. Таблицы могут быть партиционированными;\n",
    "1. Партиционирование значительно повышает производительность запросов, но при этом партиционированные таблицы могут эффективно работать с определенными видами запросов;\n",
    "1. Impala предлагает традиционный для реляционных баз данных способ клонирования таблицы через `CTAS`: `CREATE TABLE AS SELECT`;\n",
    "1. Статистика сильно помогает оптимизатору при выборе оптимального плана запроса;\n",
    "1. Загрузка данных в Impala возможна через внешние таблицы."
   ]
  },
  {
   "cell_type": "markdown",
   "id": "2e9842ed-ac61-4c5c-887b-00dac5cf0f0c",
   "metadata": {},
   "source": [
    "### Задания"
   ]
  },
  {
   "cell_type": "markdown",
   "id": "d41828a2-9401-474e-bb6b-65040b1e8190",
   "metadata": {},
   "source": [
    "1. Создать таблицу `movies_kinopoisk`, сегментированную по жанру, со списком 10 самых популярных фильмов сайта [kinopoisk](https://www.kinopoisk.ru/lists/movies/top250/). Сохранять данные в формате txt;\n",
    "1. Убедиться, что запросы по жанру к таблице `movies_kinopoisk` сканируют только нужные файлы;\n",
    "1. Собрать статистику по таблице `movies_kinopoisk`;\n",
    "1. Создать клон таблицы `movies_kinopoisk` под названием `movies_kinopoisk_by_year`, которая сохраняет данные в формате parquet и сегментирована по году выпуска фильма;\n",
    "1. Убедиться, что запросы к таблице `movies_kinopoisk_by_year` по году сканируют только нужные файлы;\n",
    "1. Скопировать один из файлов `movies_kinopoisk_by_year` в `/user/hive/warehouse/movie_data` в impala Docker сервис;\n",
    "1. Создать внешнюю таблицу из файла в директории `/user/hive/warehouse/movie_data`."
   ]
  },
  {
   "cell_type": "code",
   "execution_count": null,
   "id": "ae15404c-e123-4e8e-bd26-380f378fd699",
   "metadata": {},
   "outputs": [],
   "source": []
  }
 ],
 "metadata": {
  "kernelspec": {
   "display_name": "Bash",
   "language": "bash",
   "name": "bash"
  },
  "language_info": {
   "codemirror_mode": "shell",
   "file_extension": ".sh",
   "mimetype": "text/x-sh",
   "name": "bash"
  }
 },
 "nbformat": 4,
 "nbformat_minor": 5
}
