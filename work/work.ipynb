{
 "cells": [
  {
   "cell_type": "markdown",
   "id": "3e3422c7-b1dd-471e-bccf-68f6e64cb9ca",
   "metadata": {
    "tags": []
   },
   "source": [
    "# Базовые операции Apache Impala"
   ]
  },
  {
   "cell_type": "markdown",
   "id": "0ca1a452-3b48-4e55-8c06-79378f8c0b7d",
   "metadata": {
    "tags": []
   },
   "source": [
    "## Операции чтения"
   ]
  },
  {
   "cell_type": "markdown",
   "id": "3b0e2865-450d-4eaa-ae3b-b0a7b44cd984",
   "metadata": {},
   "source": [
    "### Определение версии Apache Impala"
   ]
  },
  {
   "cell_type": "code",
   "execution_count": null,
   "id": "eccd1058-b375-420f-8f87-e2513aa8e998",
   "metadata": {
    "tags": []
   },
   "outputs": [],
   "source": [
    "impala-shell -i \"${IMPALA_HOST}\" -q \"\n",
    "select version()\n",
    "\""
   ]
  },
  {
   "cell_type": "markdown",
   "id": "7213d193-4271-4ad4-b0b7-f8ee3a472a32",
   "metadata": {},
   "source": [
    "### Получение списка баз данных"
   ]
  },
  {
   "cell_type": "code",
   "execution_count": null,
   "id": "047db3cc-7460-465d-a47f-76f193d2049a",
   "metadata": {
    "tags": []
   },
   "outputs": [],
   "source": [
    "impala-shell -i \"${IMPALA_HOST}\" -q \"\n",
    "SHOW DATABASES\n",
    "\""
   ]
  },
  {
   "cell_type": "markdown",
   "id": "cb5508c0-8933-429c-97e6-7fa414edce74",
   "metadata": {},
   "source": [
    "Небходимо дождаться, когда базы данных `tpcds_parquet` и `tpcds_raw` станут доступны:"
   ]
  },
  {
   "cell_type": "code",
   "execution_count": null,
   "id": "b86d628b-3404-4830-bd18-67310aefd7cf",
   "metadata": {
    "tags": []
   },
   "outputs": [],
   "source": [
    "impala-shell -i \"${IMPALA_HOST}\" -q \"\n",
    "SHOW DATABASES\n",
    "\" |& grep 'tpcds_raw\\|tpcds_parquet' ||\n",
    "echo \"Базы данных tpcds_raw и tpcds_parquet еще не загружены, пожалуйста подождите\""
   ]
  },
  {
   "cell_type": "markdown",
   "id": "99d502c3-b1a1-46d2-993e-7b5a1d9bf52f",
   "metadata": {
    "tags": []
   },
   "source": [
    "### Получение списка баз данных по шаблону"
   ]
  },
  {
   "cell_type": "code",
   "execution_count": null,
   "id": "87a76c41-81d4-4220-84f5-bbdbf3051c70",
   "metadata": {
    "tags": []
   },
   "outputs": [],
   "source": [
    "impala-shell -i \"${IMPALA_HOST}\" -q \"\n",
    "SHOW DATABASES LIKE '*tpcds*'\n",
    "\""
   ]
  },
  {
   "cell_type": "markdown",
   "id": "0963c2d7-83f9-4624-8cba-ee60d7e66dc4",
   "metadata": {},
   "source": [
    "### Определение текущей базы данных"
   ]
  },
  {
   "cell_type": "code",
   "execution_count": null,
   "id": "e026d39d-33c1-4780-a46e-a11841bdaaba",
   "metadata": {
    "tags": []
   },
   "outputs": [],
   "source": [
    "impala-shell -i \"${IMPALA_HOST}\" -q \"\n",
    "select current_database()\n",
    "\""
   ]
  },
  {
   "cell_type": "markdown",
   "id": "c6564a8c-4f29-4b58-9c9e-9495439fa2f4",
   "metadata": {},
   "source": [
    "### Получение списка таблиц"
   ]
  },
  {
   "cell_type": "code",
   "execution_count": null,
   "id": "b909de67-666d-4093-91b1-28df1b598bea",
   "metadata": {
    "tags": []
   },
   "outputs": [],
   "source": [
    "impala-shell -i \"${IMPALA_HOST}\" -q \"\n",
    "SHOW TABLES\n",
    "\""
   ]
  },
  {
   "cell_type": "markdown",
   "id": "5e167732-8c7a-4719-bea6-e458d76115c8",
   "metadata": {},
   "source": [
    "### Получение списка таблиц в определенной базе данных"
   ]
  },
  {
   "cell_type": "code",
   "execution_count": null,
   "id": "648fdc93-e479-4839-89f2-68c5948c0a94",
   "metadata": {
    "tags": []
   },
   "outputs": [],
   "source": [
    "impala-shell -i \"${IMPALA_HOST}\" -q \"\n",
    "SHOW TABLES IN tpcds_parquet\n",
    "\""
   ]
  },
  {
   "cell_type": "markdown",
   "id": "3af04d30-1993-4a66-82d9-a47d6caa31fe",
   "metadata": {},
   "source": [
    "### Получение списка таблиц по шаблону"
   ]
  },
  {
   "cell_type": "code",
   "execution_count": null,
   "id": "33a1f29b-9617-49b9-a6b6-4c0df814bcb9",
   "metadata": {
    "tags": []
   },
   "outputs": [],
   "source": [
    "impala-shell -i \"${IMPALA_HOST}\" -q \"\n",
    "SHOW TABLES IN tpcds_parquet LIKE 'web*'\n",
    "\""
   ]
  },
  {
   "cell_type": "markdown",
   "id": "b7e061b9-8706-410f-8666-5cabea9ec740",
   "metadata": {
    "tags": []
   },
   "source": [
    "### Получение информации о таблице"
   ]
  },
  {
   "cell_type": "code",
   "execution_count": null,
   "id": "9fca1ef2-9ebf-4e1c-b438-1e073907f34e",
   "metadata": {
    "tags": []
   },
   "outputs": [],
   "source": [
    "impala-shell -i \"${IMPALA_HOST}\" -q \"\n",
    "DESCRIBE tpcds_parquet.web_page\n",
    "\""
   ]
  },
  {
   "cell_type": "markdown",
   "id": "d3761a38-eef1-4018-8452-28fb8b63d231",
   "metadata": {
    "tags": []
   },
   "source": [
    "### Извлечение данных из таблицы"
   ]
  },
  {
   "cell_type": "markdown",
   "id": "118835ca-7a5b-471c-bf2f-eb5f712adc4a",
   "metadata": {},
   "source": [
    "#### Подсчёт числа строк"
   ]
  },
  {
   "cell_type": "code",
   "execution_count": null,
   "id": "c69b3996-1c49-4025-a72c-d6fa09a907c0",
   "metadata": {
    "tags": []
   },
   "outputs": [],
   "source": [
    "impala-shell -i \"${IMPALA_HOST}\" -q \"\n",
    "SELECT count(*)\n",
    "  FROM tpcds_parquet.customer;\n",
    "\""
   ]
  },
  {
   "cell_type": "markdown",
   "id": "88dd53ed-8f72-41f5-aa0a-40728ffcfe5c",
   "metadata": {},
   "source": [
    "#### Подсчёт только уникальных значений"
   ]
  },
  {
   "cell_type": "code",
   "execution_count": null,
   "id": "beb21a0e-43d6-4460-82a1-33088acfd7f3",
   "metadata": {
    "tags": []
   },
   "outputs": [],
   "source": [
    "impala-shell -i \"${IMPALA_HOST}\" -d tpcds_parquet -q \"\n",
    "SELECT count(distinct c_birth_month)\n",
    "  FROM customer\n",
    "\""
   ]
  },
  {
   "cell_type": "markdown",
   "id": "56d94cae-b82b-4c07-a3da-534f7a3a56bf",
   "metadata": {},
   "source": [
    "Существует специальная функция [`NDV`](https://impala.apache.org/docs/build/plain-html/topics/impala_ndv.html#ndv) для подсчета уникальных значений:"
   ]
  },
  {
   "cell_type": "code",
   "execution_count": null,
   "id": "7696f120-c4df-4dff-82bb-300d1b201952",
   "metadata": {
    "tags": []
   },
   "outputs": [],
   "source": [
    "impala-shell -i \"${IMPALA_HOST}\" -d tpcds_parquet -q \"\n",
    "SELECT NDV(c_birth_month)\n",
    "  FROM customer\n",
    "\""
   ]
  },
  {
   "cell_type": "markdown",
   "id": "5cd20f9d-53f2-410b-a4b6-3668ba02cb91",
   "metadata": {},
   "source": [
    "#### Ограничение числа элементов результирующего множества"
   ]
  },
  {
   "cell_type": "code",
   "execution_count": null,
   "id": "bcdd0d7f-6b6c-4b07-943b-bf12742cf839",
   "metadata": {
    "tags": []
   },
   "outputs": [],
   "source": [
    "impala-shell -i \"${IMPALA_HOST}\" -d tpcds_parquet -q \"\n",
    "SELECT distinct c_salutation\n",
    "  FROM customer;\n",
    "\""
   ]
  },
  {
   "cell_type": "code",
   "execution_count": null,
   "id": "d654b7fc-878f-4204-904a-15a52a58b987",
   "metadata": {
    "tags": []
   },
   "outputs": [],
   "source": [
    "impala-shell -i \"${IMPALA_HOST}\" -d tpcds_parquet -q \"\n",
    "SELECT DISTINCT c_salutation\n",
    "  FROM customer\n",
    " LIMIT 3;\n",
    "\""
   ]
  },
  {
   "cell_type": "markdown",
   "id": "3ee0913e-ca49-4159-a19a-c7741786d1a8",
   "metadata": {},
   "source": [
    "### Соединение таблиц"
   ]
  },
  {
   "cell_type": "code",
   "execution_count": null,
   "id": "efbaaf3b-f819-4867-8f22-f7fd0237552b",
   "metadata": {
    "tags": []
   },
   "outputs": [],
   "source": [
    "impala-shell -i \"${IMPALA_HOST}\" -d tpcds_parquet -q \"\n",
    "-- Соединение таблиц customer и customer_address, чтобы узнать текущее место жительства клиента\n",
    "SELECT c.c_first_name, c.c_last_name\n",
    "     , ca_street_name\n",
    "     , ca_suite_number\n",
    "     , ca_city\n",
    "     , ca_state\n",
    "     , ca_country\n",
    "  FROM customer c\n",
    "  JOIN customer_address a\n",
    "    ON (a.ca_address_sk = c.c_current_addr_sk)\n",
    " LIMIT 5\n",
    "\""
   ]
  },
  {
   "cell_type": "markdown",
   "id": "5418e40e-5a90-4b0e-b2a3-37b0cd15bc85",
   "metadata": {
    "tags": []
   },
   "source": [
    "## Операции трансформации"
   ]
  },
  {
   "cell_type": "markdown",
   "id": "29066919-6697-4095-bcdb-8e23a1e0ce5e",
   "metadata": {},
   "source": [
    "### Создание таблицы"
   ]
  },
  {
   "cell_type": "code",
   "execution_count": null,
   "id": "c8c4cb1e-5ecc-4514-bd79-9d6c11f205f1",
   "metadata": {
    "tags": []
   },
   "outputs": [],
   "source": [
    "impala-shell -i \"${IMPALA_HOST}\" -q \"\n",
    "CREATE TABLE my_table (\n",
    "  id INT,\n",
    "  name STRING\n",
    ")\n",
    "\""
   ]
  },
  {
   "cell_type": "markdown",
   "id": "63d8849e-fa8c-476c-9125-88e6ae81e415",
   "metadata": {
    "tags": []
   },
   "source": [
    "### Создание базы данных"
   ]
  },
  {
   "cell_type": "code",
   "execution_count": null,
   "id": "e7a826e3-b646-4e6b-b37b-6165f64453c3",
   "metadata": {
    "tags": []
   },
   "outputs": [],
   "source": [
    "impala-shell -i \"${IMPALA_HOST}\" -q \"\n",
    "CREATE DATABASE my_impala_db\n",
    "\""
   ]
  },
  {
   "cell_type": "markdown",
   "id": "d36bc681-398a-43c9-a94b-f21e7072ba96",
   "metadata": {
    "tags": []
   },
   "source": [
    "### Перемещение таблицы из одной базы данных в другую"
   ]
  },
  {
   "cell_type": "markdown",
   "id": "1d3f4654-05f6-420f-be09-467b6b2ac8e3",
   "metadata": {
    "tags": []
   },
   "source": [
    "#### Получение списка таблиц в новой базе данных"
   ]
  },
  {
   "cell_type": "code",
   "execution_count": null,
   "id": "b5e336b9-2911-4a70-98a1-a7effc7862ba",
   "metadata": {
    "tags": []
   },
   "outputs": [],
   "source": [
    "impala-shell -i \"${IMPALA_HOST}\" -q \"\n",
    "SHOW TABLES in my_impala_db\n",
    "\""
   ]
  },
  {
   "cell_type": "markdown",
   "id": "82684142-2d1e-4473-80ee-3591b4362e9a",
   "metadata": {
    "tags": []
   },
   "source": [
    "#### Перемещение таблицы"
   ]
  },
  {
   "cell_type": "code",
   "execution_count": null,
   "id": "8b1bb4f1-3872-42f8-91f8-426dfc6f862c",
   "metadata": {
    "tags": []
   },
   "outputs": [],
   "source": [
    "impala-shell -i \"${IMPALA_HOST}\" -q \"\n",
    "ALTER TABLE my_table\n",
    "RENAME TO my_impala_db.my_table\n",
    "\""
   ]
  },
  {
   "cell_type": "markdown",
   "id": "1d3a8541-fcfa-4b95-add7-7d99d2de6b08",
   "metadata": {
    "tags": []
   },
   "source": [
    "#### Получение списка таблиц в новой базе данных"
   ]
  },
  {
   "cell_type": "code",
   "execution_count": null,
   "id": "3aee29ce-29d6-4b87-bdfb-244787050f17",
   "metadata": {
    "tags": []
   },
   "outputs": [],
   "source": [
    "impala-shell -i \"${IMPALA_HOST}\" -q \"\n",
    "SHOW TABLES in my_impala_db\n",
    "\""
   ]
  },
  {
   "cell_type": "markdown",
   "id": "164e7f0d-14fa-4094-b49c-f0af061d1030",
   "metadata": {},
   "source": [
    "### Добавление данных в таблицу"
   ]
  },
  {
   "cell_type": "code",
   "execution_count": null,
   "id": "f6530b70-b4b1-432f-8196-70d34989f4f2",
   "metadata": {
    "tags": []
   },
   "outputs": [],
   "source": [
    "impala-shell -i \"${IMPALA_HOST}\" -d my_impala_db -q \"\n",
    "INSERT INTO my_table VALUES\n",
    "(1, 'Hello'),\n",
    "(2, 'Hallo'),\n",
    "(3, 'Hola'),\n",
    "(4, 'Bonjour')\n",
    "\""
   ]
  },
  {
   "cell_type": "markdown",
   "id": "7e73ba60-5e16-4fe7-a5dc-eb7fed72f16c",
   "metadata": {
    "tags": []
   },
   "source": [
    "#### Проверка доступности данных"
   ]
  },
  {
   "cell_type": "code",
   "execution_count": null,
   "id": "857f57d2-a008-4805-a464-0af1b90b422b",
   "metadata": {
    "tags": []
   },
   "outputs": [],
   "source": [
    "impala-shell -i \"${IMPALA_HOST}\" -d my_impala_db -q \"\n",
    "SELECT * FROM my_table\n",
    "\""
   ]
  },
  {
   "cell_type": "markdown",
   "id": "d9255118-cd76-4203-bdf4-76a71d63aeec",
   "metadata": {},
   "source": [
    "### Обновление данных в таблице"
   ]
  },
  {
   "cell_type": "code",
   "execution_count": null,
   "id": "338f0fd0-e9af-47b7-84b0-473602cbf457",
   "metadata": {
    "tags": []
   },
   "outputs": [],
   "source": [
    "impala-shell -i \"${IMPALA_HOST}\" -d my_impala_db -q \"\n",
    "UPDATE my_table\n",
    "   SET name = 'Привет'\n",
    " WHERE id = 1\n",
    "\" || true"
   ]
  },
  {
   "cell_type": "markdown",
   "id": "1ef573f5-67ee-4661-a78d-cf64b0a319c6",
   "metadata": {},
   "source": [
    "Попытка обновления данных заканчивается ошибкой, т.к. обновление данных не поддерживается стандартными средствами Impala."
   ]
  },
  {
   "cell_type": "markdown",
   "id": "a5fe3e2f-0044-4322-bf39-b149415fd177",
   "metadata": {},
   "source": [
    "Данные по ключу `id = 1` остались прежними:"
   ]
  },
  {
   "cell_type": "code",
   "execution_count": null,
   "id": "3e615fb6-87ea-4e1b-a505-3622b192a192",
   "metadata": {
    "tags": []
   },
   "outputs": [],
   "source": [
    "impala-shell -i \"${IMPALA_HOST}\" -d my_impala_db -q \"\n",
    "SELECT *\n",
    "  FROM my_table\n",
    " WHERE id = 1\n",
    "\""
   ]
  },
  {
   "cell_type": "markdown",
   "id": "0d260ee6-8f4d-40f5-aaef-8401d4ff35bf",
   "metadata": {},
   "source": [
    "### Сортировка результирующего множества"
   ]
  },
  {
   "cell_type": "code",
   "execution_count": null,
   "id": "f70427a3-274d-441c-85d6-015f66748fb0",
   "metadata": {
    "tags": []
   },
   "outputs": [],
   "source": [
    "impala-shell -i \"${IMPALA_HOST}\" -d my_impala_db -q \"\n",
    "SELECT *\n",
    "  FROM my_table\n",
    " ORDER BY id DESC\n",
    "\""
   ]
  },
  {
   "cell_type": "markdown",
   "id": "3e4d6958-fb95-4edc-a772-889c55eb2fea",
   "metadata": {
    "tags": []
   },
   "source": [
    "## Агрегация"
   ]
  },
  {
   "cell_type": "code",
   "execution_count": null,
   "id": "f78e9465-c412-44f8-b304-0e13825c3771",
   "metadata": {
    "tags": []
   },
   "outputs": [],
   "source": [
    "impala-shell -i \"${IMPALA_HOST}\" -d tpcds_parquet -q \"\n",
    "SELECT min(c_birth_year) oldest\n",
    "     , max(c_birth_year) youngest\n",
    "     , avg(c_birth_year) average_birth_year\n",
    "     , sum(year(current_date()) - c_birth_year) total_years\n",
    "  FROM customer\n",
    "\""
   ]
  },
  {
   "cell_type": "markdown",
   "id": "4b246d6f-4600-4906-b38e-7938d03d5441",
   "metadata": {},
   "source": [
    "#### Условие на группы"
   ]
  },
  {
   "cell_type": "code",
   "execution_count": null,
   "id": "0c712381-56dc-4fb0-a3da-cc485d130503",
   "metadata": {
    "tags": []
   },
   "outputs": [],
   "source": [
    "impala-shell -i \"${IMPALA_HOST}\" -d tpcds_parquet -q \"\n",
    "SELECT count(*)\n",
    "     , c_birth_day\n",
    "     , c_birth_month\n",
    "     , c_birth_year\n",
    "  FROM customer\n",
    " WHERE c_birth_day IS NOT NULL\n",
    "   AND c_birth_month IS NOT NULL\n",
    "   AND c_birth_year IS NOT NULL\n",
    " GROUP BY c_birth_day, c_birth_month, c_birth_year\n",
    "HAVING count(*) = 1\n",
    " LIMIT 5\n",
    "\""
   ]
  },
  {
   "cell_type": "markdown",
   "id": "d4fbaf5e-b383-4ea2-9b8f-7852861b3ad9",
   "metadata": {},
   "source": [
    "## Вывод"
   ]
  },
  {
   "cell_type": "markdown",
   "id": "fe5183d4-c1ba-445c-8889-5f8f39003342",
   "metadata": {},
   "source": [
    "1. Язык запросов близок к языку запросов ANSI SQL 92, поэтому опытные пользователи традиционных баз данных свободно могут использовать Apache Impala;\n",
    "1. Модификация данных возможна только через `INSERT`;\n",
    "1. Операции `UPDATE` и `DELETE` недоступны по умолчанию, для их использования необходимо использовать Kudu таблицы."
   ]
  },
  {
   "cell_type": "markdown",
   "id": "4d8f5a6e-9585-41f9-a52a-831a0e2580bf",
   "metadata": {},
   "source": [
    "## Задания"
   ]
  },
  {
   "cell_type": "markdown",
   "id": "4f8eb63e-cce8-45ce-aa6f-02dead7d898e",
   "metadata": {},
   "source": [
    "1. Получить версию текущей базы данных;\n",
    "1. Сколько баз данных в вашей Impala?\n",
    "1. Создать базу данных `my_birthday_songs_playlist`;\n",
    "1. Создать таблицы `songs` и `artists`;\n",
    "1. Найти самые популярные песни в день вашего рождения с 0 до 14 лет на сайте [birthdayjams](https://www.birthdayjams.com/) и наполнить ими таблицы `songs` и `artists` данными;\n",
    "1. Вывести список песен вместе с исполнителями в порядке убывания года (более новые песни идут в начале списка);\n",
    "1. Какой товар является самым старым заказом в `tpcds_parquet.store_sales` (время продажи в колонке `ss_sold_time_sk`)?"
   ]
  },
  {
   "cell_type": "markdown",
   "id": "78660433-3a8f-49d5-bf1b-a185e412d1ed",
   "metadata": {},
   "source": [
    "### Ответы"
   ]
  },
  {
   "cell_type": "markdown",
   "id": "a6a26e43-657a-4253-8039-74f3fece6492",
   "metadata": {},
   "source": [
    "1. Получить версию текущей базы данных\n",
    "\n",
    "<details>\n",
    "    <summary>Ответ</summary>\n",
    "\n",
    "```sql\n",
    "select version()\n",
    "```\n",
    "</details>\n",
    "\n",
    "2. Сколько баз данных в вашей Impala?\n",
    "\n",
    "<details>\n",
    "    <summary>Ответ</summary>\n",
    "\n",
    "Необходимо посчитать число записей, которые выводит следующая команда:\n",
    "\n",
    "```bash\n",
    "impala-shell -i \"${IMPALA_HOST}\" -q \"\n",
    "SHOW DATABASES\n",
    "\"\n",
    "```\n",
    "</details>\n",
    "\n",
    "3. Создать базу данных `my_birthday_songs_playlist`:\n",
    "\n",
    "<details>\n",
    "    <summary>Ответ</summary>\n",
    "\n",
    "```bash\n",
    "impala-shell -i \"${IMPALA_HOST}\" -q \"\n",
    "CREATE DATABASE my_birthday_songs_playlist\n",
    "\"\n",
    "```\n",
    "</details>\n",
    "\n",
    "4. Создать таблицы `songs` и `artists`:\n",
    "\n",
    "<details>\n",
    "    <summary>Ответ</summary>\n",
    "\n",
    "```bash\n",
    "impala-shell -i \"${IMPALA_HOST}\" -d my_birthday_songs_playlist -q \"\n",
    "CREATE TABLE songs (\n",
    "  id INT,\n",
    "  year INT,\n",
    "  name STRING,\n",
    "  artist_id INT\n",
    ");\n",
    "\n",
    "CREATE TABLE artists (\n",
    "  id INT,\n",
    "  name STRING\n",
    ");\n",
    "\"\n",
    "```\n",
    "</details>\n",
    "\n",
    "5. Найти самые популярные песни в день вашего рождения с 0 до 14 лет на сайте birthdayjams и наполнить ими таблицы songs и artists данными:\n",
    "\n",
    "<details>\n",
    "    <summary>Ответ</summary>\n",
    "\n",
    "```bash\n",
    "impala-shell -i \"${IMPALA_HOST}\" -d my_birthday_songs_playlist -q \"\n",
    "INSERT INTO songs VALUES\n",
    "(1, 1989, 'Rock On', 1),\n",
    "(2, 1990, 'Vogue', 2);\n",
    "\n",
    "INSERT INTO artists VALUES\n",
    "(1, 'Michael Damian'),\n",
    "(2, 'Madonna');\n",
    "\"\n",
    "```\n",
    "</details>\n",
    "\n",
    "6. Вывести список песен вместе с исполнителями в порядке убывания года (более новые песни идут в начале списка):\n",
    "\n",
    "<details>\n",
    "    <summary>Ответ</summary>\n",
    "\n",
    "```sql\n",
    "SELECT *\n",
    "  FROM songs\n",
    "  JOIN artists\n",
    "    ON (songs.artist_id = artists.id)\n",
    " ORDER BY year DESC\n",
    "```\n",
    "</details>\n",
    "\n",
    "7. Какой товар является самым старым заказом в `tpcds_parquet.store_sales` (время продажи в колонке `ss_sold_time_sk`)?\n",
    "\n",
    "<details>\n",
    "    <summary>Ответ</summary>\n",
    "\n",
    "```sql\n",
    "WITH oldest_sale AS (\n",
    "    SELECT min(ss_sold_time_sk) ss_sold_time_sk\n",
    "      FROM store_sales\n",
    ")\n",
    "SELECT i.i_product_name\n",
    "  FROM item i\n",
    "  JOIN store_sales s ON (s.ss_item_sk = i.i_item_sk)\n",
    " WHERE EXISTS (\n",
    "         SELECT null\n",
    "           FROM oldest_sale o\n",
    "          WHERE s.ss_sold_time_sk = o.ss_sold_time_sk\n",
    "       )\n",
    "```\n",
    "</details>"
   ]
  },
  {
   "cell_type": "code",
   "execution_count": null,
   "id": "929acd4b-852c-4f9c-a1a9-16ac6c27030b",
   "metadata": {},
   "outputs": [],
   "source": []
  }
 ],
 "metadata": {
  "kernelspec": {
   "display_name": "Bash",
   "language": "bash",
   "name": "bash"
  },
  "language_info": {
   "codemirror_mode": "shell",
   "file_extension": ".sh",
   "mimetype": "text/x-sh",
   "name": "bash"
  }
 },
 "nbformat": 4,
 "nbformat_minor": 5
}
