{
 "cells": [
  {
   "cell_type": "markdown",
   "id": "3e3422c7-b1dd-471e-bccf-68f6e64cb9ca",
   "metadata": {
    "tags": []
   },
   "source": [
    "# Загрузка данных в Apache Impala"
   ]
  },
  {
   "cell_type": "markdown",
   "id": "3b0e2865-450d-4eaa-ae3b-b0a7b44cd984",
   "metadata": {
    "tags": []
   },
   "source": [
    "## Подгтовка"
   ]
  },
  {
   "cell_type": "markdown",
   "id": "eac1b2ce-f4ca-4151-aa05-f78648127f1d",
   "metadata": {},
   "source": [
    "### Подготовка HDFS директории"
   ]
  },
  {
   "cell_type": "code",
   "execution_count": null,
   "id": "2292bb82-8670-4ec4-80be-3e6ea02f0ad9",
   "metadata": {
    "tags": []
   },
   "outputs": [],
   "source": [
    "hdfs dfs -mkdir -p /user/hadoop\n",
    "hdfs dfs -chmod -R 777 /user/hadoop\n",
    "hdfs dfs -ls /user"
   ]
  },
  {
   "cell_type": "markdown",
   "id": "243749ad-6154-49a5-9a70-f1879bf7a9a4",
   "metadata": {},
   "source": [
    "### Создание внешних директорий"
   ]
  },
  {
   "cell_type": "code",
   "execution_count": null,
   "id": "a2e4bc9a-9645-41a8-8c09-c3acee74c5df",
   "metadata": {
    "tags": []
   },
   "outputs": [],
   "source": [
    "HOST=${IMPALA_HOST} execute \\\n",
    "mkdir -p /user/hive/warehouse/external_data/{tab1,tab2}"
   ]
  },
  {
   "cell_type": "markdown",
   "id": "070bdb8a-0f44-4382-9644-7f9ff18d9efc",
   "metadata": {
    "tags": []
   },
   "source": [
    "### Создание файлов"
   ]
  },
  {
   "cell_type": "code",
   "execution_count": null,
   "id": "cfa6b00f-a8ef-48df-80a5-1da6bc16567b",
   "metadata": {
    "tags": []
   },
   "outputs": [],
   "source": [
    "HOST=${IMPALA_HOST} \\\n",
    "new_file /tmp/tab1.csv <<EOF\n",
    "1,true,123.123,2012-10-24 08:55:00\n",
    "2,false,1243.5,2012-10-25 13:40:00\n",
    "3,false,24453.325,2008-08-22 09:33:21.123\n",
    "4,false,243423.325,2007-05-12 22:32:21.33454\n",
    "5,true,243.325,1953-04-22 09:11:33\n",
    "EOF\n",
    "\n",
    "HOST=${IMPALA_HOST} execute \\\n",
    "cp /tmp/tab1.csv /user/hive/warehouse/external_data/tab1"
   ]
  },
  {
   "cell_type": "code",
   "execution_count": null,
   "id": "f7adbe3b",
   "metadata": {
    "tags": []
   },
   "outputs": [],
   "source": [
    "HOST=${IMPALA_HOST} execute \\\n",
    "cat /user/hive/warehouse/external_data/tab1/tab1.csv"
   ]
  },
  {
   "cell_type": "code",
   "execution_count": null,
   "id": "18c31bd3",
   "metadata": {
    "tags": []
   },
   "outputs": [],
   "source": [
    "HOST=${IMPALA_HOST} \\\n",
    "new_file /tmp/tab2.csv <<EOF\n",
    "1,true,12789.123\n",
    "2,false,1243.5\n",
    "3,false,24453.325\n",
    "4,false,2423.3254\n",
    "5,true,243.325\n",
    "60,false,243565423.325\n",
    "70,true,243.325\n",
    "80,false,243423.325\n",
    "90,true,243.325\n",
    "EOF\n",
    "\n",
    "HOST=${IMPALA_HOST} execute \\\n",
    "cp /tmp/tab2.csv /user/hive/warehouse/external_data/tab2"
   ]
  },
  {
   "cell_type": "code",
   "execution_count": null,
   "id": "331d06f9-b6f7-4d24-b281-c7be0b72cc2c",
   "metadata": {
    "tags": []
   },
   "outputs": [],
   "source": [
    "HOST=${IMPALA_HOST} execute \\\n",
    "cat /user/hive/warehouse/external_data/tab2/tab2.csv"
   ]
  },
  {
   "cell_type": "markdown",
   "id": "ffcd2483-85a1-42b0-b2f6-9b585aeb76dc",
   "metadata": {},
   "source": [
    "### Создание базы данных"
   ]
  },
  {
   "cell_type": "code",
   "execution_count": null,
   "id": "67d4c04e-a63e-4c99-98cf-6582c3ac9c44",
   "metadata": {
    "tags": []
   },
   "outputs": [],
   "source": [
    "impala-shell -i \"${IMPALA_HOST}\" -q \"\n",
    "DROP DATABASE IF EXISTS loader_demo_db\n",
    "CASCADE\n",
    "\""
   ]
  },
  {
   "cell_type": "code",
   "execution_count": null,
   "id": "019ae3aa-036a-4432-b3af-1bd8b6408b2f",
   "metadata": {
    "tags": []
   },
   "outputs": [],
   "source": [
    "impala-shell -i \"${IMPALA_HOST}\" -q \"\n",
    "CREATE DATABASE loader_demo_db\n",
    "\""
   ]
  },
  {
   "cell_type": "markdown",
   "id": "b2f52923-56b5-45aa-a298-69245d338001",
   "metadata": {
    "tags": []
   },
   "source": [
    "## Загрузка данных через внешнюю таблицу"
   ]
  },
  {
   "cell_type": "markdown",
   "id": "5f9587ea-9dd2-46e7-9c52-236a3e6a40f1",
   "metadata": {},
   "source": [
    "Инструкция `EXTERNAL` означает, что данные находятся за пределами ожидамой Impala директории с данными. Таблицы созданные с инструкцией `EXTERNAL` не владеют файлами: при удалении таблицы, файлы сохраняются на файловой системе.\n",
    "\n",
    "Путь до директории с данными задается через инструкцию `LOCATION`."
   ]
  },
  {
   "cell_type": "code",
   "execution_count": null,
   "id": "1b00354d-b8c6-4599-b127-373db47f5ae7",
   "metadata": {
    "tags": []
   },
   "outputs": [],
   "source": [
    "impala-shell -i \"${IMPALA_HOST}\" -d loader_demo_db -q \"\n",
    "DROP TABLE IF EXISTS tab1_ext;\n",
    "\n",
    "CREATE EXTERNAL TABLE tab1_ext (\n",
    "   id INT,\n",
    "   col_1 BOOLEAN,\n",
    "   col_2 DOUBLE,\n",
    "   col_3 TIMESTAMP\n",
    ")\n",
    "ROW FORMAT DELIMITED FIELDS TERMINATED BY ','\n",
    "STORED AS TEXTFILE\n",
    "LOCATION '/user/hive/warehouse/external_data/tab1';\n",
    "\""
   ]
  },
  {
   "cell_type": "markdown",
   "id": "c8b6ab9d-f55b-4c81-9bde-e6231063072f",
   "metadata": {},
   "source": [
    "Таблица `tab2` является внешней таблицей аналогично таблице `tab1`:"
   ]
  },
  {
   "cell_type": "code",
   "execution_count": null,
   "id": "98323a1e-dd7f-4396-b713-3e67b7bf38a4",
   "metadata": {
    "tags": []
   },
   "outputs": [],
   "source": [
    "impala-shell -i \"${IMPALA_HOST}\" -d loader_demo_db -q \"\n",
    "DROP TABLE IF EXISTS tab2_ext;\n",
    "\n",
    "CREATE EXTERNAL TABLE tab2_ext (\n",
    "   id INT,\n",
    "   col_1 BOOLEAN,\n",
    "   col_2 DOUBLE\n",
    ")\n",
    "ROW FORMAT DELIMITED FIELDS TERMINATED BY ','\n",
    "STORED AS TEXTFILE\n",
    "LOCATION '/user/hive/warehouse/external_data/tab2';\n",
    "\""
   ]
  },
  {
   "cell_type": "markdown",
   "id": "c74f021c-3eba-4f02-9ed3-74e709926470",
   "metadata": {},
   "source": [
    "Таблица `tab3` создается без ключевого слова `EXTERNAL`, следовательно:\n",
    "\n",
    "- `tab3` является управляемой (managed) таблицей,\n",
    "- все данные сохраняются в директорию базы данных Impala,\n",
    "- файлы с данными создаются в директории базы данных Impala после добавления данных в таблицу."
   ]
  },
  {
   "cell_type": "code",
   "execution_count": null,
   "id": "4db307d5-0cf3-4656-a656-5b1fa70d128f",
   "metadata": {
    "tags": []
   },
   "outputs": [],
   "source": [
    "impala-shell -i \"${IMPALA_HOST}\" -d loader_demo_db -q \"\n",
    "DROP TABLE IF EXISTS tab3_managed;\n",
    "\n",
    "CREATE TABLE tab3_managed (\n",
    "   id INT,\n",
    "   col_1 BOOLEAN,\n",
    "   col_2 DOUBLE,\n",
    "   month INT,\n",
    "   day INT\n",
    ")\n",
    "ROW FORMAT DELIMITED FIELDS TERMINATED BY ',';\n",
    "\""
   ]
  },
  {
   "cell_type": "markdown",
   "id": "ffb40eaf-8c88-46dd-a646-171e32e4d7e8",
   "metadata": {},
   "source": [
    "### Описание внешней таблицы"
   ]
  },
  {
   "cell_type": "markdown",
   "id": "9c3ba973-9769-4807-a424-957e8cc0499c",
   "metadata": {},
   "source": [
    "Чтобы понять, является таблица внешней или управляемой, необходимо выполнить `DESCRIBE` команду и найти строку `Table Type`:"
   ]
  },
  {
   "cell_type": "code",
   "execution_count": null,
   "id": "43c3ae71",
   "metadata": {
    "tags": []
   },
   "outputs": [],
   "source": [
    "impala-shell -i \"${IMPALA_HOST}\" -d loader_demo_db -q \"\n",
    "DESCRIBE EXTENDED tab1_ext\n",
    "\""
   ]
  },
  {
   "cell_type": "code",
   "execution_count": null,
   "id": "c203c3ff",
   "metadata": {
    "tags": []
   },
   "outputs": [],
   "source": [
    "impala-shell -i \"${IMPALA_HOST}\" -d loader_demo_db -q \"\n",
    "DESCRIBE EXTENDED tab3_managed\n",
    "\""
   ]
  },
  {
   "cell_type": "markdown",
   "id": "60301e6f-88db-47f9-886d-adc30721b056",
   "metadata": {},
   "source": [
    "### Получение данных"
   ]
  },
  {
   "cell_type": "markdown",
   "id": "24fdd290-433c-476b-84d4-7cab2267c1a5",
   "metadata": {},
   "source": [
    "Для получения данных из внешних таблиц необходимо использовать обычные инструкции `SELECT`:"
   ]
  },
  {
   "cell_type": "code",
   "execution_count": null,
   "id": "461a8057",
   "metadata": {
    "tags": []
   },
   "outputs": [],
   "source": [
    "impala-shell -i \"${IMPALA_HOST}\" -d loader_demo_db -q \"\n",
    "SELECT * FROM tab1_ext\n",
    "\""
   ]
  },
  {
   "cell_type": "code",
   "execution_count": null,
   "id": "120667f2-070d-4a5a-8a19-1a124d60a944",
   "metadata": {
    "tags": []
   },
   "outputs": [],
   "source": [
    "impala-shell -i \"${IMPALA_HOST}\" -d loader_demo_db -q \"\n",
    "SELECT *\n",
    "  FROM tab2_ext\n",
    " LIMIT 5\n",
    "\""
   ]
  },
  {
   "cell_type": "code",
   "execution_count": null,
   "id": "a7bc783d-73f2-4e03-95a8-62a414fced7f",
   "metadata": {
    "tags": []
   },
   "outputs": [],
   "source": [
    "impala-shell -i \"${IMPALA_HOST}\" -d loader_demo_db -q \"\n",
    "SELECT t1.col_1\n",
    "     , COUNT(*)\n",
    "     , MAX(t2.col_2)\n",
    "     , MIN(t2.col_2)\n",
    "  FROM tab2_ext t2\n",
    "  LEFT JOIN tab1_ext t1\n",
    " USING (id)\n",
    " GROUP BY col_1\n",
    " ORDER BY 1\n",
    " LIMIT 5;\n",
    "\""
   ]
  },
  {
   "cell_type": "code",
   "execution_count": null,
   "id": "d0b4b1bb-11e3-4e9a-b58d-bf3de3b9c78f",
   "metadata": {
    "tags": []
   },
   "outputs": [],
   "source": [
    "impala-shell -i \"${IMPALA_HOST}\" -d loader_demo_db -q \"\n",
    "SELECT t2.*\n",
    "  FROM tab2_ext t2,\n",
    "       (\n",
    "           SELECT t1.col_1\n",
    "                , MAX(t2.col_2) AS max_col2\n",
    "             FROM tab2_ext t2\n",
    "                , tab1_ext t1\n",
    "            WHERE t1.id = t2.id\n",
    "            GROUP BY col_1\n",
    "       ) subquery1\n",
    " WHERE subquery1.max_col2 = t2.col_2;\n",
    "\""
   ]
  },
  {
   "cell_type": "markdown",
   "id": "aa2a37b2-5f1f-477e-8905-c2608cb666ce",
   "metadata": {},
   "source": [
    "### Загрузка данных в Apache Impala"
   ]
  },
  {
   "cell_type": "markdown",
   "id": "fa78d78e-6901-49a0-988e-aa378ab11dd2",
   "metadata": {},
   "source": [
    "Для загрузки данных в Apache Impala можно выполнить `INSERT ... SELECT` инструкцию:"
   ]
  },
  {
   "cell_type": "code",
   "execution_count": null,
   "id": "d20f80ed-650c-42ae-9921-fe0c08ad2585",
   "metadata": {
    "tags": []
   },
   "outputs": [],
   "source": [
    "impala-shell -i \"${IMPALA_HOST}\" -d loader_demo_db -q \"\n",
    "SELECT * FROM tab3_managed\n",
    "\""
   ]
  },
  {
   "cell_type": "code",
   "execution_count": null,
   "id": "dcd6fa27-0a1e-405e-949d-cb2930d7dc4d",
   "metadata": {
    "tags": []
   },
   "outputs": [],
   "source": [
    "impala-shell -i \"${IMPALA_HOST}\" -d loader_demo_db -q \"\n",
    "INSERT INTO tab3_managed\n",
    "SELECT id\n",
    "     , col_1\n",
    "     , col_2\n",
    "     , MONTH(col_3)\n",
    "     , DAYOFMONTH(col_3)\n",
    "  FROM tab1_ext\n",
    " WHERE YEAR(col_3) = 2012;\n",
    "\""
   ]
  },
  {
   "cell_type": "code",
   "execution_count": null,
   "id": "13f2a89a-998d-4505-9145-53a98c690718",
   "metadata": {
    "tags": []
   },
   "outputs": [],
   "source": [
    "impala-shell -i \"${IMPALA_HOST}\" -d loader_demo_db -q \"\n",
    "SELECT * FROM tab3_managed\n",
    "\""
   ]
  },
  {
   "cell_type": "markdown",
   "id": "ba6c7294-58ec-4921-922a-db22b01eb180",
   "metadata": {},
   "source": [
    "### Перезапись данных"
   ]
  },
  {
   "cell_type": "markdown",
   "id": "42988349-1c07-479b-bcca-9e03843e2bf5",
   "metadata": {},
   "source": [
    "Перед загрузкой внешних данных в таблицу часто возникает потребность предварительно очистить таблицу."
   ]
  },
  {
   "cell_type": "markdown",
   "id": "46df54d5-be63-4602-81d2-eeea7fa6631e",
   "metadata": {},
   "source": [
    "Традиционно применяется шаблон `TRUNCATE TABLE + INSERT ... SELECT`:"
   ]
  },
  {
   "cell_type": "code",
   "execution_count": null,
   "id": "305b5160-1cde-407d-8226-ec4a073b82d1",
   "metadata": {
    "tags": []
   },
   "outputs": [],
   "source": [
    "impala-shell -i \"${IMPALA_HOST}\" -d loader_demo_db -q \"\n",
    "TRUNCATE TABLE tab3_managed;\n",
    "\n",
    "INSERT INTO tab3_managed\n",
    "SELECT id\n",
    "     , col_1\n",
    "     , col_2\n",
    "     , MONTH(col_3)\n",
    "     , DAYOFMONTH(col_3)\n",
    "  FROM tab1_ext\n",
    " WHERE YEAR(col_3) = 2012;\n",
    "\""
   ]
  },
  {
   "cell_type": "code",
   "execution_count": null,
   "id": "f28c3287-68ab-40cb-bcda-ac5ef68fdc12",
   "metadata": {
    "tags": []
   },
   "outputs": [],
   "source": [
    "impala-shell -i \"${IMPALA_HOST}\" -d loader_demo_db -q \"\n",
    "SELECT * FROM tab3_managed;\n",
    "\""
   ]
  },
  {
   "cell_type": "markdown",
   "id": "b86f6b93-96fe-46f1-ba31-cdbe655ca996",
   "metadata": {},
   "source": [
    "В Apache Impala имеется более удобная конструкцию для подобных случаев:"
   ]
  },
  {
   "cell_type": "code",
   "execution_count": null,
   "id": "1050acd5-021e-4d6e-982a-9d5fa54076fe",
   "metadata": {
    "tags": []
   },
   "outputs": [],
   "source": [
    "impala-shell -i \"${IMPALA_HOST}\" -d loader_demo_db -q \"\n",
    "INSERT OVERWRITE TABLE tab3_managed\n",
    "SELECT id\n",
    "     , col_1\n",
    "     , col_2\n",
    "     , MONTH(col_3)\n",
    "     , DAYOFMONTH(col_3)\n",
    "  FROM tab1_ext\n",
    " WHERE YEAR(col_3) = 2012;\n",
    "\""
   ]
  },
  {
   "cell_type": "code",
   "execution_count": null,
   "id": "cae2a36b-277a-4787-8593-94756478dd21",
   "metadata": {
    "tags": []
   },
   "outputs": [],
   "source": [
    "impala-shell -i \"${IMPALA_HOST}\" -d loader_demo_db -q \"\n",
    "SELECT * FROM tab3_managed;\n",
    "\""
   ]
  },
  {
   "cell_type": "markdown",
   "id": "89ca034e-ffac-49f4-b70e-040174ce2fe8",
   "metadata": {},
   "source": [
    "## Загрузка файлов в управляемые таблицы"
   ]
  },
  {
   "cell_type": "markdown",
   "id": "da873d8d-0387-4353-a251-0aba42923dbe",
   "metadata": {},
   "source": [
    "### Подготовка управляемой таблицы"
   ]
  },
  {
   "cell_type": "code",
   "execution_count": null,
   "id": "3c7c6bcc-7b65-4a3f-90be-e5549f5b1a49",
   "metadata": {
    "tags": []
   },
   "outputs": [],
   "source": [
    "impala-shell -i \"${IMPALA_HOST}\" -d loader_demo_db -q \"\n",
    "DROP TABLE IF EXISTS tab1_managed;\n",
    "\n",
    "CREATE TABLE tab1_managed (\n",
    "   id INT,\n",
    "   col_1 BOOLEAN,\n",
    "   col_2 DOUBLE,\n",
    "   col_3 TIMESTAMP\n",
    ")\n",
    "ROW FORMAT DELIMITED\n",
    "FIELDS TERMINATED BY ','\n",
    "STORED AS TEXTFILE\n",
    "\""
   ]
  },
  {
   "cell_type": "markdown",
   "id": "9800bd36-4e82-4b6f-88f9-cf7d7ab1b50f",
   "metadata": {},
   "source": [
    "### Подготовка внешнего файла на HDFS"
   ]
  },
  {
   "cell_type": "code",
   "execution_count": null,
   "id": "208afb18-5cf4-4ad2-8156-086a926b7201",
   "metadata": {
    "tags": []
   },
   "outputs": [],
   "source": [
    "HOST=${NAMENODE_HOST:-hadoop} \\\n",
    "new_file /tmp/tab1_hdfs.csv < /tmp/tab1.csv\n",
    "\n",
    "hdfs dfs -put -f /tmp/tab1_hdfs.csv /user/hadoop/tab1_hdfs.csv\n",
    "\n",
    "hdfs dfs -cat /user/hadoop/tab1_hdfs.csv"
   ]
  },
  {
   "cell_type": "markdown",
   "id": "5121bd22-1253-4fd9-bda0-024c7793e5b1",
   "metadata": {},
   "source": [
    "### Загрузка данных через Apache Hive"
   ]
  },
  {
   "cell_type": "code",
   "execution_count": null,
   "id": "dc64dbda-6dc5-47b2-a8e6-576259ba282c",
   "metadata": {
    "tags": []
   },
   "outputs": [],
   "source": [
    "HOST=hive \\\n",
    "new_file /tmp/query.sql <<EOF\n",
    "USE loader_demo_db;\n",
    "\n",
    "LOAD DATA INPATH 'hdfs://hadoop:9000/user/hadoop/tab1_hdfs.csv'\n",
    "INTO TABLE tab1_managed;\n",
    "EOF\n",
    "\n",
    "beeline -u 'jdbc:hive2://${HIVE_HOST:-hive}:10000/' -f /tmp/query.sql"
   ]
  },
  {
   "cell_type": "markdown",
   "id": "4bd9e32d-9f92-4fdb-b87a-4d29d3b07a58",
   "metadata": {},
   "source": [
    "### Проверка содержимого таблицы"
   ]
  },
  {
   "cell_type": "code",
   "execution_count": null,
   "id": "142f2e2c-e166-4ade-9e7d-9a7149722832",
   "metadata": {
    "tags": []
   },
   "outputs": [],
   "source": [
    "impala-shell -i \"${IMPALA_HOST}\" -d loader_demo_db -q \"\n",
    "SELECT * FROM tab1_managed\n",
    "\""
   ]
  },
  {
   "cell_type": "markdown",
   "id": "f35c19f3-69b4-44c4-9713-f3cd0ca67b87",
   "metadata": {},
   "source": [
    "### Состояние файловой системы"
   ]
  },
  {
   "cell_type": "markdown",
   "id": "41ac18ce-a5da-4afc-b759-7a0db1862fab",
   "metadata": {
    "tags": []
   },
   "source": [
    "После загрузки файлы пропадают из HDFS:"
   ]
  },
  {
   "cell_type": "code",
   "execution_count": null,
   "id": "759cc130-4744-4d8b-89e5-3a9c03312cb5",
   "metadata": {
    "tags": []
   },
   "outputs": [],
   "source": [
    "hdfs dfs -find /user/hadoop"
   ]
  },
  {
   "cell_type": "markdown",
   "id": "e9c42f9d-3b54-4859-9223-75f6886cd7fd",
   "metadata": {},
   "source": [
    "По факту загруженные файлы _перемещаются_ в директорию базы данных:"
   ]
  },
  {
   "cell_type": "code",
   "execution_count": null,
   "id": "63a00d44-04c5-4160-9adf-6c79a901842e",
   "metadata": {
    "tags": []
   },
   "outputs": [],
   "source": [
    "HOST=hive execute \\\n",
    "find /user/hive/warehouse/managed/loader_demo_db.db/tab1_managed"
   ]
  },
  {
   "cell_type": "markdown",
   "id": "78f04621-19a2-4842-bde4-f414fe597d5a",
   "metadata": {},
   "source": [
    "## Загрузка данных по партициям"
   ]
  },
  {
   "cell_type": "markdown",
   "id": "581b84f8-65c9-44c3-aa03-be1016e3ccab",
   "metadata": {},
   "source": [
    "### Загрузка через внешнюю таблицу"
   ]
  },
  {
   "cell_type": "code",
   "execution_count": null,
   "id": "06234e5c-a513-4bd5-a867-f520f35ec338",
   "metadata": {
    "tags": []
   },
   "outputs": [],
   "source": [
    "impala-shell -i \"${IMPALA_HOST}\" -d loader_demo_db -q \"\n",
    "DROP TABLE IF EXISTS tab_by_year_managed;\n",
    "\n",
    "CREATE TABLE tab_by_year_managed (\n",
    "   id INT,\n",
    "   col_1 BOOLEAN,\n",
    "   col_2 DOUBLE,\n",
    "   col_3 TIMESTAMP\n",
    ")\n",
    "PARTITIONED BY (year INT);\n",
    "\""
   ]
  },
  {
   "cell_type": "code",
   "execution_count": null,
   "id": "3fe58db1-1375-4973-b98c-ad47851351fe",
   "metadata": {
    "tags": []
   },
   "outputs": [],
   "source": [
    "impala-shell -i \"${IMPALA_HOST}\" -d loader_demo_db -q \"\n",
    "INSERT INTO tab_by_year_managed PARTITION(year=2012)\n",
    "SELECT *\n",
    "  FROM tab1_ext\n",
    " WHERE year(col_3) = 2012\n",
    "\""
   ]
  },
  {
   "cell_type": "code",
   "execution_count": null,
   "id": "2fb1030d-293c-456e-af15-72855aa94b45",
   "metadata": {
    "tags": []
   },
   "outputs": [],
   "source": [
    "impala-shell -i \"${IMPALA_HOST}\" -d loader_demo_db -q \"\n",
    "SELECT * FROM tab_by_year_managed\n",
    "\""
   ]
  },
  {
   "cell_type": "markdown",
   "id": "5388b71a-213d-4d26-a97f-48d850020997",
   "metadata": {},
   "source": [
    "### Загрузка через Apache Hive"
   ]
  },
  {
   "cell_type": "code",
   "execution_count": null,
   "id": "26e0d02c-1e8f-416f-b087-2738a5a1e143",
   "metadata": {
    "tags": []
   },
   "outputs": [],
   "source": [
    "impala-shell -i \"${IMPALA_HOST}\" -d loader_demo_db -q \"\n",
    "DROP TABLE IF EXISTS tab_by_year_managed;\n",
    "\n",
    "CREATE TABLE tab_by_year_managed (\n",
    "   id INT,\n",
    "   col_1 BOOLEAN,\n",
    "   col_2 DOUBLE,\n",
    "   col_3 TIMESTAMP\n",
    ")\n",
    "PARTITIONED BY (year INT)\n",
    "ROW FORMAT DELIMITED\n",
    "FIELDS TERMINATED BY ','\n",
    "STORED AS TEXTFILE\n",
    "\""
   ]
  },
  {
   "cell_type": "markdown",
   "id": "f0f40339-26c3-44fd-9b5a-50f7418e6bb7",
   "metadata": {},
   "source": [
    "### Подготовка внешних файлов"
   ]
  },
  {
   "cell_type": "markdown",
   "id": "c18bc09d-66a2-4b2e-b974-d4a1686f0ec5",
   "metadata": {},
   "source": [
    "Подготовка файла для 2012 года:"
   ]
  },
  {
   "cell_type": "code",
   "execution_count": null,
   "id": "75065846-d777-4ddd-928b-8a80cd0e0c15",
   "metadata": {
    "tags": []
   },
   "outputs": [],
   "source": [
    "HOST=${NAMENODE_HOST:-hadoop} \\\n",
    "new_file /tmp/tab_2012_hdfs.csv <<EOF\n",
    "1,true,123.123,2012-10-24 08:55:00\n",
    "2,false,1243.5,2012-10-25 13:40:00\n",
    "EOF\n",
    "\n",
    "hdfs dfs -mkdir -p /user/hadoop/tab_by_year_managed/year=2012\n",
    "\n",
    "hdfs dfs -put -f /tmp/tab_2012_hdfs.csv /user/hadoop/tab_by_year_managed/year=2012\n",
    "\n",
    "hdfs dfs -cat /user/hadoop/tab_by_year_managed/year=2012/tab_2012_hdfs.csv"
   ]
  },
  {
   "cell_type": "markdown",
   "id": "c6bba7ce-c546-405e-94fb-02dd30626118",
   "metadata": {},
   "source": [
    "Подготовка файлов для 2008 года:"
   ]
  },
  {
   "cell_type": "code",
   "execution_count": null,
   "id": "879d2eee-82fc-4d12-9739-6310d94e2d07",
   "metadata": {
    "tags": []
   },
   "outputs": [],
   "source": [
    "HOST=${NAMENODE_HOST:-hadoop} \\\n",
    "new_file /tmp/tab_2008_june_hdfs.csv <<EOF\n",
    "3,false,44453.325,2008-06-22 09:33:21.123\n",
    "4,true,3413423.325,2008-06-12 22:32:21.33454\n",
    "EOF\n",
    "\n",
    "hdfs dfs -mkdir -p /user/hadoop/tab_by_year_managed/year=2008\n",
    "\n",
    "hdfs dfs -put -f /tmp/tab_2008_june_hdfs.csv /user/hadoop/tab_by_year_managed/year=2008\n",
    "\n",
    "hdfs dfs -cat /user/hadoop/tab_by_year_managed/year=2008/tab_2008_june_hdfs.csv"
   ]
  },
  {
   "cell_type": "code",
   "execution_count": null,
   "id": "2e61a7fd-e1d6-4c23-ae26-e98d37bfe8f4",
   "metadata": {
    "tags": []
   },
   "outputs": [],
   "source": [
    "HOST=${NAMENODE_HOST:-hadoop} \\\n",
    "new_file /tmp/tab_2008_dec_hdfs.csv <<EOF\n",
    "5,true,453.325,2008-12-21 19:13:01.123\n",
    "6,false,1453.325,2008-12-5 02:14:42.33454\n",
    "EOF\n",
    "\n",
    "hdfs dfs -mkdir -p /user/hadoop/tab_by_year_managed/year=2008\n",
    "\n",
    "hdfs dfs -put -f /tmp/tab_2008_dec_hdfs.csv /user/hadoop/tab_by_year_managed/year=2008\n",
    "\n",
    "hdfs dfs -cat /user/hadoop/tab_by_year_managed/year=2008/tab_2008_dec_hdfs.csv"
   ]
  },
  {
   "cell_type": "markdown",
   "id": "9334d877-c8c0-4f94-8f56-7e7baba093fc",
   "metadata": {},
   "source": [
    "Таким образом, появились два файла за 2008 год и один файл за 2012 год:"
   ]
  },
  {
   "cell_type": "code",
   "execution_count": null,
   "id": "ccd423d6-fe6f-4ed3-86d9-feec8fc15353",
   "metadata": {
    "tags": []
   },
   "outputs": [],
   "source": [
    "hdfs dfs -find /user/hadoop/tab_by_year_managed"
   ]
  },
  {
   "cell_type": "markdown",
   "id": "527b1c8d-70c0-4436-be07-903419f3b979",
   "metadata": {},
   "source": [
    "Таблица `tab_by_year_managed` управляемая, поэтому у нее нет ни одного файла в директории с базой данных:"
   ]
  },
  {
   "cell_type": "code",
   "execution_count": null,
   "id": "b89a95f3-0ed3-4062-9525-d0b9fa2fa9d4",
   "metadata": {
    "tags": []
   },
   "outputs": [],
   "source": [
    "HOST=${IMPALA_HOST} execute \\\n",
    "find /user/hive/warehouse/managed/loader_demo_db.db/tab_by_year_managed"
   ]
  },
  {
   "cell_type": "code",
   "execution_count": null,
   "id": "6d26a420-e4cd-41a0-84b3-3e1c15ef2cfe",
   "metadata": {
    "tags": []
   },
   "outputs": [],
   "source": [
    "HOST=hive \\\n",
    "new_file /tmp/query.sql <<EOF\n",
    "USE loader_demo_db;\n",
    "\n",
    "LOAD DATA INPATH 'hdfs://hadoop:9000/user/hadoop/tab_by_year_managed/year=2012'\n",
    "OVERWRITE INTO TABLE tab_by_year_managed PARTITION(year=2012);\n",
    "\n",
    "LOAD DATA INPATH 'hdfs://hadoop:9000/user/hadoop/tab_by_year_managed/year=2008'\n",
    "INTO TABLE tab_by_year_managed PARTITION(year=2008);\n",
    "EOF\n",
    "\n",
    "beeline -u 'jdbc:hive2://${HIVE_HOST:-hive}:10000/' -f /tmp/query.sql"
   ]
  },
  {
   "cell_type": "code",
   "execution_count": null,
   "id": "72a25204-2a12-49da-ba61-b90aa94d5aa0",
   "metadata": {
    "tags": []
   },
   "outputs": [],
   "source": [
    "impala-shell -i \"${IMPALA_HOST}\" -d loader_demo_db -q \"\n",
    "SELECT * FROM tab_by_year_managed;\n",
    "\""
   ]
  },
  {
   "cell_type": "markdown",
   "id": "68190fe6-8c03-4f4d-a02c-8efeb0b93cdc",
   "metadata": {},
   "source": [
    "Загруженные файлы (ожидаемо) пропали с HDFS:"
   ]
  },
  {
   "cell_type": "code",
   "execution_count": null,
   "id": "eccbd538-7225-4207-9a52-1984f81f8117",
   "metadata": {
    "tags": []
   },
   "outputs": [],
   "source": [
    "hdfs dfs -find /user/hadoop/tab_by_year_managed"
   ]
  },
  {
   "cell_type": "markdown",
   "id": "9ee0a536-15ab-4069-bf57-cdbc15e9addd",
   "metadata": {},
   "source": [
    "Загруженные файлы были перемещены в директорию с базой данных:"
   ]
  },
  {
   "cell_type": "code",
   "execution_count": null,
   "id": "08f08f20-b6dd-4563-984b-79fcea7a469d",
   "metadata": {
    "tags": []
   },
   "outputs": [],
   "source": [
    "HOST=${IMPALA_HOST} execute \\\n",
    "find /user/hive/warehouse/managed/loader_demo_db.db/tab_by_year_managed"
   ]
  },
  {
   "cell_type": "markdown",
   "id": "e4a0d070-6173-49e0-93c3-3418a983befb",
   "metadata": {},
   "source": [
    "## Выводы"
   ]
  },
  {
   "cell_type": "markdown",
   "id": "003a45b8-4b4f-4886-a25b-7ecda768f2cf",
   "metadata": {},
   "source": [
    "1. Apache Impala позволяет загрузить данные из файлов в базу данных при помощи внешней таблицы;\n",
    "1. Внешняя таблица не владеет файлом, при удалении внешней таблицы, файлы остаются нетронутыми;\n",
    "1. Apache Hive также можно использовать для загрузки данных из файлов в базу данных;\n",
    "1. Загружать файлы можно как в обычные таблицы, так и сегментированные;\n",
    "1. Загрузка в сегментированную таблицу через Apache Hive выполняется по одной партиции за раз;\n",
    "1. Загрузка через Apache Hive перемещает файлы из источника в директорию базы данных."
   ]
  },
  {
   "cell_type": "markdown",
   "id": "8849aef6-886e-4724-9967-8ee8333cf0a1",
   "metadata": {},
   "source": [
    "### Задания"
   ]
  },
  {
   "cell_type": "markdown",
   "id": "d456e3d0-2c9c-436c-9d57-7717f0197200",
   "metadata": {},
   "source": [
    "1. Создать текстовый файл `aston-martin-200x.csv` со списком марок автомобилей Aston Martin, [выпускавшихся с 2001 по 2010 год](https://en.wikipedia.org/wiki/Aston_Martin#Post-war_cars):\n",
    "    - разделитель: `|`\n",
    "    - схема: `id, name, year`\n",
    "1. Создать внешнюю таблицу `cars_ext`, которая загружает файл `aston-martin-200x.csv`;\n",
    "1. Создать таблицу `cars_managed`:\n",
    "    - схема: `id, name`\n",
    "    - сегментирование: `year`\n",
    "1. Загрузить данные из `cars_ext` в `cars_managed` через `INSERT SELECT`;\n",
    "1. Загрузить данные из `aston-martin-200x.csv` в `cars_managed` через `LOAD DATA`. Убедиться в отсутствии дубликатов."
   ]
  },
  {
   "cell_type": "code",
   "execution_count": null,
   "id": "036f7daa-de37-4a04-a81b-6e2f4bbd4657",
   "metadata": {},
   "outputs": [],
   "source": []
  }
 ],
 "metadata": {
  "kernelspec": {
   "display_name": "Bash",
   "language": "bash",
   "name": "bash"
  },
  "language_info": {
   "codemirror_mode": "shell",
   "file_extension": ".sh",
   "mimetype": "text/x-sh",
   "name": "bash"
  }
 },
 "nbformat": 4,
 "nbformat_minor": 5
}
